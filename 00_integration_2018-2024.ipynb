{
 "cells": [
  {
   "cell_type": "code",
   "execution_count": 1,
   "id": "67d692cf-432e-4594-958a-ea38ba08c712",
   "metadata": {},
   "outputs": [],
   "source": [
    "import os, requests, time"
   ]
  },
  {
   "cell_type": "code",
   "execution_count": 2,
   "id": "7415d360-1ea4-45fb-8d1a-5df381f54b3d",
   "metadata": {},
   "outputs": [],
   "source": [
    "from bs4 import BeautifulSoup\n",
    "from selenium import webdriver\n",
    "from selenium.common.exceptions import WebDriverException\n",
    "from urllib.parse import urlparse, urljoin\n",
    "import csv\n",
    "import pandas as pd"
   ]
  },
  {
   "cell_type": "markdown",
   "id": "a579c8ec-a0fc-47cb-92e6-b32ccd435b6d",
   "metadata": {},
   "source": [
    "## Make lists of URLs per country"
   ]
  },
  {
   "cell_type": "markdown",
   "id": "6a0d678d-b524-462d-a673-4d5b0bd0c810",
   "metadata": {},
   "source": [
    "### NL"
   ]
  },
  {
   "cell_type": "code",
   "execution_count": 3,
   "id": "83af802b-c0c7-496a-be35-c44bb197347f",
   "metadata": {},
   "outputs": [],
   "source": [
    "nl_files_list = os.listdir(\"../met-naam-2018/castles-netherlands/\")"
   ]
  },
  {
   "cell_type": "code",
   "execution_count": 79,
   "id": "01e6284d-b797-48bd-84d4-e483cb6328d4",
   "metadata": {},
   "outputs": [],
   "source": [
    "dchar_domain_extenstions = ['net','org','com','top']\n",
    "nl_urls_div = [link[:-4] for link in nl_files_list if link.endswith('.txt') and link[-7:-4] in dchar_domain_extenstions]\n",
    "nl_urls_div = ['https://www.'+link[:-3] + '.' + link[-3:] for link in nl_urls_div]\n",
    "\n",
    "nl_urls_nl = ['https://www.'+item[:-6]+'.'+item.rstrip('.txt')[-2:] for item in nl_files_list]\n",
    "\n",
    "nl_urls = nl_urls_div + nl_urls_nl"
   ]
  },
  {
   "cell_type": "code",
   "execution_count": 80,
   "id": "68d6786d-0a69-4d5e-b161-c51820ff28d0",
   "metadata": {},
   "outputs": [
    {
     "name": "stdout",
     "output_type": "stream",
     "text": [
      "58 ['https://www.artlandt.op']\n"
     ]
    }
   ],
   "source": [
    "print(len(nl_urls), nl_urls[-1:])"
   ]
  },
  {
   "cell_type": "code",
   "execution_count": 82,
   "id": "71fcf24f-4a4a-4aec-b788-56a96484720a",
   "metadata": {},
   "outputs": [
    {
     "data": {
      "text/plain": [
       "['https://www.slotzuylen.nl',\n",
       " 'https://www.kasteelgeldrop.nl',\n",
       " 'https://www.fraeylemaborg.nl',\n",
       " 'https://www.slotloevestein.nl',\n",
       " 'https://www.museumijsselstein.nl',\n",
       " 'https://www.twickel.nl',\n",
       " 'https://www.kasteelduivenvoorde.nl',\n",
       " 'https://www.huystendonck.nl',\n",
       " 'https://www.kasteeldussen.nl',\n",
       " 'https://www.huisbergh.nl']"
      ]
     },
     "execution_count": 82,
     "metadata": {},
     "output_type": "execute_result"
    }
   ],
   "source": [
    "nl_urls[10:20]"
   ]
  },
  {
   "cell_type": "code",
   "execution_count": 19,
   "id": "aefaf4b4-ea06-439b-82bd-a84acef840d5",
   "metadata": {},
   "outputs": [
    {
     "name": "stdout",
     "output_type": "stream",
     "text": [
      "58 ['https://www.artlandt.op']\n"
     ]
    }
   ],
   "source": [
    "print(len(nl_urls), nl_urls[-1:])"
   ]
  },
  {
   "cell_type": "code",
   "execution_count": 21,
   "id": "54ac626b-e5b6-4f5e-8d1c-61186ee6893c",
   "metadata": {},
   "outputs": [],
   "source": [
    "# optional: save this list as a csv file\n",
    "df_nl = pd.DataFrame(data={\"NL domain\": nl_urls})\n",
    "df_nl.to_csv(\"../url_lists/nl_urls.csv\", sep=',',index=False)"
   ]
  },
  {
   "cell_type": "markdown",
   "id": "b345d1b0-8760-44a3-ae0a-b59c0fe53072",
   "metadata": {},
   "source": [
    "### FR"
   ]
  },
  {
   "cell_type": "code",
   "execution_count": 179,
   "id": "1e558de3-3b82-48c6-9b32-27bd62bb803f",
   "metadata": {},
   "outputs": [
    {
     "data": {
      "text/plain": [
       "92"
      ]
     },
     "execution_count": 179,
     "metadata": {},
     "output_type": "execute_result"
    }
   ],
   "source": [
    "fr_files_list = os.listdir(\"../met-naam-2018/castles-france/\")\n",
    "len(fr_files_list)"
   ]
  },
  {
   "cell_type": "code",
   "execution_count": 180,
   "id": "b76c5d41-6099-46b2-8810-c878bdb657b8",
   "metadata": {},
   "outputs": [
    {
     "name": "stdout",
     "output_type": "stream",
     "text": [
      "91\n"
     ]
    }
   ],
   "source": [
    "domain_extensions = ['com', 'net', 'org', 'bzh']\n",
    "fr_urls_div = [link[:-4] for link in fr_files_list if link.endswith('.txt') and link[-7:-4] in domain_extensions]\n",
    "fr_urls_div = ['http://www.'+link[:-3] + '.' + link[-3:] for link in fr_urls_div]\n",
    "\n",
    "\n",
    "fr_urls_fr = [link[:-4] for link in fr_files_list if link.endswith('.txt') and link[-6:-4]== 'fr']\n",
    "fr_urls_fr = ['http://www.'+link[:-2] + '.' + link[-2:] for link in fr_urls_fr]\n",
    "\n",
    "#catch the unusual .corsica domains\n",
    "fr_urls_corsica = [link[:-4] for link in fr_files_list if link.endswith('.txt') and link[-11:-4]== 'corsica']\n",
    "fr_urls_corsica = ['http://'+link[:-7] + '.' + link[-7:] for link in fr_urls_corsica]\n",
    "\n",
    "fr_urls = fr_urls_div + fr_urls_fr + fr_urls_corsica\n",
    "print(len(fr_urls))"
   ]
  },
  {
   "cell_type": "code",
   "execution_count": 181,
   "id": "891edf82-d14d-4fe7-84ba-ae79e0c9453c",
   "metadata": {},
   "outputs": [],
   "source": [
    "# optional: save this list as a csv file\n",
    "df_fr = pd.DataFrame(data={\"FR domain\": fr_urls})\n",
    "df_fr.to_csv(\"../url_lists/fr_urls.csv\", sep=',',index=False)\n",
    "#with pd.option_context('display.max_rows', None, 'display.max_columns', None):\n",
    "#    print (df_fr)"
   ]
  },
  {
   "cell_type": "markdown",
   "id": "349ec20d-7273-4ac3-8ff3-65a5b4ee5195",
   "metadata": {},
   "source": [
    "### DE"
   ]
  },
  {
   "cell_type": "code",
   "execution_count": 185,
   "id": "79fc9f4c-431e-42e9-8b7d-fc626de6d635",
   "metadata": {},
   "outputs": [
    {
     "data": {
      "text/plain": [
       "90"
      ]
     },
     "execution_count": 185,
     "metadata": {},
     "output_type": "execute_result"
    }
   ],
   "source": [
    "de_files_list = os.listdir(\"../met-naam-2018/castles-germany/\")\n",
    "len(de_files_list)"
   ]
  },
  {
   "cell_type": "code",
   "execution_count": 186,
   "id": "9a19f536-022c-4aff-adcd-831ba006c570",
   "metadata": {},
   "outputs": [
    {
     "name": "stdout",
     "output_type": "stream",
     "text": [
      "90\n"
     ]
    }
   ],
   "source": [
    "dchar_domain_extenstions = ['net','org','com']\n",
    "de_urls_div = [link[:-4] for link in de_files_list if link.endswith('.txt') and link[-7:-4] in dchar_domain_extenstions]\n",
    "de_urls_div = ['http://www.'+link[:-3] + '.' + link[-3:] for link in de_urls_div]\n",
    "\n",
    "cchar_domain_extensions = ['de','nl','eu']\n",
    "de_urls_de = [link[:-4] for link in de_files_list if link.endswith('.txt') and link[-6:-4] in cchar_domain_extensions]\n",
    "de_urls_de = ['http://www.'+link[:-2] + '.' + link[-2:] for link in de_urls_de]\n",
    "\n",
    "#catch the .info domain\n",
    "de_urls_info = [link[:-4] for link in de_files_list if link.endswith('.txt') and link[-8:-4]== 'info']\n",
    "de_urls_info = ['http://'+link[:-4] + '.' + link[-4:] for link in de_urls_info]\n",
    "\n",
    "de_urls = de_urls_div + de_urls_de + de_urls_info\n",
    "print(len(de_urls))"
   ]
  },
  {
   "cell_type": "code",
   "execution_count": 191,
   "id": "b816047d-0cf9-420c-8311-f1dfb095c59d",
   "metadata": {},
   "outputs": [],
   "source": [
    "# optional: save this list as a csv file\n",
    "df_de = pd.DataFrame(data={\"DE domain\": de_urls})\n",
    "df_de.to_csv(\"../de_urls.csv\", sep=',',index=False)\n",
    "#with pd.option_context('display.max_rows', None, 'display.max_columns', None):\n",
    "#    print (df_de)"
   ]
  },
  {
   "cell_type": "markdown",
   "id": "732b2dd2-e50e-446c-9ece-a11cf05ceca6",
   "metadata": {},
   "source": [
    "### UK"
   ]
  },
  {
   "cell_type": "code",
   "execution_count": 229,
   "id": "6d382742-9d5e-474b-a4d3-62812672da18",
   "metadata": {},
   "outputs": [
    {
     "data": {
      "text/plain": [
       "76"
      ]
     },
     "execution_count": 229,
     "metadata": {},
     "output_type": "execute_result"
    }
   ],
   "source": [
    "uk_files_list = os.listdir(\"../met-naam-2018/castles-united-kingdom/\")\n",
    "len(uk_files_list)"
   ]
  },
  {
   "cell_type": "code",
   "execution_count": 230,
   "id": "6824e2cb-efee-4cb3-b933-915846b80fa9",
   "metadata": {},
   "outputs": [
    {
     "name": "stdout",
     "output_type": "stream",
     "text": [
      "76\n"
     ]
    }
   ],
   "source": [
    "dchar_domain_extenstions = ['net','org','com']\n",
    "uk_urls_div = [link[:-4] for link in uk_files_list if link.endswith('.txt') and link[-7:-4] in dchar_domain_extenstions]\n",
    "uk_urls_div = ['https://www.'+link[:-3] + '.' + link[-3:] for link in uk_urls_div]\n",
    "\n",
    "cchar_domain_extensions_5 = ['govuk','orguk']\n",
    "uk_urls_gov = [link[:-4] for link in uk_files_list if link.endswith('.txt') and link[-9:-4] in cchar_domain_extensions_5]\n",
    "uk_urls_gov = ['https://www.'+link[:-5] + '.' + link[-5:-2] + '.' + link[-2:] for link in uk_urls_gov]\n",
    "\n",
    "cchar_domain_extensions_4 = ['couk','acuk']\n",
    "uk_urls_co = [link[:-4] for link in uk_files_list if link.endswith('.txt') and link[-8:-4] in cchar_domain_extensions_4]\n",
    "uk_urls_co = ['https://www.'+link[:-4] + '.' + link[-4:-2] + '.' + link[-2:] for link in uk_urls_co]\n",
    "\n",
    "uk_urls = uk_urls_div + uk_urls_gov + uk_urls_co + ['https://www.hemyockcastle.uk']\n",
    "print(len(uk_urls))"
   ]
  },
  {
   "cell_type": "code",
   "execution_count": 232,
   "id": "4fa2c62d-05b4-4427-ab93-32992951a72a",
   "metadata": {},
   "outputs": [],
   "source": [
    "# optional: save this list as a csv file\n",
    "df_uk = pd.DataFrame(data={\"UK domain\": uk_urls})\n",
    "df_uk.to_csv(\"../uk_urls.csv\", sep=',',index=False)\n",
    "#with pd.option_context('display.max_rows', None, 'display.max_columns', None):\n",
    "#    print (df_uk)"
   ]
  },
  {
   "cell_type": "markdown",
   "id": "4e134678-38eb-4643-b96f-fcc488c7825f",
   "metadata": {},
   "source": [
    "## URL Check up functions "
   ]
  },
  {
   "cell_type": "code",
   "execution_count": 5,
   "id": "3d9b2b31-fe92-496d-9f27-7f14d1b1b9dc",
   "metadata": {
    "scrolled": true
   },
   "outputs": [],
   "source": [
    "def check_url(url):\n",
    "    try:\n",
    "        response = requests.get(url)\n",
    "        if response.status_code == 200:\n",
    "            print(0)\n",
    "        else:\n",
    "            print(f\"The URL '{url}' is unreachable. Status code: {response.status_code}\")\n",
    "    except requests.ConnectionError:\n",
    "        print(f\"The URL '{url}' is unreachable.\")"
   ]
  },
  {
   "cell_type": "code",
   "execution_count": 6,
   "id": "afbe9a43-a421-40ca-8c2f-1719b953188d",
   "metadata": {},
   "outputs": [],
   "source": [
    "cc = 'FR'"
   ]
  },
  {
   "cell_type": "code",
   "execution_count": 8,
   "id": "96ce5aa3-2f42-48b8-93f9-4a2376ea7ab1",
   "metadata": {},
   "outputs": [
    {
     "name": "stdout",
     "output_type": "stream",
     "text": [
      "The URL 'https://www.la-hunaudaye.com/' is unreachable. Status code: 403\n",
      "0\n",
      "0\n",
      "The URL 'https://www.chateau-eaucourt.com' is unreachable. Status code: 429\n",
      "0\n",
      "0\n",
      "0\n",
      "0\n",
      "0\n",
      "0\n",
      "0\n",
      "0\n",
      "0\n",
      "0\n",
      "0\n",
      "0\n",
      "0\n",
      "0\n",
      "0\n",
      "0\n",
      "0\n",
      "0\n",
      "The URL 'https://www.chateau-pirou.fr/' is unreachable. Status code: 410\n",
      "0\n",
      "0\n",
      "0\n",
      "0\n",
      "0\n",
      "0\n",
      "0\n",
      "0\n",
      "0\n",
      "0\n",
      "The URL 'https://www.chateau-picquigny.com' is unreachable. Status code: 429\n",
      "The URL 'https://www.chateau-bazoches.com' is unreachable.\n",
      "0\n",
      "0\n",
      "0\n",
      "0\n",
      "0\n",
      "0\n",
      "0\n",
      "The URL 'https://www.chateau-malbrouck.com' is unreachable.\n",
      "0\n",
      "0\n",
      "0\n",
      "The URL 'https://www.chateau-de-la-rochepot.com' is unreachable.\n",
      "0\n",
      "0\n",
      "0\n",
      "0\n",
      "0\n",
      "0\n",
      "0\n",
      "0\n",
      "0\n",
      "The URL 'https://www.chateaugavray.fr' is unreachable. Status code: 555\n",
      "0\n",
      "0\n",
      "0\n",
      "0\n",
      "0\n",
      "0\n",
      "0\n",
      "0\n",
      "0\n",
      "0\n",
      "0\n",
      "0\n",
      "0\n",
      "0\n",
      "0\n",
      "0\n",
      "0\n",
      "The URL 'https://www.chateaudetanlay.fr' is unreachable. Status code: 429\n",
      "The URL 'https://www.folleville-chateau-medieval.fr' is unreachable. Status code: 429\n",
      "0\n",
      "0\n",
      "0\n",
      "0\n",
      "0\n",
      "0\n",
      "0\n",
      "0\n",
      "0\n",
      "0\n",
      "0\n",
      "0\n",
      "0\n",
      "0\n",
      "0\n"
     ]
    }
   ],
   "source": [
    "# optional: change between existing url list (made in this notebook) and a locally stored csv list \n",
    "domain = pd.read_csv('../url_lists/'+cc+'_urls.csv')\n",
    "urls = domain['FR domains'].values.tolist() \n",
    "\n",
    "for i in range(len(urls)):\n",
    "    #print(urls[i])\n",
    "    check_url(urls[i])"
   ]
  },
  {
   "cell_type": "markdown",
   "id": "bab6fa08-05be-4bcf-922f-6d2029005e3f",
   "metadata": {},
   "source": [
    "## Notes on URLS: \n",
    "\n",
    "#### DUTCH CASTLES (XX/55)\n",
    "- https://www.museumdefundatie.nl/ is not on the 2018 list\n",
    "- https://www.beeldentuinravesteyn.nl changed domain to: https://www.ruine-ravesteyn.nl/\n",
    "\n",
    "#### FRENCH CASTLES (6/91)\n",
    "doesn't respond to checkup function (errors 429, 403 and 555) but the link works - it is correct: \n",
    "- https://www.chateau-eaucourt.com/ \n",
    "- http://www.chateau-picquigny.com\n",
    "- https://www.la-hunaudaye.com/\n",
    "- https://www.chateaudetanlay.fr/\n",
    "- https://www.chateaugavray.fr/\n",
    "\n",
    "seems to be closed, link won't open but WHOIS listing exists:\n",
    "- www.chateau-de-la-rochepot.com (wikipedia: https://en.wikipedia.org/wiki/Ch%C3%A2teau_de_la_Rochepot \"In October 2018, the castle was seized by the French government after investigation into an alleged money laundering scheme by Dmytro Malynovskyi, a Ukrainian. Malynovski was arrested after an investigation into a corruption and money laundering scheme in which he purchased and lived in the castle after faking his own death.\")\n",
    " \n",
    "#### GERMAN CASTLES (10/90)\n",
    "doesn't respond to checkup function (errors 429 and 403) but the link is correct:\n",
    "- https://www.schlossparkmarisfeld.de/\n",
    "- https://www.schloss-marienburg.de/\n",
    "- https://schloss-langenburg.de/\n",
    "- https://schloss-karlsberg.de/ (secure connection missing or required?)\n",
    "- http://www.schloss-braunfels.de'\n",
    "\n",
    "possible mistakes and changes to domain names:\n",
    "- wwwkasteelbentheimnl -> https://burg-bentheim.de/ text is in dutch in German 2018 scraped material\n",
    "- http://evenburg.landkreis-leer.de/ redirects to http://landkreis-leer.de/ the castle does not have its own domain since 2022, review the subdomain  wmk.landkreis-leer.de/ as replacement castle representation\n",
    "- http://www.wilhelmshoehede.txt requires Flash (very outdated site, no accessible content)\n",
    "- https://www.schloesser-hessen.de/de/schloss-erbach is a collection of castles? thus https://www.schloss-erbach.de redirects here\n",
    "- http://burghohnstein.com is for sale, it is replaces by http://burghohnstein.info which is included in the list here\n",
    "\n",
    "#### UK CASTLES (12/76)\n",
    "doesn't respont to checkup function (error 429, 403):\n",
    "- https://www.hrp.org.uk/ - is a collection of palaces - perhaps there are individual websites?\n",
    "- https://www.hants.gov.uk/\n",
    "- https://www.haddonhall.co.uk/\n",
    "- https://www.tamworthcastle.co.uk/\n",
    "- https://www.whittingtoncastle.co.uk only reachable without 'www' (as https://whittingtoncastle.co.uk/)\n",
    "\n",
    "possible mistake:\n",
    "- why is https://dur.ac.uk/ on the list? it is the university website, no (direct) castle content\n",
    "\n",
    "closed:\n",
    "- https://wresslecastle.org/ domain not maintained (people speak of using Facebook page to inquire about opening hours), Selena removed from url list Nov 2024\n",
    "- https://www.leicestercastle.co.uk domain not maintained, information on the castle available on history of Leicestre website, https://www.storyofleicester.info/\n",
    "\n",
    "changed domains:\n",
    "- http://www.rabycastle.com is now https://www.raby.co.uk \n",
    "- http://www.castlerising.com is now http://www.castlerising.co.uk\n",
    "- http://www.fobt.org.uk is now https://friendsofbuckdentowers.co.uk/\n",
    "- https://www.turtontower.co.uk is now https://turtontower.com/\n",
    "\n",
    "\n",
    "\n",
    "\n",
    "## Notes for writing\n",
    "- visit https://castlestudiestrust.org/ and understand what they mean by 'cutting edge castle research'\n",
    "- narrate how domains differ for countries - NL are all .nl except for 2 .com, while FR, DE and UK have different endings; this incoherency is reflected in the different character of top-level domain endings - some FR, DE and UK casltes have the commercial .com and co.uk ending, while others go with .org and .net which are in principle for non-profit organisations; .de and .fr (and 1 .uk) domains reflect the standard country association, while only some UK castles have gov.uk castles, directly related to the government\n",
    "- General questions:\n",
    "1. what is a web presentation of the castle, what cultural meaning does it cary, how is digital communication important to castle preservation and management?\n",
    " "
   ]
  }
 ],
 "metadata": {
  "kernelspec": {
   "display_name": "Python 3 (ipykernel)",
   "language": "python",
   "name": "python3"
  },
  "language_info": {
   "codemirror_mode": {
    "name": "ipython",
    "version": 3
   },
   "file_extension": ".py",
   "mimetype": "text/x-python",
   "name": "python",
   "nbconvert_exporter": "python",
   "pygments_lexer": "ipython3",
   "version": "3.9.6"
  }
 },
 "nbformat": 4,
 "nbformat_minor": 5
}

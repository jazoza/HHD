{
 "cells": [
  {
   "cell_type": "code",
   "execution_count": 3,
   "id": "67d692cf-432e-4594-958a-ea38ba08c712",
   "metadata": {},
   "outputs": [],
   "source": [
    "import os, requests"
   ]
  },
  {
   "cell_type": "code",
   "execution_count": 4,
   "id": "7415d360-1ea4-45fb-8d1a-5df381f54b3d",
   "metadata": {},
   "outputs": [
    {
     "ename": "ModuleNotFoundError",
     "evalue": "No module named 'selenium'",
     "output_type": "error",
     "traceback": [
      "\u001b[0;31m---------------------------------------------------------------------------\u001b[0m",
      "\u001b[0;31mModuleNotFoundError\u001b[0m                       Traceback (most recent call last)",
      "Cell \u001b[0;32mIn[4], line 2\u001b[0m\n\u001b[1;32m      1\u001b[0m \u001b[38;5;28;01mfrom\u001b[39;00m \u001b[38;5;21;01mbs4\u001b[39;00m \u001b[38;5;28;01mimport\u001b[39;00m BeautifulSoup\n\u001b[0;32m----> 2\u001b[0m \u001b[38;5;28;01mfrom\u001b[39;00m \u001b[38;5;21;01mselenium\u001b[39;00m \u001b[38;5;28;01mimport\u001b[39;00m webdriver\n",
      "\u001b[0;31mModuleNotFoundError\u001b[0m: No module named 'selenium'"
     ]
    }
   ],
   "source": [
    "from bs4 import BeautifulSoup\n",
    "from selenium import webdriver"
   ]
  },
  {
   "cell_type": "code",
   "execution_count": 51,
   "id": "83af802b-c0c7-496a-be35-c44bb197347f",
   "metadata": {},
   "outputs": [],
   "source": [
    "nl_files_list = os.listdir(\"../met-naam/castles-netherlands/\")"
   ]
  },
  {
   "cell_type": "code",
   "execution_count": 59,
   "id": "01e6284d-b797-48bd-84d4-e483cb6328d4",
   "metadata": {},
   "outputs": [],
   "source": [
    "nl_urls_list = ['https://www.'+item[:-6].lstrip('www')+'.'+item.rstrip('.txt')[-2:] for item in nl_files_list]"
   ]
  },
  {
   "cell_type": "code",
   "execution_count": 96,
   "id": "71fcf24f-4a4a-4aec-b788-56a96484720a",
   "metadata": {},
   "outputs": [],
   "source": [
    "nl_urls_list[2]"
   ]
  },
  {
   "cell_type": "markdown",
   "id": "8a7f38bd-e099-4f25-9c2a-bca449f1bd5c",
   "metadata": {},
   "source": [
    "### BeautifulSoup"
   ]
  },
  {
   "cell_type": "code",
   "execution_count": 97,
   "id": "66f4053c-d47c-4144-9472-37d90b4adda7",
   "metadata": {},
   "outputs": [],
   "source": [
    "response = requests.get(nl_urls_list[2])"
   ]
  },
  {
   "cell_type": "code",
   "execution_count": 93,
   "id": "8e345194-3d34-4a60-896b-6557055d0860",
   "metadata": {},
   "outputs": [],
   "source": [
    "soup = BeautifulSoup(response.text)"
   ]
  },
  {
   "cell_type": "code",
   "execution_count": 88,
   "id": "9475978f-db3f-4f0c-b07d-99623b93aa69",
   "metadata": {},
   "outputs": [],
   "source": [
    "# get a list of all h1 tags based on css selectors\n",
    "#titles = soup.select(\"h1,h2,h3,h4,h5,h6\")\n",
    "titles = soup.select(\"#main div bg section-bg fill bg-fill bg-loaded\")\n",
    "for t in titles:\n",
    "  print(t.text)"
   ]
  },
  {
   "cell_type": "code",
   "execution_count": 103,
   "id": "e75a5bed-474c-4eb0-ac02-8a56cf1c9e4b",
   "metadata": {},
   "outputs": [],
   "source": [
    "# Find all text elements and concatenate them\n",
    "allowed_tags = ['div','p', 'h1', 'h2', 'h3', 'h4', 'h5', 'h6', 'span', 'br']\n",
    "all_text = ' '.join([element.get_text() for element in soup.find_all(allowed_tags)])\n",
    "with open(nl_files_list[2], \"w\") as file:\n",
    "    file.write(all_text)\n",
    "#print(all_text)"
   ]
  },
  {
   "cell_type": "code",
   "execution_count": 102,
   "id": "cbb1b7aa-178b-4e6e-a4ae-8d5b9f9e2b68",
   "metadata": {},
   "outputs": [
    {
     "name": "stdout",
     "output_type": "stream",
     "text": [
      "wwwmuiderslotnl.txt https://www.muiderslot.nl\n"
     ]
    }
   ],
   "source": [
    "print(nl_files_list[2], nl_urls_list[2])"
   ]
  },
  {
   "cell_type": "code",
   "execution_count": 104,
   "id": "ad51a158-0684-4b21-b359-9eb67842300b",
   "metadata": {},
   "outputs": [],
   "source": [
    "url= \"https://web.archive.org/web/20180511012246/https://www.muiderslot.nl/\""
   ]
  },
  {
   "cell_type": "code",
   "execution_count": 106,
   "id": "aca0b4dd-0ae6-4bcc-bc67-c6fdc9631b96",
   "metadata": {},
   "outputs": [],
   "source": [
    "response1 = requests.get(url)"
   ]
  },
  {
   "cell_type": "code",
   "execution_count": 107,
   "id": "2496f904-7f7d-4525-aedf-27e4a1084400",
   "metadata": {},
   "outputs": [],
   "source": [
    "soup1 = BeautifulSoup(response.text)"
   ]
  },
  {
   "cell_type": "code",
   "execution_count": 108,
   "id": "f28855c1-b287-47cd-9116-6ccb0c70baa5",
   "metadata": {},
   "outputs": [],
   "source": [
    "allowed_tags = ['div','p', 'h1', 'h2', 'h3', 'h4', 'h5', 'h6', 'span', 'br']\n",
    "all_text = ' '.join([element.get_text() for element in soup.find_all(allowed_tags)])\n",
    "with open(url[29:33], \"w\") as file:\n",
    "    file.write(all_text)"
   ]
  },
  {
   "cell_type": "markdown",
   "id": "73a314a4-ae40-4db9-849d-f51a4be1fec9",
   "metadata": {},
   "source": [
    "### Selenium "
   ]
  },
  {
   "cell_type": "code",
   "execution_count": 1,
   "id": "ae8a8c1f-2bc1-4cff-95b7-99214f878007",
   "metadata": {},
   "outputs": [
    {
     "ename": "NameError",
     "evalue": "name 'webdriver' is not defined",
     "output_type": "error",
     "traceback": [
      "\u001b[0;31m---------------------------------------------------------------------------\u001b[0m",
      "\u001b[0;31mNameError\u001b[0m                                 Traceback (most recent call last)",
      "Cell \u001b[0;32mIn[1], line 2\u001b[0m\n\u001b[1;32m      1\u001b[0m \u001b[38;5;66;03m# open chrome\u001b[39;00m\n\u001b[0;32m----> 2\u001b[0m driver \u001b[38;5;241m=\u001b[39m \u001b[43mwebdriver\u001b[49m\u001b[38;5;241m.\u001b[39mChrome()\n\u001b[1;32m      4\u001b[0m \u001b[38;5;66;03m# visit alibaba\u001b[39;00m\n\u001b[1;32m      5\u001b[0m driver\u001b[38;5;241m.\u001b[39mget(\u001b[38;5;124m\"\u001b[39m\u001b[38;5;124mhttps://www.alibaba.com/products/labor_camp.html?IndexArea=product_en&page=1\u001b[39m\u001b[38;5;124m\"\u001b[39m)\n",
      "\u001b[0;31mNameError\u001b[0m: name 'webdriver' is not defined"
     ]
    }
   ],
   "source": [
    "# open chrome\n",
    "driver = webdriver.Chrome()\n",
    "\n",
    "# visit alibaba\n",
    "driver.get(\"https://www.alibaba.com/products/labor_camp.html?IndexArea=product_en&page=1\")\n",
    "\n",
    "# select h4 elements\n",
    "items = driver.find_elements_by_css_selector(\"h4\")\n",
    "\n",
    "for i in items:\n",
    "    print(i.text)\n",
    "\n",
    "driver.close()"
   ]
  },
  {
   "cell_type": "code",
   "execution_count": null,
   "id": "da74a580-730e-4db8-ae57-f2d2476bf966",
   "metadata": {},
   "outputs": [],
   "source": []
  }
 ],
 "metadata": {
  "kernelspec": {
   "display_name": "Python 3 (ipykernel)",
   "language": "python",
   "name": "python3"
  },
  "language_info": {
   "codemirror_mode": {
    "name": "ipython",
    "version": 3
   },
   "file_extension": ".py",
   "mimetype": "text/x-python",
   "name": "python",
   "nbconvert_exporter": "python",
   "pygments_lexer": "ipython3",
   "version": "3.12.1"
  }
 },
 "nbformat": 4,
 "nbformat_minor": 5
}

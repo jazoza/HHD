{
 "cells": [
  {
   "cell_type": "code",
   "execution_count": 2,
   "id": "67d692cf-432e-4594-958a-ea38ba08c712",
   "metadata": {},
   "outputs": [],
   "source": [
    "import os, requests"
   ]
  },
  {
   "cell_type": "code",
   "execution_count": 3,
   "id": "7415d360-1ea4-45fb-8d1a-5df381f54b3d",
   "metadata": {},
   "outputs": [],
   "source": [
    "from bs4 import BeautifulSoup\n",
    "from selenium import webdriver\n",
    "from selenium.common.exceptions import WebDriverException"
   ]
  },
  {
   "cell_type": "code",
   "execution_count": 91,
   "id": "83af802b-c0c7-496a-be35-c44bb197347f",
   "metadata": {},
   "outputs": [],
   "source": [
    "nl_files_list = os.listdir(\"../met-naam/castles-netherlands/\")"
   ]
  },
  {
   "cell_type": "code",
   "execution_count": 92,
   "id": "01e6284d-b797-48bd-84d4-e483cb6328d4",
   "metadata": {},
   "outputs": [],
   "source": [
    "nl_urls = ['https://www.'+item[:-6].lstrip('www')+'.'+item.rstrip('.txt')[-2:] for item in nl_files_list]"
   ]
  },
  {
   "cell_type": "code",
   "execution_count": 93,
   "id": "71fcf24f-4a4a-4aec-b788-56a96484720a",
   "metadata": {},
   "outputs": [
    {
     "data": {
      "text/plain": [
       "'https://www.muiderslot.nl'"
      ]
     },
     "execution_count": 93,
     "metadata": {},
     "output_type": "execute_result"
    }
   ],
   "source": [
    "nl_urls[2]"
   ]
  },
  {
   "cell_type": "code",
   "execution_count": 19,
   "id": "1e558de3-3b82-48c6-9b32-27bd62bb803f",
   "metadata": {},
   "outputs": [],
   "source": [
    "fr_files_list = os.listdir(\"../met-naam/castles-france/\")"
   ]
  },
  {
   "cell_type": "code",
   "execution_count": 20,
   "id": "b76c5d41-6099-46b2-8810-c878bdb657b8",
   "metadata": {},
   "outputs": [
    {
     "name": "stdout",
     "output_type": "stream",
     "text": [
      "92 ['chateaudedigoinefr.txt', 'wwwchateauangersfr.txt', 'chateaudutaureaubzh.txt', 'wwwchateaudejosselincom.txt', 'wwwallymesnet.txt', 'careilcom.txt', 'wwwchateau-ancycom.txt', 'susciniofr.txt', 'wwwchateaudekerioletcom.txt', 'wwwchateauvillandryfr.txt', 'wwwchateaubrissacfr.txt', 'wwwchateauguillaumeleconquerantfr.txt', 'wwwcitadelledesisteronfr.txt', '.DS_Store', 'wwwchateau-de-st-fargeaucom.txt', 'wwwchateauramburespicardiefr.txt', 'wwwchateaubaugefr.txt', 'wwwchateaudebloisfr.txt', 'wwwchateaudelarocheguyonfr.txt', 'wwwchateau-lafayettecom.txt']\n",
      "91 ['https://www.chateaudutaureau.bzh', 'https://www.chateaudejosselin.com', 'https://www.allymes.net', 'https://www.careil.com', 'https://www.chateau-ancy.com', 'https://www.chateaudekeriolet.com', 'https://www.chateau-de-st-fargeau.com', 'https://www.chateau-lafayette.com', 'https://www.chateaudecoupiac.com', 'https://www.chateau-savigny.com', 'https://www.chateaugratot.com', 'https://www.domainedechantilly.com', 'https://www.chateau-baux-provence.com', 'https://www.chateau-eaucourt.com', 'https://www.chambord.org', 'https://www.chateau-sierck.com', 'https://www.chenonceau.com', 'https://www.chateau-bonaguil.com', 'https://www.chateaudemargon.com', 'https://www.chateaudebonneval.com']\n"
     ]
    }
   ],
   "source": [
    "domain_extensions = ['com', 'net', 'org', 'bzh']\n",
    "# what about .corsica???\n",
    "fr_urls_div = [link[:-4] for link in fr_files_list if link.endswith('.txt') and link[-7:-4] in domain_extensions]\n",
    "fr_urls_div = ['https://www.'+link[:-3].lstrip('www') + '.' + link[-3:] for link in fr_urls_div]\n",
    "\n",
    "fr_urls_fr = [link[:-4] for link in fr_files_list if link.endswith('.txt') and link[-6:-4]== 'fr']\n",
    "fr_urls_fr = ['https://www.'+link[:-3].lstrip('www') + '.' + link[-3:] for link in fr_urls_fr]\n",
    "\n",
    "#catch the unusual .corsica domains\n",
    "fr_urls_corsica = [link[:-4] for link in fr_files_list if link.endswith('.txt') and link[-11:-4]== 'corsica']\n",
    "fr_urls_corsica = ['https://'+link[:-7].lstrip('www') + '.' + link[-7:] for link in fr_urls_corsica]\n",
    "\n",
    "fr_urls = fr_urls_div + fr_urls_fr + fr_urls_corsica\n",
    "\n",
    "print(len(fr_files_list), fr_files_list[:20])\n",
    "print(len(fr_urls), fr_urls[:20])"
   ]
  },
  {
   "cell_type": "markdown",
   "id": "8a7f38bd-e099-4f25-9c2a-bca449f1bd5c",
   "metadata": {},
   "source": [
    "### BeautifulSoup"
   ]
  },
  {
   "cell_type": "code",
   "execution_count": 13,
   "id": "66f4053c-d47c-4144-9472-37d90b4adda7",
   "metadata": {},
   "outputs": [
    {
     "ename": "NameError",
     "evalue": "name 'nl_urls' is not defined",
     "output_type": "error",
     "traceback": [
      "\u001b[0;31m---------------------------------------------------------------------------\u001b[0m",
      "\u001b[0;31mNameError\u001b[0m                                 Traceback (most recent call last)",
      "Cell \u001b[0;32mIn[13], line 1\u001b[0m\n\u001b[0;32m----> 1\u001b[0m response \u001b[38;5;241m=\u001b[39m requests\u001b[38;5;241m.\u001b[39mget(\u001b[43mnl_urls\u001b[49m[\u001b[38;5;241m2\u001b[39m])\n",
      "\u001b[0;31mNameError\u001b[0m: name 'nl_urls' is not defined"
     ]
    }
   ],
   "source": [
    "response = requests.get(nl_urls[2])"
   ]
  },
  {
   "cell_type": "code",
   "execution_count": 7,
   "id": "8e345194-3d34-4a60-896b-6557055d0860",
   "metadata": {},
   "outputs": [],
   "source": [
    "soup = BeautifulSoup(response.text)"
   ]
  },
  {
   "cell_type": "code",
   "execution_count": 8,
   "id": "9475978f-db3f-4f0c-b07d-99623b93aa69",
   "metadata": {},
   "outputs": [],
   "source": [
    "# get a list of all h1 tags based on css selectors\n",
    "#titles = soup.select(\"h1,h2,h3,h4,h5,h6\")\n",
    "titles = soup.select(\"#main div bg section-bg fill bg-fill bg-loaded\")\n",
    "for t in titles:\n",
    "  print(t.text)"
   ]
  },
  {
   "cell_type": "code",
   "execution_count": 9,
   "id": "e75a5bed-474c-4eb0-ac02-8a56cf1c9e4b",
   "metadata": {},
   "outputs": [],
   "source": [
    "# Find all text elements and concatenate them\n",
    "allowed_tags = ['div','p', 'h1', 'h2', 'h3', 'h4', 'h5', 'h6', 'span', 'br']\n",
    "all_text = ' '.join([element.get_text() for element in soup.find_all(allowed_tags)])\n",
    "with open(nl_files[2], \"w\") as file:\n",
    "    file.write(all_text)\n",
    "#print(all_text)"
   ]
  },
  {
   "cell_type": "code",
   "execution_count": 102,
   "id": "cbb1b7aa-178b-4e6e-a4ae-8d5b9f9e2b68",
   "metadata": {},
   "outputs": [
    {
     "name": "stdout",
     "output_type": "stream",
     "text": [
      "wwwmuiderslotnl.txt https://www.muiderslot.nl\n"
     ]
    }
   ],
   "source": [
    "print(nl_files_list[2], nl_urls[2])"
   ]
  },
  {
   "cell_type": "markdown",
   "id": "eeb122c9-4be9-4aaa-a05a-e98e295b19ff",
   "metadata": {},
   "source": [
    "#### Test one url in Wayback machine"
   ]
  },
  {
   "cell_type": "code",
   "execution_count": 104,
   "id": "ad51a158-0684-4b21-b359-9eb67842300b",
   "metadata": {},
   "outputs": [],
   "source": [
    "url= \"https://web.archive.org/web/20180511012246/https://www.muiderslot.nl/\""
   ]
  },
  {
   "cell_type": "code",
   "execution_count": 106,
   "id": "aca0b4dd-0ae6-4bcc-bc67-c6fdc9631b96",
   "metadata": {},
   "outputs": [],
   "source": [
    "response1 = requests.get(url)"
   ]
  },
  {
   "cell_type": "code",
   "execution_count": 107,
   "id": "2496f904-7f7d-4525-aedf-27e4a1084400",
   "metadata": {},
   "outputs": [],
   "source": [
    "soup1 = BeautifulSoup(response.text)"
   ]
  },
  {
   "cell_type": "code",
   "execution_count": 108,
   "id": "f28855c1-b287-47cd-9116-6ccb0c70baa5",
   "metadata": {},
   "outputs": [],
   "source": [
    "allowed_tags = ['div','p', 'h1', 'h2', 'h3', 'h4', 'h5', 'h6', 'span', 'br']\n",
    "all_text = ' '.join([element.get_text() for element in soup.find_all(allowed_tags)])\n",
    "with open(url[29:33], \"w\") as file:\n",
    "    file.write(all_text)"
   ]
  },
  {
   "cell_type": "markdown",
   "id": "73a314a4-ae40-4db9-849d-f51a4be1fec9",
   "metadata": {},
   "source": [
    "### Selenium "
   ]
  },
  {
   "cell_type": "code",
   "execution_count": 21,
   "id": "da74a580-730e-4db8-ae57-f2d2476bf966",
   "metadata": {},
   "outputs": [
    {
     "name": "stdout",
     "output_type": "stream",
     "text": [
      "saving file\n",
      "saving file\n",
      "saving file\n",
      "saving file\n",
      "saving file\n",
      "saving file\n",
      "saving file\n",
      "saving file\n",
      "saving file\n",
      "saving file\n",
      "saving file\n",
      "saving file\n",
      "saving file\n",
      "saving file\n",
      "saving file\n",
      "saving file\n",
      "saving file\n",
      "saving file\n",
      "saving file\n",
      "saving file\n",
      "saving file\n",
      "saving file\n",
      "saving file\n",
      "saving file\n",
      "saving file\n",
      "saving file\n",
      "saving file\n",
      "saving file\n",
      "saving file\n",
      "saving file\n",
      "saving file\n",
      "saving file\n",
      "saving file\n",
      "saving file\n",
      "saving file\n",
      "saving file\n",
      "saving file\n",
      "saving file\n",
      "saving file\n",
      "saving file\n",
      "saving file\n",
      "saving file\n",
      "saving file\n",
      "saving file\n"
     ]
    }
   ],
   "source": [
    "# SCREENSHOTS\n",
    "driver = webdriver.Chrome()\n",
    "# visit all websites in the list\n",
    "for i in range(len(fr_urls)):\n",
    "    try:\n",
    "        # Set a timeout for the driver to wait for elements to load\n",
    "        driver.set_page_load_timeout(20)  # Adjust the timeout as needed\n",
    "        # Attempt to navigate to the URL\n",
    "        driver.get(fr_urls[i])\n",
    "        # If navigation is successful, return True\n",
    "        driver.set_window_size(1000, 1000)\n",
    "        driver.save_screenshot(\"../screenshots_fr/\"+str(fr_urls[i][12:]+\".png\"))\n",
    "        print('saving file')\n",
    "    except WebDriverException:\n",
    "        print(WebDriverException)\n",
    "        continue\n",
    "driver.close()"
   ]
  },
  {
   "cell_type": "code",
   "execution_count": 112,
   "id": "3d9b2b31-fe92-496d-9f27-7f14d1b1b9dc",
   "metadata": {},
   "outputs": [
    {
     "name": "stdout",
     "output_type": "stream",
     "text": [
      "0\n",
      "0\n",
      "0\n",
      "0\n",
      "0\n",
      "0\n",
      "0\n",
      "0\n",
      "0\n",
      "0\n",
      "0\n",
      "0\n",
      "0\n",
      "The URL 'https://www.chateau-eaucourt.com' is unreachable. Status code: 429\n",
      "0\n",
      "0\n",
      "0\n",
      "0\n",
      "0\n",
      "0\n",
      "0\n",
      "0\n",
      "0\n",
      "0\n",
      "0\n",
      "0\n",
      "0\n",
      "The URL 'https://www.chateaudauphin.com' is unreachable.\n",
      "0\n",
      "0\n",
      "0\n",
      "The URL 'https://www.chateau-picquigny.com' is unreachable. Status code: 429\n",
      "0\n",
      "0\n",
      "0\n",
      "The URL 'https://www.chateaupirou.org' is unreachable.\n",
      "0\n",
      "0\n",
      "0\n",
      "The URL 'https://www.chateau-olhain.com' is unreachable.\n",
      "The URL 'https://www.chateaumalbrouck.com' is unreachable.\n",
      "0\n",
      "The URL 'https://www.chateaugourdon.com' is unreachable.\n",
      "The URL 'https://www.murolchateau.com' is unreachable.\n",
      "0\n",
      "The URL 'https://www.chateaufougeres.com' is unreachable.\n",
      "The URL 'https://www.chateaubazoches.com' is unreachable.\n",
      "The URL 'https://www.chateau-de-la-rochepot.com' is unreachable.\n",
      "0\n",
      "The URL 'https://www.chateaudedigoin.efr' is unreachable.\n",
      "The URL 'https://www.chateauanger.sfr' is unreachable.\n",
      "The URL 'https://www.suscini.ofr' is unreachable.\n",
      "The URL 'https://www.chateauvillandr.yfr' is unreachable.\n",
      "The URL 'https://www.chateaubrissa.cfr' is unreachable.\n",
      "The URL 'https://www.chateauguillaumeleconqueran.tfr' is unreachable.\n",
      "The URL 'https://www.citadelledesistero.nfr' is unreachable.\n",
      "The URL 'https://www.chateauramburespicardi.efr' is unreachable.\n",
      "The URL 'https://www.chateaubaug.efr' is unreachable.\n",
      "The URL 'https://www.chateaudebloi.sfr' is unreachable.\n",
      "The URL 'https://www.chateaudelarocheguyo.nfr' is unreachable.\n",
      "The URL 'https://www.chateaui.ffr' is unreachable.\n",
      "The URL 'https://www.chateaudetanla.yfr' is unreachable.\n",
      "The URL 'https://www.chateaucarrouge.sfr' is unreachable.\n",
      "The URL 'https://www.azayleridea.ufr' is unreachable.\n",
      "The URL 'https://www.chateauetela.nfr' is unreachable.\n",
      "The URL 'https://www.chateauhardelo.tfr' is unreachable.\n",
      "The URL 'https://www.chateaudegoulain.efr' is unreachable.\n",
      "The URL 'https://www.chateaudevincenne.sfr' is unreachable.\n",
      "The URL 'https://www.yonn.efr' is unreachable.\n",
      "The URL 'https://www.chateaumaison.sfr' is unreachable.\n",
      "The URL 'https://www.chateauxladrom.efr' is unreachable.\n",
      "The URL 'https://www.palaisdecompiegn.efr' is unreachable.\n",
      "The URL 'https://www.chateaupierrefond.sfr' is unreachable.\n",
      "The URL 'https://www.chateau-oiro.nfr' is unreachable.\n",
      "The URL 'https://www.chateaudesaintesuzann.efr' is unreachable.\n",
      "The URL 'https://www.fleckenstei.nfr' is unreachable.\n",
      "The URL 'https://www.follevillechateaumedieva.lfr' is unreachable.\n",
      "The URL 'https://www.chateaubland.yfr' is unreachable.\n",
      "The URL 'https://www.chateaudeguis.efr' is unreachable.\n",
      "The URL 'https://www.forteresse-morna.sfr' is unreachable.\n",
      "The URL 'https://www.chateaucouc.yfr' is unreachable.\n",
      "The URL 'https://www.ledonjondehouda.nfr' is unreachable.\n",
      "The URL 'https://www.chateaugavra.yfr' is unreachable.\n",
      "The URL 'https://www.fortqueyra.sfr' is unreachable.\n",
      "The URL 'https://www.hautkoenigsbour.gfr' is unreachable.\n",
      "The URL 'https://www.harcourtnormandi.efr' is unreachable.\n",
      "The URL 'https://www.gombervau.xfr' is unreachable.\n",
      "The URL 'https://www.chateaudefontaineblea.ufr' is unreachable.\n",
      "The URL 'https://www.chateautredio.nfr' is unreachable.\n",
      "The URL 'https://www.larochecourbo.nfr' is unreachable.\n"
     ]
    }
   ],
   "source": [
    "def check_url(url):\n",
    "    try:\n",
    "        response = requests.get(url)\n",
    "        if response.status_code == 200:\n",
    "            print(0)\n",
    "        else:\n",
    "            print(f\"The URL '{url}' is unreachable. Status code: {response.status_code}\")\n",
    "    except requests.ConnectionError:\n",
    "        print(f\"The URL '{url}' is unreachable.\")\n",
    "\n",
    "for i in range(len(fr_urls)):\n",
    "    check_url(fr_urls[i])\n"
   ]
  },
  {
   "cell_type": "code",
   "execution_count": null,
   "id": "6ef6b210-d8dd-48cc-b623-49bdb74054c4",
   "metadata": {},
   "outputs": [],
   "source": []
  }
 ],
 "metadata": {
  "kernelspec": {
   "display_name": "Python 3 (ipykernel)",
   "language": "python",
   "name": "python3"
  },
  "language_info": {
   "codemirror_mode": {
    "name": "ipython",
    "version": 3
   },
   "file_extension": ".py",
   "mimetype": "text/x-python",
   "name": "python",
   "nbconvert_exporter": "python",
   "pygments_lexer": "ipython3",
   "version": "3.9.6"
  }
 },
 "nbformat": 4,
 "nbformat_minor": 5
}

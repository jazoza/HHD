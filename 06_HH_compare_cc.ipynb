{
  "cells": [
    {
      "cell_type": "markdown",
      "id": "7CC34uuNzNxY",
      "metadata": {
        "id": "7CC34uuNzNxY"
      },
      "source": [
        "# New Narratives for old Buildings\n",
        "\n",
        "---\n",
        "\n",
        "\n",
        "\n",
        "Finding narratives through comparison of term frequency across countries"
      ]
    },
    {
      "cell_type": "code",
      "execution_count": 4,
      "id": "76a4e150-cc6f-4878-a32b-e78a1d6426ae",
      "metadata": {
        "id": "76a4e150-cc6f-4878-a32b-e78a1d6426ae"
      },
      "outputs": [],
      "source": [
        "import os, re, csv\n",
        "import pandas as pd\n",
        "import numpy as np\n",
        "import pickle\n",
        "import matplotlib.pyplot as plt"
      ]
    },
    {
      "cell_type": "markdown",
      "id": "7010dda9-acc5-4d90-b175-90012564d13c",
      "metadata": {
        "id": "7010dda9-acc5-4d90-b175-90012564d13c"
      },
      "source": [
        "## Loading the dataset: heritage homes webistes\n"
      ]
    },
    {
      "cell_type": "code",
      "execution_count": 5,
      "id": "d42429d3-63fe-4b79-b341-160057e5dcbc",
      "metadata": {
        "id": "d42429d3-63fe-4b79-b341-160057e5dcbc",
        "colab": {
          "base_uri": "https://localhost:8080/"
        },
        "outputId": "50dd2fb3-e5ac-4579-cb03-8da1163f693e"
      },
      "outputs": [
        {
          "output_type": "stream",
          "name": "stdout",
          "text": [
            "Drive already mounted at /content/gdrive; to attempt to forcibly remount, call drive.mount(\"/content/gdrive\", force_remount=True).\n"
          ]
        }
      ],
      "source": [
        "from google.colab import drive\n",
        "drive.mount('/content/gdrive')"
      ]
    },
    {
      "cell_type": "code",
      "execution_count": 6,
      "id": "bbjhZ8nKZtZC",
      "metadata": {
        "id": "bbjhZ8nKZtZC"
      },
      "outputs": [],
      "source": [
        "path = '/content/gdrive/MyDrive/CDA/' # working with google drive and colab\n",
        "\n",
        "# path = 'datasets/' # working locally"
      ]
    },
    {
      "cell_type": "code",
      "execution_count": 7,
      "id": "QYiHwjcORrPC",
      "metadata": {
        "id": "QYiHwjcORrPC"
      },
      "outputs": [],
      "source": [
        "# Country code: change here between 'NL' and 'UK'\n",
        "cc_list = ['NL', 'UK', 'DE', 'FR']"
      ]
    },
    {
      "cell_type": "code",
      "execution_count": 8,
      "id": "8697b51f-50a5-4091-9cc1-0aed1308b27d",
      "metadata": {
        "id": "8697b51f-50a5-4091-9cc1-0aed1308b27d",
        "colab": {
          "base_uri": "https://localhost:8080/",
          "height": 206
        },
        "outputId": "d44cd004-f1ee-4d74-b181-f4c645acd827"
      },
      "outputs": [
        {
          "output_type": "execute_result",
          "data": {
            "text/plain": [
              "                                               url  \\\n",
              "0   https://www.chateau-combourg.com/privatisation   \n",
              "1   https://www.chateau-combourg.com/chateaubriand   \n",
              "2  https://www.chateau-combourg.com/prixlitteraire   \n",
              "3         https://www.chateau-combourg.com/contact   \n",
              "4                         https://www.suscinio.fr/   \n",
              "\n",
              "                                                text  \n",
              "0  Events — COMBOURG\\nLe château et le parc peuve...  \n",
              "1  Chateaubriand — COMBOURG\\nFrançois-René de Cha...  \n",
              "2  Prix Littéraire — COMBOURG\\nLe Prix Combourg-C...  \n",
              "3  Contact — COMBOURG\\nNom(obligatoire)\\nPrénom\\n...  \n",
              "4  Château de Suscinio dans le Morbihan\\nOuvert t...  "
            ],
            "text/html": [
              "\n",
              "  <div id=\"df-bd5791df-8497-485e-ad73-fc63e0b8e0a5\" class=\"colab-df-container\">\n",
              "    <div>\n",
              "<style scoped>\n",
              "    .dataframe tbody tr th:only-of-type {\n",
              "        vertical-align: middle;\n",
              "    }\n",
              "\n",
              "    .dataframe tbody tr th {\n",
              "        vertical-align: top;\n",
              "    }\n",
              "\n",
              "    .dataframe thead th {\n",
              "        text-align: right;\n",
              "    }\n",
              "</style>\n",
              "<table border=\"1\" class=\"dataframe\">\n",
              "  <thead>\n",
              "    <tr style=\"text-align: right;\">\n",
              "      <th></th>\n",
              "      <th>url</th>\n",
              "      <th>text</th>\n",
              "    </tr>\n",
              "  </thead>\n",
              "  <tbody>\n",
              "    <tr>\n",
              "      <th>0</th>\n",
              "      <td>https://www.chateau-combourg.com/privatisation</td>\n",
              "      <td>Events — COMBOURG\\nLe château et le parc peuve...</td>\n",
              "    </tr>\n",
              "    <tr>\n",
              "      <th>1</th>\n",
              "      <td>https://www.chateau-combourg.com/chateaubriand</td>\n",
              "      <td>Chateaubriand — COMBOURG\\nFrançois-René de Cha...</td>\n",
              "    </tr>\n",
              "    <tr>\n",
              "      <th>2</th>\n",
              "      <td>https://www.chateau-combourg.com/prixlitteraire</td>\n",
              "      <td>Prix Littéraire — COMBOURG\\nLe Prix Combourg-C...</td>\n",
              "    </tr>\n",
              "    <tr>\n",
              "      <th>3</th>\n",
              "      <td>https://www.chateau-combourg.com/contact</td>\n",
              "      <td>Contact — COMBOURG\\nNom(obligatoire)\\nPrénom\\n...</td>\n",
              "    </tr>\n",
              "    <tr>\n",
              "      <th>4</th>\n",
              "      <td>https://www.suscinio.fr/</td>\n",
              "      <td>Château de Suscinio dans le Morbihan\\nOuvert t...</td>\n",
              "    </tr>\n",
              "  </tbody>\n",
              "</table>\n",
              "</div>\n",
              "    <div class=\"colab-df-buttons\">\n",
              "\n",
              "  <div class=\"colab-df-container\">\n",
              "    <button class=\"colab-df-convert\" onclick=\"convertToInteractive('df-bd5791df-8497-485e-ad73-fc63e0b8e0a5')\"\n",
              "            title=\"Convert this dataframe to an interactive table.\"\n",
              "            style=\"display:none;\">\n",
              "\n",
              "  <svg xmlns=\"http://www.w3.org/2000/svg\" height=\"24px\" viewBox=\"0 -960 960 960\">\n",
              "    <path d=\"M120-120v-720h720v720H120Zm60-500h600v-160H180v160Zm220 220h160v-160H400v160Zm0 220h160v-160H400v160ZM180-400h160v-160H180v160Zm440 0h160v-160H620v160ZM180-180h160v-160H180v160Zm440 0h160v-160H620v160Z\"/>\n",
              "  </svg>\n",
              "    </button>\n",
              "\n",
              "  <style>\n",
              "    .colab-df-container {\n",
              "      display:flex;\n",
              "      gap: 12px;\n",
              "    }\n",
              "\n",
              "    .colab-df-convert {\n",
              "      background-color: #E8F0FE;\n",
              "      border: none;\n",
              "      border-radius: 50%;\n",
              "      cursor: pointer;\n",
              "      display: none;\n",
              "      fill: #1967D2;\n",
              "      height: 32px;\n",
              "      padding: 0 0 0 0;\n",
              "      width: 32px;\n",
              "    }\n",
              "\n",
              "    .colab-df-convert:hover {\n",
              "      background-color: #E2EBFA;\n",
              "      box-shadow: 0px 1px 2px rgba(60, 64, 67, 0.3), 0px 1px 3px 1px rgba(60, 64, 67, 0.15);\n",
              "      fill: #174EA6;\n",
              "    }\n",
              "\n",
              "    .colab-df-buttons div {\n",
              "      margin-bottom: 4px;\n",
              "    }\n",
              "\n",
              "    [theme=dark] .colab-df-convert {\n",
              "      background-color: #3B4455;\n",
              "      fill: #D2E3FC;\n",
              "    }\n",
              "\n",
              "    [theme=dark] .colab-df-convert:hover {\n",
              "      background-color: #434B5C;\n",
              "      box-shadow: 0px 1px 3px 1px rgba(0, 0, 0, 0.15);\n",
              "      filter: drop-shadow(0px 1px 2px rgba(0, 0, 0, 0.3));\n",
              "      fill: #FFFFFF;\n",
              "    }\n",
              "  </style>\n",
              "\n",
              "    <script>\n",
              "      const buttonEl =\n",
              "        document.querySelector('#df-bd5791df-8497-485e-ad73-fc63e0b8e0a5 button.colab-df-convert');\n",
              "      buttonEl.style.display =\n",
              "        google.colab.kernel.accessAllowed ? 'block' : 'none';\n",
              "\n",
              "      async function convertToInteractive(key) {\n",
              "        const element = document.querySelector('#df-bd5791df-8497-485e-ad73-fc63e0b8e0a5');\n",
              "        const dataTable =\n",
              "          await google.colab.kernel.invokeFunction('convertToInteractive',\n",
              "                                                    [key], {});\n",
              "        if (!dataTable) return;\n",
              "\n",
              "        const docLinkHtml = 'Like what you see? Visit the ' +\n",
              "          '<a target=\"_blank\" href=https://colab.research.google.com/notebooks/data_table.ipynb>data table notebook</a>'\n",
              "          + ' to learn more about interactive tables.';\n",
              "        element.innerHTML = '';\n",
              "        dataTable['output_type'] = 'display_data';\n",
              "        await google.colab.output.renderOutput(dataTable, element);\n",
              "        const docLink = document.createElement('div');\n",
              "        docLink.innerHTML = docLinkHtml;\n",
              "        element.appendChild(docLink);\n",
              "      }\n",
              "    </script>\n",
              "  </div>\n",
              "\n",
              "\n",
              "<div id=\"df-3f29ac1e-2c91-4f4d-939b-cdfed2dce04f\">\n",
              "  <button class=\"colab-df-quickchart\" onclick=\"quickchart('df-3f29ac1e-2c91-4f4d-939b-cdfed2dce04f')\"\n",
              "            title=\"Suggest charts\"\n",
              "            style=\"display:none;\">\n",
              "\n",
              "<svg xmlns=\"http://www.w3.org/2000/svg\" height=\"24px\"viewBox=\"0 0 24 24\"\n",
              "     width=\"24px\">\n",
              "    <g>\n",
              "        <path d=\"M19 3H5c-1.1 0-2 .9-2 2v14c0 1.1.9 2 2 2h14c1.1 0 2-.9 2-2V5c0-1.1-.9-2-2-2zM9 17H7v-7h2v7zm4 0h-2V7h2v10zm4 0h-2v-4h2v4z\"/>\n",
              "    </g>\n",
              "</svg>\n",
              "  </button>\n",
              "\n",
              "<style>\n",
              "  .colab-df-quickchart {\n",
              "      --bg-color: #E8F0FE;\n",
              "      --fill-color: #1967D2;\n",
              "      --hover-bg-color: #E2EBFA;\n",
              "      --hover-fill-color: #174EA6;\n",
              "      --disabled-fill-color: #AAA;\n",
              "      --disabled-bg-color: #DDD;\n",
              "  }\n",
              "\n",
              "  [theme=dark] .colab-df-quickchart {\n",
              "      --bg-color: #3B4455;\n",
              "      --fill-color: #D2E3FC;\n",
              "      --hover-bg-color: #434B5C;\n",
              "      --hover-fill-color: #FFFFFF;\n",
              "      --disabled-bg-color: #3B4455;\n",
              "      --disabled-fill-color: #666;\n",
              "  }\n",
              "\n",
              "  .colab-df-quickchart {\n",
              "    background-color: var(--bg-color);\n",
              "    border: none;\n",
              "    border-radius: 50%;\n",
              "    cursor: pointer;\n",
              "    display: none;\n",
              "    fill: var(--fill-color);\n",
              "    height: 32px;\n",
              "    padding: 0;\n",
              "    width: 32px;\n",
              "  }\n",
              "\n",
              "  .colab-df-quickchart:hover {\n",
              "    background-color: var(--hover-bg-color);\n",
              "    box-shadow: 0 1px 2px rgba(60, 64, 67, 0.3), 0 1px 3px 1px rgba(60, 64, 67, 0.15);\n",
              "    fill: var(--button-hover-fill-color);\n",
              "  }\n",
              "\n",
              "  .colab-df-quickchart-complete:disabled,\n",
              "  .colab-df-quickchart-complete:disabled:hover {\n",
              "    background-color: var(--disabled-bg-color);\n",
              "    fill: var(--disabled-fill-color);\n",
              "    box-shadow: none;\n",
              "  }\n",
              "\n",
              "  .colab-df-spinner {\n",
              "    border: 2px solid var(--fill-color);\n",
              "    border-color: transparent;\n",
              "    border-bottom-color: var(--fill-color);\n",
              "    animation:\n",
              "      spin 1s steps(1) infinite;\n",
              "  }\n",
              "\n",
              "  @keyframes spin {\n",
              "    0% {\n",
              "      border-color: transparent;\n",
              "      border-bottom-color: var(--fill-color);\n",
              "      border-left-color: var(--fill-color);\n",
              "    }\n",
              "    20% {\n",
              "      border-color: transparent;\n",
              "      border-left-color: var(--fill-color);\n",
              "      border-top-color: var(--fill-color);\n",
              "    }\n",
              "    30% {\n",
              "      border-color: transparent;\n",
              "      border-left-color: var(--fill-color);\n",
              "      border-top-color: var(--fill-color);\n",
              "      border-right-color: var(--fill-color);\n",
              "    }\n",
              "    40% {\n",
              "      border-color: transparent;\n",
              "      border-right-color: var(--fill-color);\n",
              "      border-top-color: var(--fill-color);\n",
              "    }\n",
              "    60% {\n",
              "      border-color: transparent;\n",
              "      border-right-color: var(--fill-color);\n",
              "    }\n",
              "    80% {\n",
              "      border-color: transparent;\n",
              "      border-right-color: var(--fill-color);\n",
              "      border-bottom-color: var(--fill-color);\n",
              "    }\n",
              "    90% {\n",
              "      border-color: transparent;\n",
              "      border-bottom-color: var(--fill-color);\n",
              "    }\n",
              "  }\n",
              "</style>\n",
              "\n",
              "  <script>\n",
              "    async function quickchart(key) {\n",
              "      const quickchartButtonEl =\n",
              "        document.querySelector('#' + key + ' button');\n",
              "      quickchartButtonEl.disabled = true;  // To prevent multiple clicks.\n",
              "      quickchartButtonEl.classList.add('colab-df-spinner');\n",
              "      try {\n",
              "        const charts = await google.colab.kernel.invokeFunction(\n",
              "            'suggestCharts', [key], {});\n",
              "      } catch (error) {\n",
              "        console.error('Error during call to suggestCharts:', error);\n",
              "      }\n",
              "      quickchartButtonEl.classList.remove('colab-df-spinner');\n",
              "      quickchartButtonEl.classList.add('colab-df-quickchart-complete');\n",
              "    }\n",
              "    (() => {\n",
              "      let quickchartButtonEl =\n",
              "        document.querySelector('#df-3f29ac1e-2c91-4f4d-939b-cdfed2dce04f button');\n",
              "      quickchartButtonEl.style.display =\n",
              "        google.colab.kernel.accessAllowed ? 'block' : 'none';\n",
              "    })();\n",
              "  </script>\n",
              "</div>\n",
              "\n",
              "    </div>\n",
              "  </div>\n"
            ],
            "application/vnd.google.colaboratory.intrinsic+json": {
              "type": "dataframe",
              "variable_name": "df_FR",
              "summary": "{\n  \"name\": \"df_FR\",\n  \"rows\": 22542,\n  \"fields\": [\n    {\n      \"column\": \"url\",\n      \"properties\": {\n        \"dtype\": \"string\",\n        \"num_unique_values\": 22538,\n        \"samples\": [\n          \"https://www.chateaudeblois.fr/TPL_CODE/TPL_DIAPORAMAWALL/fontSize/x-large/voir/47/open/1/2024-diaporamas.htm#document\",\n          \"https://patrimoine.lamayenne.fr/sainte-suzanne/evenements/escape-game-26/\",\n          \"https://www.chateau-oiron.fr/sites/centre-des-monuments-nationaux/page-d-accueil/politique-de-confidentialite\"\n        ],\n        \"semantic_type\": \"\",\n        \"description\": \"\"\n      }\n    },\n    {\n      \"column\": \"text\",\n      \"properties\": {\n        \"dtype\": \"category\",\n        \"num_unique_values\": 9862,\n        \"samples\": [\n          \"Ch\\u00e2teau de Sully en Bourgogne, coin presse\\nJSL - Murder mystery au ch\\u00e2teau\\nEnqu\\u00eate polici\\u00e8re grandeur nature samedi au ch\\u00e2teau de Sully qui accueillait pour l\\u2019occasion le club d\\u2019anglais du coll\\u00e8ge du Vallon...\\nJSL - En visite au ch\\u00e2teau\\nLe ch\\u00e2teau de Sully, demeure de la duchesse de Magenta, vient d\\u2019accueillir les membres de l\\u2019association Renaissance ch\\u00e2teau du Pailly...\",\n          \"Contacter le Ch\\u00e2teau de Tr\\u00e9dion pour un mariage\\nScroll down\\nNous contacter\\nSi vous souhaitez nous poser des questions ou obtenir plus d\\u2019informations,\\nn\\u2019h\\u00e9sitez pas \\u00e0 nous contacter\\nDonn\\u00e9es cartographiques \\u00a92025 GeoBasis-DE/BKG (\\u00a92009), Google, Inst. Geogr. Nacional\",\n          \"La vie de ch\\u00e2teau en hiver\\nEpisode 1 : A la d\\u00e9couverte d'Am\\u00e9lie de Mac Mahon, propi\\u00e9taire des lieux\\nAm\\u00e9lie de Mac Mahon est \\u00e9cossaise d'origine. Par son mari, elle est entr\\u00e9e dans cette c\\u00e9l\\u00e9brissime famille d'origine irlandaise dont le personnage le plus illustre est Patrice de Mac Mahon. Ce dernier s'est illustr\\u00e9 pendant la campagne d'Italie en 1859. En guise de r\\u00e9compense, Napol\\u00e9on III lui a d\\u00e9cern\\u00e9 le titre de duc de Magenta. Apr\\u00e8s avoir r\\u00e9prim\\u00e9 durement la Commune de Paris, il a \\u00e9t\\u00e9 \\u00e9lu pr\\u00e9sident de la Troisi\\u00e8me R\\u00e9publique naissante. Il a occup\\u00e9 cette fonction 1871 \\u00e0 1879. Aujourd'hui, sa descendante Am\\u00e9lie et les enfants de celle-ci vivent toujours au ch\\u00e2teau de Sully o\\u00f9 est n\\u00e9 Patrice de Mac Mahon. Le monument n'a jamais quitt\\u00e9 la famille. Mais la vie de ch\\u00e2telaine ne ressemble pas \\u00e0 l'image luxueuse qu'on a parfois en t\\u00eate. Am\\u00e9lie de Mac Mahon passe tout son temps \\u00e0 g\\u00e9rer cet h\\u00e9ritage hors-norme. Le reportage de C. Banasik et Q. C\\u00e9zard avec : \\nP\\u00e9lagie de Mac Mahon, fille de la Duchesse de Magenta \\nAm\\u00e9lie de Mac Mahon, duchesse de Magenta \\nSylvie Mignot, guide depuis 16 ans \\nC\\u00e9cile Banasik\\nhttp://france3-regions.francetvinfo.fr/bourgogne-franche-comte/saone-et-loire/saone-loire-quoi-ressemble-vie-chateau-1186793.html\\nA l'affiche\\nR\\u00e9cents\\nArchives\"\n        ],\n        \"semantic_type\": \"\",\n        \"description\": \"\"\n      }\n    }\n  ]\n}"
            }
          },
          "metadata": {},
          "execution_count": 8
        }
      ],
      "source": [
        "# Import json data from Aipfy scraping into 4 separate dataframes\n",
        "df_NL=pd.read_json(path+cc_list[0]+'_dataset_website-content-crawler.json') # NL\n",
        "# select only two columns for analysis: url and text\n",
        "df_NL=df_NL[['url','text']]\n",
        "\n",
        "df_UK=pd.read_json(path+cc_list[1]+'_dataset_website-content-crawler.json') # UK\n",
        "# select only two columns for analysis: url and text\n",
        "df_UK=df_UK[['url','text']]\n",
        "\n",
        "df_DE=pd.read_json(path+cc_list[2]+'_dataset_website-content-crawler.json') # DE\n",
        "# select only two columns for analysis: url and text\n",
        "df_DE=df_DE[['url','text']]\n",
        "\n",
        "df_FR=pd.read_json(path+cc_list[3]+'_dataset_website-content-crawler.json') # FR\n",
        "# select only two columns for analysis: url and text\n",
        "df_FR=df_FR[['url','text']]\n",
        "\n",
        "df_FR.head()"
      ]
    },
    {
      "cell_type": "code",
      "source": [
        "# check if there are further datasets to add per country\n",
        "\n",
        "!ls \"$path\" | grep \"^UK_\""
      ],
      "metadata": {
        "colab": {
          "base_uri": "https://localhost:8080/"
        },
        "id": "AHJ403OyPSjQ",
        "outputId": "d8ce8e22-2fad-42e6-f16f-dc67d342ad5c"
      },
      "id": "AHJ403OyPSjQ",
      "execution_count": 9,
      "outputs": [
        {
          "output_type": "stream",
          "name": "stdout",
          "text": [
            "UK_dataset_website-content-crawler.json\n",
            "UK_EH_dataset_website-content-crawler_2025-03-26_09-11-52-434.json\n",
            "UK_PC_dataset_website-content-crawler_2025-03-11_12-28-08-810.json\n"
          ]
        }
      ]
    },
    {
      "cell_type": "code",
      "source": [
        "# manually append additional datasets (based on previous step)\n",
        "df_missing1 = pd.read_json(path+'/NL_LG_dataset_website-content-crawler_2025-02-06_09-40-33-880.json')\n",
        "result = pd.concat([df_NL, df_missing1])"
      ],
      "metadata": {
        "id": "G132YTQbPeQU"
      },
      "id": "G132YTQbPeQU",
      "execution_count": 10,
      "outputs": []
    },
    {
      "cell_type": "code",
      "source": [
        "df_missing1 = pd.read_json(path+'/UK_EH_dataset_website-content-crawler_2025-03-26_09-11-52-434.json')\n",
        "df_missing2 = pd.read_json(path+'/UK_PC_dataset_website-content-crawler_2025-03-11_12-28-08-810.json')\n",
        "result = pd.concat([df_UK, df_missing1, df_missing2])"
      ],
      "metadata": {
        "id": "wW6qdkj4PzGY"
      },
      "id": "wW6qdkj4PzGY",
      "execution_count": 11,
      "outputs": []
    },
    {
      "cell_type": "markdown",
      "id": "Rr6hiPQ-4z5O",
      "metadata": {
        "id": "Rr6hiPQ-4z5O"
      },
      "source": [
        "Join all pages from a domain to an entry in the analysis. To do this, add a new column which will contain only the main domain name."
      ]
    },
    {
      "cell_type": "code",
      "source": [
        "# function to extract the main domain from the url in the dataset (ALL DOMAINS)\n",
        "def extract_main_domain(url):\n",
        "    if not isinstance(str(url), str):\n",
        "        print('NOT VALID',url)\n",
        "        return None\n",
        "    match = re.findall('(?:\\w+\\.)*[\\w\\-]+\\.\\w*', str(url)) #'www\\.?([^/]+)'\n",
        "    return match[0].lstrip('www.') if match else None"
      ],
      "metadata": {
        "id": "y4SbuWQdpRuf"
      },
      "id": "y4SbuWQdpRuf",
      "execution_count": 12,
      "outputs": []
    },
    {
      "cell_type": "code",
      "execution_count": 13,
      "id": "47db9deb-8836-47fb-9f74-28a023bcb5d7",
      "metadata": {
        "id": "47db9deb-8836-47fb-9f74-28a023bcb5d7"
      },
      "outputs": [],
      "source": [
        "# Add a new column 'domain' and fill it by applying the extract_main_domain function to the 'url' column\n",
        "\n",
        "# first, create a mapping of dataframes which could be addressed in a loop\n",
        "df_dict = {'0':df_NL, '1':df_UK, '2':df_DE, '3':df_FR}\n",
        "\n",
        "# then, loop through the df_dict to update each dataframe\n",
        "for k, v in df_dict.items():\n",
        "  cc_column = cc_list[int(k[-1])]+' domains'\n",
        "  cc = cc_list[int(k[-1])]\n",
        "  # print(cc_column, cc)\n",
        "  urls = pd.read_csv(path+'url_lists/'+cc_list[int(k[-1])]+'_urls.csv')[cc_column].values.tolist()\n",
        "  domains = {extract_main_domain(url) for url in urls if extract_main_domain(url) is not None}\n",
        "  matching_links = [link for link in v.url if extract_main_domain(link) in domains]\n",
        "  # update the dataframe\n",
        "  v['domain'] = v['url'].apply(extract_main_domain)"
      ]
    },
    {
      "cell_type": "code",
      "execution_count": null,
      "id": "NnGrMALwClPC",
      "metadata": {
        "id": "NnGrMALwClPC",
        "colab": {
          "base_uri": "https://localhost:8080/",
          "height": 206
        },
        "outputId": "6e1700d9-2fa8-45fd-9d1e-ce2166533cbe"
      },
      "outputs": [
        {
          "output_type": "execute_result",
          "data": {
            "text/plain": [
              "                                                 url  \\\n",
              "0                http://www.schlossparkmarisfeld.de/   \n",
              "1  http://www.schlossparkmarisfeld.de/information...   \n",
              "2  http://www.schlossparkmarisfeld.de/information...   \n",
              "3  http://www.schlossparkmarisfeld.de/information...   \n",
              "4  http://www.schlossparkmarisfeld.de/information...   \n",
              "\n",
              "                                                text                   domain  \n",
              "0  Schlosspark Marisfeld - Schlosspark Marisfeld\\...  schlossparkmarisfeld.de  \n",
              "1  Informationen zur Geschichte des Schlossparks\\...  schlossparkmarisfeld.de  \n",
              "2  Der Schlosspark Marisfeld - Kleine Parkgeschic...  schlossparkmarisfeld.de  \n",
              "3  Der Förderverein stellt sich vor\\nDer aktuelle...  schlossparkmarisfeld.de  \n",
              "4  Die Vereinssatzung - Schlosspark Marisfeld\\nFa...  schlossparkmarisfeld.de  "
            ],
            "text/html": [
              "\n",
              "  <div id=\"df-8bbd4718-2331-4dda-8d98-f6ba4c42bb3d\" class=\"colab-df-container\">\n",
              "    <div>\n",
              "<style scoped>\n",
              "    .dataframe tbody tr th:only-of-type {\n",
              "        vertical-align: middle;\n",
              "    }\n",
              "\n",
              "    .dataframe tbody tr th {\n",
              "        vertical-align: top;\n",
              "    }\n",
              "\n",
              "    .dataframe thead th {\n",
              "        text-align: right;\n",
              "    }\n",
              "</style>\n",
              "<table border=\"1\" class=\"dataframe\">\n",
              "  <thead>\n",
              "    <tr style=\"text-align: right;\">\n",
              "      <th></th>\n",
              "      <th>url</th>\n",
              "      <th>text</th>\n",
              "      <th>domain</th>\n",
              "    </tr>\n",
              "  </thead>\n",
              "  <tbody>\n",
              "    <tr>\n",
              "      <th>0</th>\n",
              "      <td>http://www.schlossparkmarisfeld.de/</td>\n",
              "      <td>Schlosspark Marisfeld - Schlosspark Marisfeld\\...</td>\n",
              "      <td>schlossparkmarisfeld.de</td>\n",
              "    </tr>\n",
              "    <tr>\n",
              "      <th>1</th>\n",
              "      <td>http://www.schlossparkmarisfeld.de/information...</td>\n",
              "      <td>Informationen zur Geschichte des Schlossparks\\...</td>\n",
              "      <td>schlossparkmarisfeld.de</td>\n",
              "    </tr>\n",
              "    <tr>\n",
              "      <th>2</th>\n",
              "      <td>http://www.schlossparkmarisfeld.de/information...</td>\n",
              "      <td>Der Schlosspark Marisfeld - Kleine Parkgeschic...</td>\n",
              "      <td>schlossparkmarisfeld.de</td>\n",
              "    </tr>\n",
              "    <tr>\n",
              "      <th>3</th>\n",
              "      <td>http://www.schlossparkmarisfeld.de/information...</td>\n",
              "      <td>Der Förderverein stellt sich vor\\nDer aktuelle...</td>\n",
              "      <td>schlossparkmarisfeld.de</td>\n",
              "    </tr>\n",
              "    <tr>\n",
              "      <th>4</th>\n",
              "      <td>http://www.schlossparkmarisfeld.de/information...</td>\n",
              "      <td>Die Vereinssatzung - Schlosspark Marisfeld\\nFa...</td>\n",
              "      <td>schlossparkmarisfeld.de</td>\n",
              "    </tr>\n",
              "  </tbody>\n",
              "</table>\n",
              "</div>\n",
              "    <div class=\"colab-df-buttons\">\n",
              "\n",
              "  <div class=\"colab-df-container\">\n",
              "    <button class=\"colab-df-convert\" onclick=\"convertToInteractive('df-8bbd4718-2331-4dda-8d98-f6ba4c42bb3d')\"\n",
              "            title=\"Convert this dataframe to an interactive table.\"\n",
              "            style=\"display:none;\">\n",
              "\n",
              "  <svg xmlns=\"http://www.w3.org/2000/svg\" height=\"24px\" viewBox=\"0 -960 960 960\">\n",
              "    <path d=\"M120-120v-720h720v720H120Zm60-500h600v-160H180v160Zm220 220h160v-160H400v160Zm0 220h160v-160H400v160ZM180-400h160v-160H180v160Zm440 0h160v-160H620v160ZM180-180h160v-160H180v160Zm440 0h160v-160H620v160Z\"/>\n",
              "  </svg>\n",
              "    </button>\n",
              "\n",
              "  <style>\n",
              "    .colab-df-container {\n",
              "      display:flex;\n",
              "      gap: 12px;\n",
              "    }\n",
              "\n",
              "    .colab-df-convert {\n",
              "      background-color: #E8F0FE;\n",
              "      border: none;\n",
              "      border-radius: 50%;\n",
              "      cursor: pointer;\n",
              "      display: none;\n",
              "      fill: #1967D2;\n",
              "      height: 32px;\n",
              "      padding: 0 0 0 0;\n",
              "      width: 32px;\n",
              "    }\n",
              "\n",
              "    .colab-df-convert:hover {\n",
              "      background-color: #E2EBFA;\n",
              "      box-shadow: 0px 1px 2px rgba(60, 64, 67, 0.3), 0px 1px 3px 1px rgba(60, 64, 67, 0.15);\n",
              "      fill: #174EA6;\n",
              "    }\n",
              "\n",
              "    .colab-df-buttons div {\n",
              "      margin-bottom: 4px;\n",
              "    }\n",
              "\n",
              "    [theme=dark] .colab-df-convert {\n",
              "      background-color: #3B4455;\n",
              "      fill: #D2E3FC;\n",
              "    }\n",
              "\n",
              "    [theme=dark] .colab-df-convert:hover {\n",
              "      background-color: #434B5C;\n",
              "      box-shadow: 0px 1px 3px 1px rgba(0, 0, 0, 0.15);\n",
              "      filter: drop-shadow(0px 1px 2px rgba(0, 0, 0, 0.3));\n",
              "      fill: #FFFFFF;\n",
              "    }\n",
              "  </style>\n",
              "\n",
              "    <script>\n",
              "      const buttonEl =\n",
              "        document.querySelector('#df-8bbd4718-2331-4dda-8d98-f6ba4c42bb3d button.colab-df-convert');\n",
              "      buttonEl.style.display =\n",
              "        google.colab.kernel.accessAllowed ? 'block' : 'none';\n",
              "\n",
              "      async function convertToInteractive(key) {\n",
              "        const element = document.querySelector('#df-8bbd4718-2331-4dda-8d98-f6ba4c42bb3d');\n",
              "        const dataTable =\n",
              "          await google.colab.kernel.invokeFunction('convertToInteractive',\n",
              "                                                    [key], {});\n",
              "        if (!dataTable) return;\n",
              "\n",
              "        const docLinkHtml = 'Like what you see? Visit the ' +\n",
              "          '<a target=\"_blank\" href=https://colab.research.google.com/notebooks/data_table.ipynb>data table notebook</a>'\n",
              "          + ' to learn more about interactive tables.';\n",
              "        element.innerHTML = '';\n",
              "        dataTable['output_type'] = 'display_data';\n",
              "        await google.colab.output.renderOutput(dataTable, element);\n",
              "        const docLink = document.createElement('div');\n",
              "        docLink.innerHTML = docLinkHtml;\n",
              "        element.appendChild(docLink);\n",
              "      }\n",
              "    </script>\n",
              "  </div>\n",
              "\n",
              "\n",
              "<div id=\"df-61942c30-c3d5-4fc2-a7d5-00593a46e2d2\">\n",
              "  <button class=\"colab-df-quickchart\" onclick=\"quickchart('df-61942c30-c3d5-4fc2-a7d5-00593a46e2d2')\"\n",
              "            title=\"Suggest charts\"\n",
              "            style=\"display:none;\">\n",
              "\n",
              "<svg xmlns=\"http://www.w3.org/2000/svg\" height=\"24px\"viewBox=\"0 0 24 24\"\n",
              "     width=\"24px\">\n",
              "    <g>\n",
              "        <path d=\"M19 3H5c-1.1 0-2 .9-2 2v14c0 1.1.9 2 2 2h14c1.1 0 2-.9 2-2V5c0-1.1-.9-2-2-2zM9 17H7v-7h2v7zm4 0h-2V7h2v10zm4 0h-2v-4h2v4z\"/>\n",
              "    </g>\n",
              "</svg>\n",
              "  </button>\n",
              "\n",
              "<style>\n",
              "  .colab-df-quickchart {\n",
              "      --bg-color: #E8F0FE;\n",
              "      --fill-color: #1967D2;\n",
              "      --hover-bg-color: #E2EBFA;\n",
              "      --hover-fill-color: #174EA6;\n",
              "      --disabled-fill-color: #AAA;\n",
              "      --disabled-bg-color: #DDD;\n",
              "  }\n",
              "\n",
              "  [theme=dark] .colab-df-quickchart {\n",
              "      --bg-color: #3B4455;\n",
              "      --fill-color: #D2E3FC;\n",
              "      --hover-bg-color: #434B5C;\n",
              "      --hover-fill-color: #FFFFFF;\n",
              "      --disabled-bg-color: #3B4455;\n",
              "      --disabled-fill-color: #666;\n",
              "  }\n",
              "\n",
              "  .colab-df-quickchart {\n",
              "    background-color: var(--bg-color);\n",
              "    border: none;\n",
              "    border-radius: 50%;\n",
              "    cursor: pointer;\n",
              "    display: none;\n",
              "    fill: var(--fill-color);\n",
              "    height: 32px;\n",
              "    padding: 0;\n",
              "    width: 32px;\n",
              "  }\n",
              "\n",
              "  .colab-df-quickchart:hover {\n",
              "    background-color: var(--hover-bg-color);\n",
              "    box-shadow: 0 1px 2px rgba(60, 64, 67, 0.3), 0 1px 3px 1px rgba(60, 64, 67, 0.15);\n",
              "    fill: var(--button-hover-fill-color);\n",
              "  }\n",
              "\n",
              "  .colab-df-quickchart-complete:disabled,\n",
              "  .colab-df-quickchart-complete:disabled:hover {\n",
              "    background-color: var(--disabled-bg-color);\n",
              "    fill: var(--disabled-fill-color);\n",
              "    box-shadow: none;\n",
              "  }\n",
              "\n",
              "  .colab-df-spinner {\n",
              "    border: 2px solid var(--fill-color);\n",
              "    border-color: transparent;\n",
              "    border-bottom-color: var(--fill-color);\n",
              "    animation:\n",
              "      spin 1s steps(1) infinite;\n",
              "  }\n",
              "\n",
              "  @keyframes spin {\n",
              "    0% {\n",
              "      border-color: transparent;\n",
              "      border-bottom-color: var(--fill-color);\n",
              "      border-left-color: var(--fill-color);\n",
              "    }\n",
              "    20% {\n",
              "      border-color: transparent;\n",
              "      border-left-color: var(--fill-color);\n",
              "      border-top-color: var(--fill-color);\n",
              "    }\n",
              "    30% {\n",
              "      border-color: transparent;\n",
              "      border-left-color: var(--fill-color);\n",
              "      border-top-color: var(--fill-color);\n",
              "      border-right-color: var(--fill-color);\n",
              "    }\n",
              "    40% {\n",
              "      border-color: transparent;\n",
              "      border-right-color: var(--fill-color);\n",
              "      border-top-color: var(--fill-color);\n",
              "    }\n",
              "    60% {\n",
              "      border-color: transparent;\n",
              "      border-right-color: var(--fill-color);\n",
              "    }\n",
              "    80% {\n",
              "      border-color: transparent;\n",
              "      border-right-color: var(--fill-color);\n",
              "      border-bottom-color: var(--fill-color);\n",
              "    }\n",
              "    90% {\n",
              "      border-color: transparent;\n",
              "      border-bottom-color: var(--fill-color);\n",
              "    }\n",
              "  }\n",
              "</style>\n",
              "\n",
              "  <script>\n",
              "    async function quickchart(key) {\n",
              "      const quickchartButtonEl =\n",
              "        document.querySelector('#' + key + ' button');\n",
              "      quickchartButtonEl.disabled = true;  // To prevent multiple clicks.\n",
              "      quickchartButtonEl.classList.add('colab-df-spinner');\n",
              "      try {\n",
              "        const charts = await google.colab.kernel.invokeFunction(\n",
              "            'suggestCharts', [key], {});\n",
              "      } catch (error) {\n",
              "        console.error('Error during call to suggestCharts:', error);\n",
              "      }\n",
              "      quickchartButtonEl.classList.remove('colab-df-spinner');\n",
              "      quickchartButtonEl.classList.add('colab-df-quickchart-complete');\n",
              "    }\n",
              "    (() => {\n",
              "      let quickchartButtonEl =\n",
              "        document.querySelector('#df-61942c30-c3d5-4fc2-a7d5-00593a46e2d2 button');\n",
              "      quickchartButtonEl.style.display =\n",
              "        google.colab.kernel.accessAllowed ? 'block' : 'none';\n",
              "    })();\n",
              "  </script>\n",
              "</div>\n",
              "\n",
              "    </div>\n",
              "  </div>\n"
            ],
            "application/vnd.google.colaboratory.intrinsic+json": {
              "type": "dataframe",
              "variable_name": "df_DE",
              "summary": "{\n  \"name\": \"df_DE\",\n  \"rows\": 10439,\n  \"fields\": [\n    {\n      \"column\": \"url\",\n      \"properties\": {\n        \"dtype\": \"string\",\n        \"num_unique_values\": 10438,\n        \"samples\": [\n          \"https://www.wartburg.de/nachricht/das-wartburgfest-1817-soll-weiter-erforscht-werden\",\n          \"https://www.albrechtsburg-meissen.de/cs/sluzby-navstevnikum/prijezd/#search-header-form\",\n          \"https://www.museum-ranis.de/news/1/906822/nachrichten/sensationsfund-in-raniser-ilsenh%C3%B6hle.html#content\"\n        ],\n        \"semantic_type\": \"\",\n        \"description\": \"\"\n      }\n    },\n    {\n      \"column\": \"text\",\n      \"properties\": {\n        \"dtype\": \"string\",\n        \"num_unique_values\": 6103,\n        \"samples\": [\n          \"Trooping the Colour | Staatliche Schl\\u00f6sser und G\\u00e4rten Hessen\\nTrooping the colour was zu Deutsch sinngem\\u00e4\\u00df \\u201eDie Farbender Fahne den Truppen zeigen\\u201c bedeutet, wurde 1748 das erste Mal unter Karl II. in England durchgef\\u00fchrt. Den Ursprung hat der Brauch im t\\u00e4glichen Vorf\\u00fchren der Truppenfahnen vor den Soldaten, damit sie diese in Schlachten wiedererkennen konnten. Das Vorf\\u00fchren der Fahne in Gegenwart des Herrschers sollte an deren Pflicht ihm gegen\\u00fcber erinnern. Seit 1805 wird diese Zeremonie jedes Jahr zu Ehren des jeweiligen britischen Monarchen gefeiert. Aufgrund des Todes von Prinz Philip f\\u00e4llt Trooping thecolour zu Ehren von Queen Elizabeth II. in diesem Jahr jedoch aus.\\nEs war Elizas Vater, K\\u00f6nig George III., der Trooping the colour im j\\u00e4hrlichen Turnus demnach eingef\\u00fchrt hat. Die Staatliche B\\u00fccher- und Kupferstichstichsammlung Greiz hat uns f\\u00fcr die Ausstellung eine Reproduktion eines Stichs von K\\u00f6nig George III. zur Verf\\u00fcgung gestellt. Dieser wurde bereits 1804 von Benjamin Smith angefertigt, welcher als Vorlage ein ganzfiguriges Portr\\u00e4t von Sir William Beechey nahm. Auf dem Bild tr\\u00e4gt der K\\u00f6nig eine Gardeuniform eines Generals. Der dunkle Himmel auf der Abbildung kann als Metapher f\\u00fcr m\\u00f6gliche kommende Schlachten verstanden werden, denen sich George III. zuk\\u00fcnftig stellen muss.\",\n          \"An internal server error occurred.\",\n          \"Burgenlinie 572 durch den Hohen Fl\\u00e4ming\\nTouristinfo\\nSteintherme\\nStadtverwaltung\\nDie Burgenlinie 572 f\\u00e4hrt f\\u00fcnfmal am Tag von Montag bis Sonntag und ist ab sofort das ganze Jahr unterwegs. Das gilt \\u00fcbrigens auch f\\u00fcr Heiligabend, die Weihnachtsfeiertage, Silvester und Neujahr!\"\n        ],\n        \"semantic_type\": \"\",\n        \"description\": \"\"\n      }\n    },\n    {\n      \"column\": \"domain\",\n      \"properties\": {\n        \"dtype\": \"category\",\n        \"num_unique_values\": 96,\n        \"samples\": [\n          \"lindaschwarz.com\",\n          \"museum-ranis.de\",\n          \"schloss-haemelschenburg.de\"\n        ],\n        \"semantic_type\": \"\",\n        \"description\": \"\"\n      }\n    }\n  ]\n}"
            }
          },
          "metadata": {},
          "execution_count": 63
        }
      ],
      "source": [
        "# check one of the dataframes\n",
        "df_DE.head()"
      ]
    },
    {
      "cell_type": "markdown",
      "id": "TTEuzWvOK2Zp",
      "metadata": {
        "id": "TTEuzWvOK2Zp"
      },
      "source": [
        "## Compare term frequencies across corpora"
      ]
    },
    {
      "cell_type": "code",
      "execution_count": 14,
      "id": "cSGHLhDxPxIH",
      "metadata": {
        "id": "cSGHLhDxPxIH"
      },
      "outputs": [],
      "source": [
        "# list terms to compare\n",
        "activities = ['kind','spel','avontuur',\n",
        "              'child','game','adventure',\n",
        "              'kind', 'spiel', 'abenteuer',\n",
        "              'enfant', 'jeu', 'aventure']\n",
        "events = ['feest','bruiloft','bruid','bruidegom',\n",
        "          'party','wedding','bride','groom',\n",
        "          'party', 'hochzeit', 'braut', 'bräutigam',\n",
        "          'fête', 'mariage', 'mariée', 'marié']\n",
        "nobility = ['graaf','baron','hertog',\n",
        "            'earl','baron','duke',\n",
        "            'graf','baron','herzog',\n",
        "            'compte','baron','duc']\n",
        "culture = ['tentoonstelling','museum','tuin','park','collectie',\n",
        "           'exhibition','museum','garden','park','collection',\n",
        "           'ausstellung','museum','garten','park','sammlung',\n",
        "           'exposition','musée','jardin','parc','collection']\n",
        "styles = ['rococo', 'barok', 'renaissance', 'gotiek', # or gotisch\n",
        "          'rococo', 'baroque', 'renaissance', 'gothic',\n",
        "          'rokoko', 'barock', 'renaissance', 'gotik',\n",
        "          'rococo', 'baroque', 'renaissance', 'gothique']"
      ]
    },
    {
      "cell_type": "markdown",
      "source": [
        "Create texts as 'documents' to count terms and perform tf-idf"
      ],
      "metadata": {
        "id": "JhCcqF8KpiO_"
      },
      "id": "JhCcqF8KpiO_"
    },
    {
      "cell_type": "code",
      "source": [
        "# prototype code to check number of times a term appears in one corpus; use to confirm results of later calculations\n",
        "term = 'architecture'\n",
        "corpus = df_UK\n",
        "term_count = sum([str(item).lower().count(term) for item in corpus['text'].tolist()])\n",
        "print(int(term_count))"
      ],
      "metadata": {
        "colab": {
          "base_uri": "https://localhost:8080/"
        },
        "id": "h-pq1rwhrP8L",
        "outputId": "543dc424-c90c-424f-dc82-3b4d50e7a273"
      },
      "id": "h-pq1rwhrP8L",
      "execution_count": null,
      "outputs": [
        {
          "output_type": "stream",
          "name": "stdout",
          "text": [
            "186\n"
          ]
        }
      ]
    },
    {
      "cell_type": "code",
      "source": [
        "# count term frequencies across four dataframes\n",
        "list_to_count = events # replace with the name of a list of terms (above)\n",
        "dataframes = [df_NL, df_UK, df_DE, df_FR] # list of dataframes\n",
        "number_of_terms = int(len(list_to_count) / 4) # calculate the number of terms in 1 language\n",
        "\n",
        "term_count_dict = {}\n",
        "start, end = 0, number_of_terms\n",
        "for i, df in enumerate(dataframes):\n",
        "  term_count_values = []\n",
        "  for term in list_to_count[start:end]:\n",
        "    #print(term)\n",
        "    term_count_column = sum([str(item).lower().count(term) for item in df['text'].tolist()])\n",
        "    #print(int(term_count_column.sum()))\n",
        "    term_count_values.append(int(term_count_column))\n",
        "  start += number_of_terms\n",
        "  end += number_of_terms\n",
        "  term_count_dict[cc_list[i]] = term_count_values\n",
        "\n",
        "term_count_dict"
      ],
      "metadata": {
        "colab": {
          "base_uri": "https://localhost:8080/"
        },
        "id": "WX_T6TWofy77",
        "outputId": "89fcace0-26d0-4ce7-cea8-24067b454eea"
      },
      "id": "WX_T6TWofy77",
      "execution_count": null,
      "outputs": [
        {
          "output_type": "execute_result",
          "data": {
            "text/plain": [
              "{'NL': [1401, 273, 335, 5],\n",
              " 'UK': [701, 1944, 106, 57],\n",
              " 'DE': [268, 592, 66, 3],\n",
              " 'FR': [1040, 694, 21, 71]}"
            ]
          },
          "metadata": {},
          "execution_count": 47
        }
      ]
    },
    {
      "cell_type": "code",
      "source": [
        "# Visualize the term count as a stacked bar chart per country\n",
        "theme = 'parties'\n",
        "terms = list_to_count[number_of_terms:number_of_terms*2] # change which section of the list is used in the legend\n",
        "# Create a list of countries (y-axis labels)\n",
        "countries = list(term_count_dict.keys())\n",
        "\n",
        "# Create the stacked bar chart\n",
        "width = 0.45  # Width of the bars\n",
        "\n",
        "fig, ax = plt.subplots(figsize=(10,8))\n",
        "\n",
        "bottom = np.zeros(len(countries))\n",
        "colors = ['#92E0E0', 'red', '#C1E000', '#C192E0','#E05543','#E0C200']\n",
        "\n",
        "# Add horizontal lines for values in the legend\n",
        "for value in [250, 500, 750, 1000, 1250, 1500, 1750, 2000, 2250, 2500, 2750]:\n",
        "    #[100, 200, 300, 400, 500, 600, 700, 800, 900, 1000]\n",
        "    #[250, 500, 750, 1000, 1250, 1500, 1750, 2000, 2250, 2500, 2750]\n",
        "    #[100, 500, 1000, 1500, 2000, 2500, 3000, 3500, 4000]\n",
        "    #[1000, 2000, 3000, 4000, 5000, 6000, 7000, 8000, 9000, 10000]\n",
        "    #[2000, 4000, 6000, 8000, 10000, 12000, 14000, 16000, 18000] # activities\n",
        "    #[2500, 5000, 7500, 10000, 12500, 15000, 17500, 20000, 22500, 25000, 27500] # arts & culture\n",
        "  plt.axhline(y=value, color='grey', linestyle='--', linewidth=0.5)\n",
        "\n",
        "for term_index in range(len(terms)):\n",
        "    term_counts = [term_count_dict[country][term_index] for country in countries]\n",
        "    ax.bar(countries, term_counts, width, label=terms[term_index], bottom=bottom,\n",
        "           color=colors[term_index % len(colors)])\n",
        "    bottom += np.array(term_counts)\n",
        "\n",
        "ax.set_xlabel('Countries', color='white')\n",
        "ax.set_ylabel('Term Counts', color='white')\n",
        "ax.set_title('Terms related to '+theme+' per country', color='white')\n",
        "ax.spines['bottom'].set_color('white')\n",
        "ax.spines['top'].set_color('white')\n",
        "ax.spines['left'].set_color('white')\n",
        "ax.spines['right'].set_color('white')\n",
        "ax.tick_params(axis='x', colors='white')\n",
        "ax.tick_params(axis='y', colors='white')\n",
        "ax.legend()\n",
        "\n",
        "plt.tight_layout()\n",
        "plt.savefig(path+'outputs/2024_'+theme+'.png', transparent=True)\n",
        "plt.show()"
      ],
      "metadata": {
        "colab": {
          "base_uri": "https://localhost:8080/",
          "height": 807
        },
        "id": "6S2i31H0xtjk",
        "outputId": "ad900a38-d12a-460f-bebf-45fdd3583b2e"
      },
      "id": "6S2i31H0xtjk",
      "execution_count": null,
      "outputs": [
        {
          "output_type": "display_data",
          "data": {
            "text/plain": [
              "<Figure size 1000x800 with 1 Axes>"
            ],
            "image/png": "[encoded data removed]"
          },
          "metadata": {}
        }
      ]
    },
    {
      "cell_type": "code",
      "source": [
        "# count term frequencies across four dataframes\n",
        "terms = ['architectuur', 'architecture', 'architektur', 'architecture'] # replace with the name of a list of terms (above)\n",
        "dataframes = [df_NL, df_UK, df_DE, df_FR] # list of dataframes\n",
        "\n",
        "term_count_dict = {}\n",
        "for i, df in enumerate(dataframes):\n",
        "  term_count_values = []\n",
        "  #print(terms[i])\n",
        "  term_count_column = sum([str(item).lower().count(terms[i]) for item in df['text'].tolist()])\n",
        "  #print(int(term_count_column.sum()))\n",
        "  term_count_values.append(int(term_count_column))\n",
        "  term_count_dict[cc_list[i]] = term_count_values\n",
        "\n",
        "term_count_dict"
      ],
      "metadata": {
        "colab": {
          "base_uri": "https://localhost:8080/"
        },
        "outputId": "3654dc05-9d2e-49a4-bf5e-93d0ba9da139",
        "id": "nn52206yG0I8"
      },
      "execution_count": null,
      "outputs": [
        {
          "output_type": "execute_result",
          "data": {
            "text/plain": [
              "{'NL': [128], 'UK': [186], 'DE': [556], 'FR': [3889]}"
            ]
          },
          "metadata": {},
          "execution_count": 81
        }
      ],
      "id": "nn52206yG0I8"
    },
    {
      "cell_type": "code",
      "source": [
        "theme = terms[1]\n",
        "# Visualize the term count as a vertical bar chart\n",
        "fig, ax = plt.subplots(figsize=(10, 6))\n",
        "width = 0.45  # Width of the bars\n",
        "# Get the keys and values from the dictionary\n",
        "countries = list(term_count_dict.keys())\n",
        "counts = list(term_count_dict.values())\n",
        "\n",
        "# Flatten the counts list if it contains nested lists\n",
        "if isinstance(counts[0], list):\n",
        "  counts = [item for sublist in counts for item in sublist]\n",
        "\n",
        "# Add horizontal lines for values in the legend\n",
        "for value in [500, 1000, 1500, 2000, 2500, 3000, 3500, 4000]:\n",
        "\n",
        "  plt.axhline(y=value, color='grey', linestyle='--', linewidth=0.5)\n",
        "# Create the bar chart\n",
        "ax.bar(countries, counts, width, color='#eee')\n",
        "\n",
        "# Set the labels and title\n",
        "ax.set_xlabel('Terms', color='white')\n",
        "ax.set_title('Frequency of term \\\"'+theme+'\\\" per country', color='white')\n",
        "ax.spines['bottom'].set_color('white')\n",
        "ax.spines['top'].set_color('white')\n",
        "ax.spines['left'].set_color('white')\n",
        "ax.spines['right'].set_color('white')\n",
        "ax.tick_params(axis='x', colors='white')\n",
        "ax.tick_params(axis='y', colors='white')\n",
        "# Rotate x-axis labels if needed\n",
        "plt.xticks(rotation=0, ha='right', color='white')\n",
        "\n",
        "\n",
        "# Display the chart\n",
        "plt.tight_layout()\n",
        "plt.savefig(path+'outputs/2024_'+theme+'.png', transparent=True)\n",
        "plt.show()\n"
      ],
      "metadata": {
        "colab": {
          "base_uri": "https://localhost:8080/",
          "height": 607
        },
        "outputId": "f26f7d23-6d84-4fd3-da65-4fc9310d65ee",
        "id": "FhQpr9-lG0I-"
      },
      "execution_count": null,
      "outputs": [
        {
          "output_type": "display_data",
          "data": {
            "text/plain": [
              "<Figure size 1000x600 with 1 Axes>"
            ],
            "image/png": "[encoded data removed]"
          },
          "metadata": {}
        }
      ],
      "id": "FhQpr9-lG0I-"
    },
    {
      "cell_type": "markdown",
      "source": [
        "## Compare TF-IDF across corpora"
      ],
      "metadata": {
        "id": "scTik19V9Ict"
      },
      "id": "scTik19V9Ict"
    },
    {
      "cell_type": "code",
      "source": [
        "from sklearn.feature_extraction.text import TfidfVectorizer\n",
        "\n",
        "# Initiate separate corpora and compute step by step to not overflow the RAM\n",
        "corpus_NL = df_NL['text'].dropna().tolist()\n",
        "corpus_UK = df_UK['text'].dropna().tolist()\n",
        "corpus_DE = df_DE['text'].dropna().tolist()\n",
        "corpus_FR = df_FR['text'].dropna().tolist()"
      ],
      "metadata": {
        "id": "vCgDQqJf9HHr"
      },
      "id": "vCgDQqJf9HHr",
      "execution_count": 15,
      "outputs": []
    },
    {
      "cell_type": "code",
      "source": [
        "print(len(corpus_UK))"
      ],
      "metadata": {
        "id": "0gLtB7nIFODh",
        "outputId": "032dc2e5-8a86-4fed-badc-0d9fae39fb77",
        "colab": {
          "base_uri": "https://localhost:8080/"
        }
      },
      "id": "0gLtB7nIFODh",
      "execution_count": 16,
      "outputs": [
        {
          "output_type": "stream",
          "name": "stdout",
          "text": [
            "6942\n"
          ]
        }
      ]
    },
    {
      "cell_type": "code",
      "source": [
        "# Calculate tf-idf scores for NL corpus\n",
        "\n",
        "vectorizer_NL = TfidfVectorizer()\n",
        "tfidf_matrix_NL = vectorizer_NL.fit_transform(corpus_NL)\n",
        "feature_names_NL = vectorizer_NL.get_feature_names_out()\n",
        "# Calculate TF-IDF scores for each term in each document\n",
        "tfidf_scores_NL = tfidf_matrix_NL.toarray()\n",
        "\n",
        "# Save the tfidf matrices and feature names\n",
        "with open(path + 'outputs/tfidf_scores_NL.pickle', 'wb') as handle:\n",
        "    pickle.dump(tfidf_scores_NL, handle, protocol=pickle.HIGHEST_PROTOCOL)\n",
        "with open(path + 'outputs/feature_names_NL.pickle', 'wb') as handle:\n",
        "    pickle.dump(feature_names_NL, handle, protocol=pickle.HIGHEST_PROTOCOL)"
      ],
      "metadata": {
        "id": "qIg4XLLA7wUs"
      },
      "id": "qIg4XLLA7wUs",
      "execution_count": 17,
      "outputs": []
    },
    {
      "cell_type": "code",
      "source": [
        "# load saved models, to avoid using up all RAM\n",
        "with open(path + 'outputs/tfidf_scores_NL.pickle', 'rb') as handle:\n",
        "    tfidf_scores_NL = pickle.load(handle)\n",
        "with open(path + 'outputs/feature_names_NL.pickle', 'rb') as handle:\n",
        "    feature_names_NL = pickle.load(handle)"
      ],
      "metadata": {
        "id": "T3tUVQTzCSdk"
      },
      "id": "T3tUVQTzCSdk",
      "execution_count": null,
      "outputs": []
    },
    {
      "cell_type": "code",
      "source": [
        "# Calculate tf-idf scores for UK corpus\n",
        "\n",
        "vectorizer_UK = TfidfVectorizer()\n",
        "tfidf_matrix_UK = vectorizer_UK.fit_transform(corpus_UK)\n",
        "feature_names_UK = vectorizer_UK.get_feature_names_out()\n",
        "# Calculate TF-IDF scores for each term in each document\n",
        "tfidf_scores_UK = tfidf_matrix_UK.toarray()\n",
        "\n",
        "with open(path + 'outputs/tfidf_scores_UK.pickle', 'wb') as handle:\n",
        "    pickle.dump(tfidf_scores_UK, handle, protocol=pickle.HIGHEST_PROTOCOL)\n",
        "with open(path + 'outputs/feature_names_UK.pickle', 'wb') as handle:\n",
        "    pickle.dump(feature_names_UK, handle, protocol=pickle.HIGHEST_PROTOCOL)"
      ],
      "metadata": {
        "id": "KPoWpN5Y9lnX"
      },
      "id": "KPoWpN5Y9lnX",
      "execution_count": 18,
      "outputs": []
    },
    {
      "cell_type": "code",
      "source": [
        "# load saved models, to avoid using up all RAM\n",
        "with open(path + 'outputs/tfidf_scores_UK.pickle', 'rb') as handle:\n",
        "    tfidf_scores_UK = pickle.load(handle)\n",
        "with open(path + 'outputs/feature_names_UK.pickle', 'rb') as handle:\n",
        "    feature_names_UK = pickle.load(handle)"
      ],
      "metadata": {
        "id": "XXhLf0VfCs1V"
      },
      "id": "XXhLf0VfCs1V",
      "execution_count": null,
      "outputs": []
    },
    {
      "cell_type": "code",
      "source": [
        "# Calculate tf-idf scores for DE corpus\n",
        "\n",
        "vectorizer_DE = TfidfVectorizer()\n",
        "tfidf_matrix_DE = vectorizer_DE.fit_transform(corpus_DE)\n",
        "feature_names_DE = vectorizer_DE.get_feature_names_out()\n",
        "# Calculate TF-IDF scores for each term in each document\n",
        "tfidf_scores_DE = tfidf_matrix_DE.toarray()\n",
        "\n",
        "with open(path + 'outputs/tfidf_scores_DE.pickle', 'wb') as handle:\n",
        "    pickle.dump(tfidf_scores_DE, handle, protocol=pickle.HIGHEST_PROTOCOL)\n",
        "with open(path + 'outputs/feature_names_DE.pickle', 'wb') as handle:\n",
        "    pickle.dump(feature_names_DE, handle, protocol=pickle.HIGHEST_PROTOCOL)"
      ],
      "metadata": {
        "id": "zTOu5sec9mGt"
      },
      "id": "zTOu5sec9mGt",
      "execution_count": 19,
      "outputs": []
    },
    {
      "cell_type": "code",
      "source": [
        "# load saved models, to avoid using up all RAM\n",
        "with open(path + 'outputs/tfidf_scores_DE.pickle', 'rb') as handle:\n",
        "    tfidf_scores_DE = pickle.load(handle)\n",
        "with open(path + 'outputs/feature_names_DE.pickle', 'rb') as handle:\n",
        "    feature_names_DE = pickle.load(handle)"
      ],
      "metadata": {
        "id": "ww5BXBVdCz0T"
      },
      "id": "ww5BXBVdCz0T",
      "execution_count": null,
      "outputs": []
    },
    {
      "cell_type": "code",
      "source": [
        "# Calculate tf-idf scores for FR corpus\n",
        "\n",
        "vectorizer_FR = TfidfVectorizer()\n",
        "tfidf_matrix_FR = vectorizer_FR.fit_transform(corpus_FR)\n",
        "feature_names_FR = vectorizer_FR.get_feature_names_out()\n",
        "# Calculate TF-IDF scores for each term in each document\n",
        "tfidf_scores_FR = tfidf_matrix_FR.toarray()\n",
        "'''\n",
        "with open(path + 'outputs/tfidf_scores_FR.pickle', 'wb') as handle:\n",
        "    pickle.dump(tfidf_scores_FR, handle, protocol=pickle.HIGHEST_PROTOCOL)\n",
        "with open(path + 'outputs/feature_names_FR.pickle', 'wb') as handle:\n",
        "    pickle.dump(feature_names_FR, handle, protocol=pickle.HIGHEST_PROTOCOL)'''"
      ],
      "metadata": {
        "id": "FscGS9BO9m7d"
      },
      "id": "FscGS9BO9m7d",
      "execution_count": null,
      "outputs": []
    },
    {
      "cell_type": "code",
      "source": [
        "with open(path + 'outputs/tfidf_scores_FR.pickle', 'wb') as handle:\n",
        "    pickle.dump(tfidf_scores_FR, handle, protocol=pickle.HIGHEST_PROTOCOL)\n",
        "with open(path + 'outputs/feature_names_FR.pickle', 'wb') as handle:\n",
        "    pickle.dump(feature_names_FR, handle, protocol=pickle.HIGHEST_PROTOCOL)"
      ],
      "metadata": {
        "id": "Wq_SFyOqCksG"
      },
      "id": "Wq_SFyOqCksG",
      "execution_count": null,
      "outputs": []
    },
    {
      "cell_type": "code",
      "source": [
        "feature_names_UK"
      ],
      "metadata": {
        "colab": {
          "base_uri": "https://localhost:8080/"
        },
        "id": "A0SW-NL_EHBH",
        "outputId": "ed0d473c-ba4e-4d9f-b440-aa4911173aa2"
      },
      "id": "A0SW-NL_EHBH",
      "execution_count": null,
      "outputs": [
        {
          "output_type": "execute_result",
          "data": {
            "text/plain": [
              "array(['00', '000', '0000', ..., 'ﬁnest', 'ﬁrst', 'ﬂowers'], dtype=object)"
            ]
          },
          "metadata": {},
          "execution_count": 45
        }
      ]
    },
    {
      "cell_type": "code",
      "source": [
        "list_to_count = culture # replace with the name of a list of terms activities / events / nobility / culture / style\n",
        "feature_names = [feature_names_NL, feature_names_UK, feature_names_DE, feature_names_FR] # list of dataframes\n",
        "tfidf_scores = [tfidf_scores_NL, tfidf_scores_UK, tfidf_scores_DE, tfidf_scores_FR]\n",
        "number_of_terms = int(len(list_to_count) / 4) # calculate the number of terms in 1 language\n",
        "\n",
        "term_count_dict = {}\n",
        "start, end = 0, number_of_terms\n",
        "for i, fn in enumerate(feature_names):\n",
        "  term_count_values = []\n",
        "  for term in list_to_count[start:end]:\n",
        "    #print(term)\n",
        "    if term in fn:\n",
        "      print(term)\n",
        "      term_index = list(fn).index(term)\n",
        "      # Calculate the aggregated TF-IDF score for the term 'park'\n",
        "      total_tfidf_score = tfidf_scores[i][:, term_index].sum()\n",
        "      average_tfidf_score = tfidf_scores[i][:, term_index].mean()\n",
        "    #print(int(term_count_column.sum()))\n",
        "    term_count_values.append(float(average_tfidf_score))\n",
        "  start += number_of_terms\n",
        "  end += number_of_terms\n",
        "  term_count_dict[cc_list[i]] = term_count_values\n",
        "\n",
        "term_count_dict"
      ],
      "metadata": {
        "id": "BbYXtNLVC6bH",
        "outputId": "4d1a1ce7-3482-437d-8c39-95f8c4064e96",
        "colab": {
          "base_uri": "https://localhost:8080/",
          "height": 216
        }
      },
      "id": "BbYXtNLVC6bH",
      "execution_count": null,
      "outputs": [
        {
          "output_type": "error",
          "ename": "NameError",
          "evalue": "name 'tfidf_scores_NL' is not defined",
          "traceback": [
            "\u001b[0;31m---------------------------------------------------------------------------\u001b[0m",
            "\u001b[0;31mNameError\u001b[0m                                 Traceback (most recent call last)",
            "\u001b[0;32m<ipython-input-46-1bfafeea3c2e>\u001b[0m in \u001b[0;36m<cell line: 0>\u001b[0;34m()\u001b[0m\n\u001b[1;32m      1\u001b[0m \u001b[0mlist_to_count\u001b[0m \u001b[0;34m=\u001b[0m \u001b[0mculture\u001b[0m \u001b[0;31m# replace with the name of a list of terms activities / events / nobility / culture / style\u001b[0m\u001b[0;34m\u001b[0m\u001b[0;34m\u001b[0m\u001b[0m\n\u001b[1;32m      2\u001b[0m \u001b[0mfeature_names\u001b[0m \u001b[0;34m=\u001b[0m \u001b[0;34m[\u001b[0m\u001b[0mfeature_names_NL\u001b[0m\u001b[0;34m,\u001b[0m \u001b[0mfeature_names_UK\u001b[0m\u001b[0;34m,\u001b[0m \u001b[0mfeature_names_DE\u001b[0m\u001b[0;34m,\u001b[0m \u001b[0mfeature_names_FR\u001b[0m\u001b[0;34m]\u001b[0m \u001b[0;31m# list of dataframes\u001b[0m\u001b[0;34m\u001b[0m\u001b[0;34m\u001b[0m\u001b[0m\n\u001b[0;32m----> 3\u001b[0;31m \u001b[0mtfidf_scores\u001b[0m \u001b[0;34m=\u001b[0m \u001b[0;34m[\u001b[0m\u001b[0mtfidf_scores_NL\u001b[0m\u001b[0;34m,\u001b[0m \u001b[0mtfidf_scores_UK\u001b[0m\u001b[0;34m,\u001b[0m \u001b[0mtfidf_scores_DE\u001b[0m\u001b[0;34m,\u001b[0m \u001b[0mtfidf_scores_FR\u001b[0m\u001b[0;34m]\u001b[0m\u001b[0;34m\u001b[0m\u001b[0;34m\u001b[0m\u001b[0m\n\u001b[0m\u001b[1;32m      4\u001b[0m \u001b[0mnumber_of_terms\u001b[0m \u001b[0;34m=\u001b[0m \u001b[0mint\u001b[0m\u001b[0;34m(\u001b[0m\u001b[0mlen\u001b[0m\u001b[0;34m(\u001b[0m\u001b[0mlist_to_count\u001b[0m\u001b[0;34m)\u001b[0m \u001b[0;34m/\u001b[0m \u001b[0;36m4\u001b[0m\u001b[0;34m)\u001b[0m \u001b[0;31m# calculate the number of terms in 1 language\u001b[0m\u001b[0;34m\u001b[0m\u001b[0;34m\u001b[0m\u001b[0m\n\u001b[1;32m      5\u001b[0m \u001b[0;34m\u001b[0m\u001b[0m\n",
            "\u001b[0;31mNameError\u001b[0m: name 'tfidf_scores_NL' is not defined"
          ]
        }
      ]
    },
    {
      "cell_type": "code",
      "source": [
        "# Visualize the term count as a stacked bar chart per country\n",
        "theme = list_to_count[number_of_terms+1]\n",
        "terms = list_to_count[number_of_terms:number_of_terms*2] # change which section of the list is used in the legend\n",
        "# Create a list of countries (y-axis labels)\n",
        "countries = list(term_count_dict.keys())\n",
        "\n",
        "# Create the stacked bar chart\n",
        "width = 0.45  # Width of the bars\n",
        "\n",
        "fig, ax = plt.subplots(figsize=(10,8))\n",
        "\n",
        "bottom = np.zeros(len(countries))\n",
        "colors = ['#92E0E0', 'red', '#C1E000', '#C192E0','#E05543','#E0C200']\n",
        "\n",
        "# Add horizontal lines for values in the legend\n",
        "for value in [0.0001, 0.0005, 0.001, 0.0015, 0.002, 0.0025, 0.003]:\n",
        "    #[0.0001, 0.0005, 0.001, 0.0015, 0.002, 0.0025, 0.003, 0.0035] # styles+nobility\n",
        "    #[0.001, 0.002, 0.003, 0.004, 0.005, 0.006] # activities\n",
        "    #[100, 500, 1000, 1500, 2000, 2500, 3000, 3500, 4000]\n",
        "    #[1000, 2000, 3000, 4000, 5000, 6000, 7000, 8000, 9000, 10000]\n",
        "    #[2000, 4000, 6000, 8000, 10000, 12000, 14000, 16000, 18000] # activities\n",
        "    #[2500, 5000, 7500, 10000, 12500, 15000, 17500, 20000, 22500, 25000, 27500] # arts & culture\n",
        "  plt.axhline(y=value, color='grey', linestyle='--', linewidth=0.5)\n",
        "\n",
        "for term_index in range(len(terms)):\n",
        "    term_counts = [term_count_dict[country][term_index] for country in countries]\n",
        "    ax.bar(countries, term_counts, width, label=terms[term_index], bottom=bottom,\n",
        "           color=colors[term_index % len(colors)])\n",
        "    bottom += np.array(term_counts)\n",
        "\n",
        "ax.set_xlabel('Countries', color='white')\n",
        "ax.set_ylabel('Term Counts', color='white')\n",
        "ax.set_title('Terms related to '+theme+' per country', color='white')\n",
        "ax.spines['bottom'].set_color('white')\n",
        "ax.spines['top'].set_color('white')\n",
        "ax.spines['left'].set_color('white')\n",
        "ax.spines['right'].set_color('white')\n",
        "ax.tick_params(axis='x', colors='white')\n",
        "ax.tick_params(axis='y', colors='white')\n",
        "ax.legend()\n",
        "\n",
        "plt.tight_layout()\n",
        "plt.savefig(path+'outputs/2024_'+theme+'.png', transparent=True)\n",
        "plt.show()\n"
      ],
      "metadata": {
        "id": "GzQpAtTHA35X",
        "colab": {
          "base_uri": "https://localhost:8080/",
          "height": 807
        },
        "outputId": "8b565816-f2d8-4304-e8d6-f72a60a45401"
      },
      "id": "GzQpAtTHA35X",
      "execution_count": null,
      "outputs": [
        {
          "output_type": "display_data",
          "data": {
            "text/plain": [
              "<Figure size 1000x800 with 1 Axes>"
            ],
            "image/png": "[encoded data removed]"
          },
          "metadata": {}
        }
      ]
    }
  ],
  "metadata": {
    "colab": {
      "provenance": []
    },
    "kernelspec": {
      "display_name": "Python 3 (ipykernel)",
      "language": "python",
      "name": "python3"
    },
    "language_info": {
      "codemirror_mode": {
        "name": "ipython",
        "version": 3
      },
      "file_extension": ".py",
      "mimetype": "text/x-python",
      "name": "python",
      "nbconvert_exporter": "python",
      "pygments_lexer": "ipython3",
      "version": "3.9.6"
    }
  },
  "nbformat": 4,
  "nbformat_minor": 5
}
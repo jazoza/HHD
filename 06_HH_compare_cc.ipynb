{
  "cells": [
    {
      "cell_type": "markdown",
      "id": "7CC34uuNzNxY",
      "metadata": {
        "id": "7CC34uuNzNxY"
      },
      "source": [
        "# New Narratives for old Buildings\n",
        "\n",
        "---\n",
        "\n",
        "\n",
        "\n",
        "Finding narratives through comparison of term frequency across countries"
      ]
    },
    {
      "cell_type": "code",
      "execution_count": 3,
      "id": "76a4e150-cc6f-4878-a32b-e78a1d6426ae",
      "metadata": {
        "id": "76a4e150-cc6f-4878-a32b-e78a1d6426ae"
      },
      "outputs": [],
      "source": [
        "import os, re, csv\n",
        "import pandas as pd\n",
        "import numpy as np\n",
        "import nltk\n",
        "from sklearn.feature_extraction.text import CountVectorizer\n",
        "from collections import Counter\n",
        "from itertools import islice\n",
        "from nltk.corpus import stopwords\n",
        "import string\n",
        "import pickle\n",
        "import matplotlib.pyplot as plt"
      ]
    },
    {
      "cell_type": "markdown",
      "id": "7010dda9-acc5-4d90-b175-90012564d13c",
      "metadata": {
        "id": "7010dda9-acc5-4d90-b175-90012564d13c"
      },
      "source": [
        "## Loading the dataset: heritage homes webistes\n"
      ]
    },
    {
      "cell_type": "code",
      "execution_count": 4,
      "id": "d42429d3-63fe-4b79-b341-160057e5dcbc",
      "metadata": {
        "id": "d42429d3-63fe-4b79-b341-160057e5dcbc",
        "colab": {
          "base_uri": "https://localhost:8080/"
        },
        "outputId": "eb9a470e-b1a3-4c78-e04c-2509917d86d9"
      },
      "outputs": [
        {
          "output_type": "stream",
          "name": "stdout",
          "text": [
            "Drive already mounted at /content/gdrive; to attempt to forcibly remount, call drive.mount(\"/content/gdrive\", force_remount=True).\n"
          ]
        }
      ],
      "source": [
        "from google.colab import drive\n",
        "drive.mount('/content/gdrive')"
      ]
    },
    {
      "cell_type": "code",
      "execution_count": 5,
      "id": "bbjhZ8nKZtZC",
      "metadata": {
        "id": "bbjhZ8nKZtZC"
      },
      "outputs": [],
      "source": [
        "path = '/content/gdrive/MyDrive/CDA/' # working with google drive and colab\n",
        "\n",
        "# path = 'datasets/' # working locally"
      ]
    },
    {
      "cell_type": "code",
      "execution_count": 6,
      "id": "QYiHwjcORrPC",
      "metadata": {
        "id": "QYiHwjcORrPC"
      },
      "outputs": [],
      "source": [
        "# Country code: change here between 'NL' and 'UK'\n",
        "cc_list = ['NL', 'UK', 'DE', 'FR']"
      ]
    },
    {
      "cell_type": "code",
      "execution_count": 7,
      "id": "8697b51f-50a5-4091-9cc1-0aed1308b27d",
      "metadata": {
        "id": "8697b51f-50a5-4091-9cc1-0aed1308b27d",
        "colab": {
          "base_uri": "https://localhost:8080/",
          "height": 206
        },
        "outputId": "04262f0b-61e4-4527-dc97-62df97fb9e63"
      },
      "outputs": [
        {
          "output_type": "execute_result",
          "data": {
            "text/plain": [
              "                                               url  \\\n",
              "0   https://www.chateau-combourg.com/privatisation   \n",
              "1   https://www.chateau-combourg.com/chateaubriand   \n",
              "2  https://www.chateau-combourg.com/prixlitteraire   \n",
              "3         https://www.chateau-combourg.com/contact   \n",
              "4                         https://www.suscinio.fr/   \n",
              "\n",
              "                                                text  \n",
              "0  Events — COMBOURG\\nLe château et le parc peuve...  \n",
              "1  Chateaubriand — COMBOURG\\nFrançois-René de Cha...  \n",
              "2  Prix Littéraire — COMBOURG\\nLe Prix Combourg-C...  \n",
              "3  Contact — COMBOURG\\nNom(obligatoire)\\nPrénom\\n...  \n",
              "4  Château de Suscinio dans le Morbihan\\nOuvert t...  "
            ],
            "text/html": [
              "\n",
              "  <div id=\"df-341415b0-ccad-4353-9c41-68396d35a298\" class=\"colab-df-container\">\n",
              "    <div>\n",
              "<style scoped>\n",
              "    .dataframe tbody tr th:only-of-type {\n",
              "        vertical-align: middle;\n",
              "    }\n",
              "\n",
              "    .dataframe tbody tr th {\n",
              "        vertical-align: top;\n",
              "    }\n",
              "\n",
              "    .dataframe thead th {\n",
              "        text-align: right;\n",
              "    }\n",
              "</style>\n",
              "<table border=\"1\" class=\"dataframe\">\n",
              "  <thead>\n",
              "    <tr style=\"text-align: right;\">\n",
              "      <th></th>\n",
              "      <th>url</th>\n",
              "      <th>text</th>\n",
              "    </tr>\n",
              "  </thead>\n",
              "  <tbody>\n",
              "    <tr>\n",
              "      <th>0</th>\n",
              "      <td>https://www.chateau-combourg.com/privatisation</td>\n",
              "      <td>Events — COMBOURG\\nLe château et le parc peuve...</td>\n",
              "    </tr>\n",
              "    <tr>\n",
              "      <th>1</th>\n",
              "      <td>https://www.chateau-combourg.com/chateaubriand</td>\n",
              "      <td>Chateaubriand — COMBOURG\\nFrançois-René de Cha...</td>\n",
              "    </tr>\n",
              "    <tr>\n",
              "      <th>2</th>\n",
              "      <td>https://www.chateau-combourg.com/prixlitteraire</td>\n",
              "      <td>Prix Littéraire — COMBOURG\\nLe Prix Combourg-C...</td>\n",
              "    </tr>\n",
              "    <tr>\n",
              "      <th>3</th>\n",
              "      <td>https://www.chateau-combourg.com/contact</td>\n",
              "      <td>Contact — COMBOURG\\nNom(obligatoire)\\nPrénom\\n...</td>\n",
              "    </tr>\n",
              "    <tr>\n",
              "      <th>4</th>\n",
              "      <td>https://www.suscinio.fr/</td>\n",
              "      <td>Château de Suscinio dans le Morbihan\\nOuvert t...</td>\n",
              "    </tr>\n",
              "  </tbody>\n",
              "</table>\n",
              "</div>\n",
              "    <div class=\"colab-df-buttons\">\n",
              "\n",
              "  <div class=\"colab-df-container\">\n",
              "    <button class=\"colab-df-convert\" onclick=\"convertToInteractive('df-341415b0-ccad-4353-9c41-68396d35a298')\"\n",
              "            title=\"Convert this dataframe to an interactive table.\"\n",
              "            style=\"display:none;\">\n",
              "\n",
              "  <svg xmlns=\"http://www.w3.org/2000/svg\" height=\"24px\" viewBox=\"0 -960 960 960\">\n",
              "    <path d=\"M120-120v-720h720v720H120Zm60-500h600v-160H180v160Zm220 220h160v-160H400v160Zm0 220h160v-160H400v160ZM180-400h160v-160H180v160Zm440 0h160v-160H620v160ZM180-180h160v-160H180v160Zm440 0h160v-160H620v160Z\"/>\n",
              "  </svg>\n",
              "    </button>\n",
              "\n",
              "  <style>\n",
              "    .colab-df-container {\n",
              "      display:flex;\n",
              "      gap: 12px;\n",
              "    }\n",
              "\n",
              "    .colab-df-convert {\n",
              "      background-color: #E8F0FE;\n",
              "      border: none;\n",
              "      border-radius: 50%;\n",
              "      cursor: pointer;\n",
              "      display: none;\n",
              "      fill: #1967D2;\n",
              "      height: 32px;\n",
              "      padding: 0 0 0 0;\n",
              "      width: 32px;\n",
              "    }\n",
              "\n",
              "    .colab-df-convert:hover {\n",
              "      background-color: #E2EBFA;\n",
              "      box-shadow: 0px 1px 2px rgba(60, 64, 67, 0.3), 0px 1px 3px 1px rgba(60, 64, 67, 0.15);\n",
              "      fill: #174EA6;\n",
              "    }\n",
              "\n",
              "    .colab-df-buttons div {\n",
              "      margin-bottom: 4px;\n",
              "    }\n",
              "\n",
              "    [theme=dark] .colab-df-convert {\n",
              "      background-color: #3B4455;\n",
              "      fill: #D2E3FC;\n",
              "    }\n",
              "\n",
              "    [theme=dark] .colab-df-convert:hover {\n",
              "      background-color: #434B5C;\n",
              "      box-shadow: 0px 1px 3px 1px rgba(0, 0, 0, 0.15);\n",
              "      filter: drop-shadow(0px 1px 2px rgba(0, 0, 0, 0.3));\n",
              "      fill: #FFFFFF;\n",
              "    }\n",
              "  </style>\n",
              "\n",
              "    <script>\n",
              "      const buttonEl =\n",
              "        document.querySelector('#df-341415b0-ccad-4353-9c41-68396d35a298 button.colab-df-convert');\n",
              "      buttonEl.style.display =\n",
              "        google.colab.kernel.accessAllowed ? 'block' : 'none';\n",
              "\n",
              "      async function convertToInteractive(key) {\n",
              "        const element = document.querySelector('#df-341415b0-ccad-4353-9c41-68396d35a298');\n",
              "        const dataTable =\n",
              "          await google.colab.kernel.invokeFunction('convertToInteractive',\n",
              "                                                    [key], {});\n",
              "        if (!dataTable) return;\n",
              "\n",
              "        const docLinkHtml = 'Like what you see? Visit the ' +\n",
              "          '<a target=\"_blank\" href=https://colab.research.google.com/notebooks/data_table.ipynb>data table notebook</a>'\n",
              "          + ' to learn more about interactive tables.';\n",
              "        element.innerHTML = '';\n",
              "        dataTable['output_type'] = 'display_data';\n",
              "        await google.colab.output.renderOutput(dataTable, element);\n",
              "        const docLink = document.createElement('div');\n",
              "        docLink.innerHTML = docLinkHtml;\n",
              "        element.appendChild(docLink);\n",
              "      }\n",
              "    </script>\n",
              "  </div>\n",
              "\n",
              "\n",
              "<div id=\"df-bd3e97e1-e03b-4af3-a017-74d8ac81db48\">\n",
              "  <button class=\"colab-df-quickchart\" onclick=\"quickchart('df-bd3e97e1-e03b-4af3-a017-74d8ac81db48')\"\n",
              "            title=\"Suggest charts\"\n",
              "            style=\"display:none;\">\n",
              "\n",
              "<svg xmlns=\"http://www.w3.org/2000/svg\" height=\"24px\"viewBox=\"0 0 24 24\"\n",
              "     width=\"24px\">\n",
              "    <g>\n",
              "        <path d=\"M19 3H5c-1.1 0-2 .9-2 2v14c0 1.1.9 2 2 2h14c1.1 0 2-.9 2-2V5c0-1.1-.9-2-2-2zM9 17H7v-7h2v7zm4 0h-2V7h2v10zm4 0h-2v-4h2v4z\"/>\n",
              "    </g>\n",
              "</svg>\n",
              "  </button>\n",
              "\n",
              "<style>\n",
              "  .colab-df-quickchart {\n",
              "      --bg-color: #E8F0FE;\n",
              "      --fill-color: #1967D2;\n",
              "      --hover-bg-color: #E2EBFA;\n",
              "      --hover-fill-color: #174EA6;\n",
              "      --disabled-fill-color: #AAA;\n",
              "      --disabled-bg-color: #DDD;\n",
              "  }\n",
              "\n",
              "  [theme=dark] .colab-df-quickchart {\n",
              "      --bg-color: #3B4455;\n",
              "      --fill-color: #D2E3FC;\n",
              "      --hover-bg-color: #434B5C;\n",
              "      --hover-fill-color: #FFFFFF;\n",
              "      --disabled-bg-color: #3B4455;\n",
              "      --disabled-fill-color: #666;\n",
              "  }\n",
              "\n",
              "  .colab-df-quickchart {\n",
              "    background-color: var(--bg-color);\n",
              "    border: none;\n",
              "    border-radius: 50%;\n",
              "    cursor: pointer;\n",
              "    display: none;\n",
              "    fill: var(--fill-color);\n",
              "    height: 32px;\n",
              "    padding: 0;\n",
              "    width: 32px;\n",
              "  }\n",
              "\n",
              "  .colab-df-quickchart:hover {\n",
              "    background-color: var(--hover-bg-color);\n",
              "    box-shadow: 0 1px 2px rgba(60, 64, 67, 0.3), 0 1px 3px 1px rgba(60, 64, 67, 0.15);\n",
              "    fill: var(--button-hover-fill-color);\n",
              "  }\n",
              "\n",
              "  .colab-df-quickchart-complete:disabled,\n",
              "  .colab-df-quickchart-complete:disabled:hover {\n",
              "    background-color: var(--disabled-bg-color);\n",
              "    fill: var(--disabled-fill-color);\n",
              "    box-shadow: none;\n",
              "  }\n",
              "\n",
              "  .colab-df-spinner {\n",
              "    border: 2px solid var(--fill-color);\n",
              "    border-color: transparent;\n",
              "    border-bottom-color: var(--fill-color);\n",
              "    animation:\n",
              "      spin 1s steps(1) infinite;\n",
              "  }\n",
              "\n",
              "  @keyframes spin {\n",
              "    0% {\n",
              "      border-color: transparent;\n",
              "      border-bottom-color: var(--fill-color);\n",
              "      border-left-color: var(--fill-color);\n",
              "    }\n",
              "    20% {\n",
              "      border-color: transparent;\n",
              "      border-left-color: var(--fill-color);\n",
              "      border-top-color: var(--fill-color);\n",
              "    }\n",
              "    30% {\n",
              "      border-color: transparent;\n",
              "      border-left-color: var(--fill-color);\n",
              "      border-top-color: var(--fill-color);\n",
              "      border-right-color: var(--fill-color);\n",
              "    }\n",
              "    40% {\n",
              "      border-color: transparent;\n",
              "      border-right-color: var(--fill-color);\n",
              "      border-top-color: var(--fill-color);\n",
              "    }\n",
              "    60% {\n",
              "      border-color: transparent;\n",
              "      border-right-color: var(--fill-color);\n",
              "    }\n",
              "    80% {\n",
              "      border-color: transparent;\n",
              "      border-right-color: var(--fill-color);\n",
              "      border-bottom-color: var(--fill-color);\n",
              "    }\n",
              "    90% {\n",
              "      border-color: transparent;\n",
              "      border-bottom-color: var(--fill-color);\n",
              "    }\n",
              "  }\n",
              "</style>\n",
              "\n",
              "  <script>\n",
              "    async function quickchart(key) {\n",
              "      const quickchartButtonEl =\n",
              "        document.querySelector('#' + key + ' button');\n",
              "      quickchartButtonEl.disabled = true;  // To prevent multiple clicks.\n",
              "      quickchartButtonEl.classList.add('colab-df-spinner');\n",
              "      try {\n",
              "        const charts = await google.colab.kernel.invokeFunction(\n",
              "            'suggestCharts', [key], {});\n",
              "      } catch (error) {\n",
              "        console.error('Error during call to suggestCharts:', error);\n",
              "      }\n",
              "      quickchartButtonEl.classList.remove('colab-df-spinner');\n",
              "      quickchartButtonEl.classList.add('colab-df-quickchart-complete');\n",
              "    }\n",
              "    (() => {\n",
              "      let quickchartButtonEl =\n",
              "        document.querySelector('#df-bd3e97e1-e03b-4af3-a017-74d8ac81db48 button');\n",
              "      quickchartButtonEl.style.display =\n",
              "        google.colab.kernel.accessAllowed ? 'block' : 'none';\n",
              "    })();\n",
              "  </script>\n",
              "</div>\n",
              "\n",
              "    </div>\n",
              "  </div>\n"
            ],
            "application/vnd.google.colaboratory.intrinsic+json": {
              "type": "dataframe",
              "variable_name": "df_FR",
              "summary": "{\n  \"name\": \"df_FR\",\n  \"rows\": 22542,\n  \"fields\": [\n    {\n      \"column\": \"url\",\n      \"properties\": {\n        \"dtype\": \"string\",\n        \"num_unique_values\": 22538,\n        \"samples\": [\n          \"https://www.chateaudeblois.fr/TPL_CODE/TPL_DIAPORAMAWALL/fontSize/x-large/voir/47/open/1/2024-diaporamas.htm#document\",\n          \"https://patrimoine.lamayenne.fr/sainte-suzanne/evenements/escape-game-26/\",\n          \"https://www.chateau-oiron.fr/sites/centre-des-monuments-nationaux/page-d-accueil/politique-de-confidentialite\"\n        ],\n        \"semantic_type\": \"\",\n        \"description\": \"\"\n      }\n    },\n    {\n      \"column\": \"text\",\n      \"properties\": {\n        \"dtype\": \"category\",\n        \"num_unique_values\": 9862,\n        \"samples\": [\n          \"Ch\\u00e2teau de Sully en Bourgogne, coin presse\\nJSL - Murder mystery au ch\\u00e2teau\\nEnqu\\u00eate polici\\u00e8re grandeur nature samedi au ch\\u00e2teau de Sully qui accueillait pour l\\u2019occasion le club d\\u2019anglais du coll\\u00e8ge du Vallon...\\nJSL - En visite au ch\\u00e2teau\\nLe ch\\u00e2teau de Sully, demeure de la duchesse de Magenta, vient d\\u2019accueillir les membres de l\\u2019association Renaissance ch\\u00e2teau du Pailly...\",\n          \"Contacter le Ch\\u00e2teau de Tr\\u00e9dion pour un mariage\\nScroll down\\nNous contacter\\nSi vous souhaitez nous poser des questions ou obtenir plus d\\u2019informations,\\nn\\u2019h\\u00e9sitez pas \\u00e0 nous contacter\\nDonn\\u00e9es cartographiques \\u00a92025 GeoBasis-DE/BKG (\\u00a92009), Google, Inst. Geogr. Nacional\",\n          \"La vie de ch\\u00e2teau en hiver\\nEpisode 1 : A la d\\u00e9couverte d'Am\\u00e9lie de Mac Mahon, propi\\u00e9taire des lieux\\nAm\\u00e9lie de Mac Mahon est \\u00e9cossaise d'origine. Par son mari, elle est entr\\u00e9e dans cette c\\u00e9l\\u00e9brissime famille d'origine irlandaise dont le personnage le plus illustre est Patrice de Mac Mahon. Ce dernier s'est illustr\\u00e9 pendant la campagne d'Italie en 1859. En guise de r\\u00e9compense, Napol\\u00e9on III lui a d\\u00e9cern\\u00e9 le titre de duc de Magenta. Apr\\u00e8s avoir r\\u00e9prim\\u00e9 durement la Commune de Paris, il a \\u00e9t\\u00e9 \\u00e9lu pr\\u00e9sident de la Troisi\\u00e8me R\\u00e9publique naissante. Il a occup\\u00e9 cette fonction 1871 \\u00e0 1879. Aujourd'hui, sa descendante Am\\u00e9lie et les enfants de celle-ci vivent toujours au ch\\u00e2teau de Sully o\\u00f9 est n\\u00e9 Patrice de Mac Mahon. Le monument n'a jamais quitt\\u00e9 la famille. Mais la vie de ch\\u00e2telaine ne ressemble pas \\u00e0 l'image luxueuse qu'on a parfois en t\\u00eate. Am\\u00e9lie de Mac Mahon passe tout son temps \\u00e0 g\\u00e9rer cet h\\u00e9ritage hors-norme. Le reportage de C. Banasik et Q. C\\u00e9zard avec : \\nP\\u00e9lagie de Mac Mahon, fille de la Duchesse de Magenta \\nAm\\u00e9lie de Mac Mahon, duchesse de Magenta \\nSylvie Mignot, guide depuis 16 ans \\nC\\u00e9cile Banasik\\nhttp://france3-regions.francetvinfo.fr/bourgogne-franche-comte/saone-et-loire/saone-loire-quoi-ressemble-vie-chateau-1186793.html\\nA l'affiche\\nR\\u00e9cents\\nArchives\"\n        ],\n        \"semantic_type\": \"\",\n        \"description\": \"\"\n      }\n    }\n  ]\n}"
            }
          },
          "metadata": {},
          "execution_count": 7
        }
      ],
      "source": [
        "# Import json data from Aipfy scraping into 4 separate dataframes\n",
        "df_NL=pd.read_json(path+cc_list[0]+'_dataset_website-content-crawler.json') # NL\n",
        "# select only two columns for analysis: url and text\n",
        "df_NL=df_NL[['url','text']]\n",
        "\n",
        "df_UK=pd.read_json(path+cc_list[1]+'_dataset_website-content-crawler.json') # UK\n",
        "# select only two columns for analysis: url and text\n",
        "df_UK=df_UK[['url','text']]\n",
        "\n",
        "df_DE=pd.read_json(path+cc_list[2]+'_dataset_website-content-crawler.json') # DE\n",
        "# select only two columns for analysis: url and text\n",
        "df_DE=df_DE[['url','text']]\n",
        "\n",
        "df_FR=pd.read_json(path+cc_list[3]+'_dataset_website-content-crawler.json') # FR\n",
        "# select only two columns for analysis: url and text\n",
        "df_FR=df_FR[['url','text']]\n",
        "\n",
        "df_FR.head()"
      ]
    },
    {
      "cell_type": "code",
      "source": [
        "# check if there are further datasets to add per country\n",
        "\n",
        "!ls \"$path\" | grep \"^UK_\""
      ],
      "metadata": {
        "colab": {
          "base_uri": "https://localhost:8080/"
        },
        "id": "AHJ403OyPSjQ",
        "outputId": "2a26948e-2e18-4e09-d6b7-3a6a92fa2d84"
      },
      "id": "AHJ403OyPSjQ",
      "execution_count": 8,
      "outputs": [
        {
          "output_type": "stream",
          "name": "stdout",
          "text": [
            "UK_dataset_website-content-crawler.json\n",
            "UK_EH_dataset_website-content-crawler_2025-03-18_13-49-50-417.json\n",
            "UK_PC_dataset_website-content-crawler_2025-03-11_12-28-08-810.json\n"
          ]
        }
      ]
    },
    {
      "cell_type": "code",
      "source": [
        "# manually append additional datasets (based on previous step)\n",
        "df_missing1 = pd.read_json(path+'/NL_LG_dataset_website-content-crawler_2025-02-06_09-40-33-880.json')\n",
        "result = pd.concat([df_NL, df_missing1])"
      ],
      "metadata": {
        "id": "G132YTQbPeQU"
      },
      "id": "G132YTQbPeQU",
      "execution_count": 9,
      "outputs": []
    },
    {
      "cell_type": "code",
      "source": [
        "df_missing1 = pd.read_json(path+'/UK_EH_dataset_website-content-crawler_2025-03-18_13-49-50-417.json')\n",
        "df_missing2 = pd.read_json(path+'/UK_PC_dataset_website-content-crawler_2025-03-11_12-28-08-810.json')\n",
        "result = pd.concat([df_UK, df_missing1, df_missing2])"
      ],
      "metadata": {
        "id": "wW6qdkj4PzGY"
      },
      "id": "wW6qdkj4PzGY",
      "execution_count": 10,
      "outputs": []
    },
    {
      "cell_type": "markdown",
      "id": "Rr6hiPQ-4z5O",
      "metadata": {
        "id": "Rr6hiPQ-4z5O"
      },
      "source": [
        "Join all pages from a domain to an entry in the analysis. To do this, add a new column which will contain only the main domain name."
      ]
    },
    {
      "cell_type": "code",
      "source": [
        "# function to extract the main domain from the url in the dataset (ALL DOMAINS)\n",
        "def extract_main_domain(url):\n",
        "    if not isinstance(str(url), str):\n",
        "        print('NOT VALID',url)\n",
        "        return None\n",
        "    match = re.findall('(?:\\w+\\.)*[\\w\\-]+\\.\\w*', str(url)) #'www\\.?([^/]+)'\n",
        "    return match[0].lstrip('www.') if match else None"
      ],
      "metadata": {
        "id": "y4SbuWQdpRuf"
      },
      "id": "y4SbuWQdpRuf",
      "execution_count": 11,
      "outputs": []
    },
    {
      "cell_type": "code",
      "execution_count": 12,
      "id": "47db9deb-8836-47fb-9f74-28a023bcb5d7",
      "metadata": {
        "id": "47db9deb-8836-47fb-9f74-28a023bcb5d7"
      },
      "outputs": [],
      "source": [
        "# Add a new column 'domain' and fill it by applying the extract_main_domain function to the 'url' column\n",
        "\n",
        "# first, create a mapping of dataframes which could be addressed in a loop\n",
        "df_dict = {'0':df_NL, '1':df_UK, '2':df_DE, '3':df_FR}\n",
        "\n",
        "# then, loop through the df_dict to update each dataframe\n",
        "for k, v in df_dict.items():\n",
        "  cc_column = cc_list[int(k[-1])]+' domains'\n",
        "  cc = cc_list[int(k[-1])]\n",
        "  # print(cc_column, cc)\n",
        "  urls = pd.read_csv(path+'url_lists/'+cc_list[int(k[-1])]+'_urls.csv')[cc_column].values.tolist()\n",
        "  domains = {extract_main_domain(url) for url in urls if extract_main_domain(url) is not None}\n",
        "  matching_links = [link for link in v.url if extract_main_domain(link) in domains]\n",
        "  # update the dataframe\n",
        "  v['domain'] = v['url'].apply(extract_main_domain)"
      ]
    },
    {
      "cell_type": "code",
      "execution_count": 13,
      "id": "NnGrMALwClPC",
      "metadata": {
        "id": "NnGrMALwClPC",
        "colab": {
          "base_uri": "https://localhost:8080/",
          "height": 206
        },
        "outputId": "9f286f3f-c73b-4e97-f1dd-6c0d75b60951"
      },
      "outputs": [
        {
          "output_type": "execute_result",
          "data": {
            "text/plain": [
              "                                                 url  \\\n",
              "0                                  http://weldam.nl/   \n",
              "1                   http://weldam.nl/nederlands.html   \n",
              "2  http://weldam.nl/nederlands/beginpagina/test-2...   \n",
              "3                          https://www.huisdoorn.nl/   \n",
              "4                   https://www.museumdefundatie.nl/   \n",
              "\n",
              "                                                text               domain  \n",
              "0  Introduction - Weldam\\nIntroduction\\nWeldam, s...             eldam.nl  \n",
              "1  Nederlands - Weldam\\nCopyright Landgoed Weldam...             eldam.nl  \n",
              "2  Test 1.2 - Weldam\\nCopyright Landgoed Weldam 2...             eldam.nl  \n",
              "3  Ontdek de geschiedenis - Museum Huis Doorn\\nDe...         huisdoorn.nl  \n",
              "4  Museum de FundatieTwitter Widget Iframe\\nMuseu...  museumdefundatie.nl  "
            ],
            "text/html": [
              "\n",
              "  <div id=\"df-6e40f967-a837-4777-8d3a-cd4254ba2432\" class=\"colab-df-container\">\n",
              "    <div>\n",
              "<style scoped>\n",
              "    .dataframe tbody tr th:only-of-type {\n",
              "        vertical-align: middle;\n",
              "    }\n",
              "\n",
              "    .dataframe tbody tr th {\n",
              "        vertical-align: top;\n",
              "    }\n",
              "\n",
              "    .dataframe thead th {\n",
              "        text-align: right;\n",
              "    }\n",
              "</style>\n",
              "<table border=\"1\" class=\"dataframe\">\n",
              "  <thead>\n",
              "    <tr style=\"text-align: right;\">\n",
              "      <th></th>\n",
              "      <th>url</th>\n",
              "      <th>text</th>\n",
              "      <th>domain</th>\n",
              "    </tr>\n",
              "  </thead>\n",
              "  <tbody>\n",
              "    <tr>\n",
              "      <th>0</th>\n",
              "      <td>http://weldam.nl/</td>\n",
              "      <td>Introduction - Weldam\\nIntroduction\\nWeldam, s...</td>\n",
              "      <td>eldam.nl</td>\n",
              "    </tr>\n",
              "    <tr>\n",
              "      <th>1</th>\n",
              "      <td>http://weldam.nl/nederlands.html</td>\n",
              "      <td>Nederlands - Weldam\\nCopyright Landgoed Weldam...</td>\n",
              "      <td>eldam.nl</td>\n",
              "    </tr>\n",
              "    <tr>\n",
              "      <th>2</th>\n",
              "      <td>http://weldam.nl/nederlands/beginpagina/test-2...</td>\n",
              "      <td>Test 1.2 - Weldam\\nCopyright Landgoed Weldam 2...</td>\n",
              "      <td>eldam.nl</td>\n",
              "    </tr>\n",
              "    <tr>\n",
              "      <th>3</th>\n",
              "      <td>https://www.huisdoorn.nl/</td>\n",
              "      <td>Ontdek de geschiedenis - Museum Huis Doorn\\nDe...</td>\n",
              "      <td>huisdoorn.nl</td>\n",
              "    </tr>\n",
              "    <tr>\n",
              "      <th>4</th>\n",
              "      <td>https://www.museumdefundatie.nl/</td>\n",
              "      <td>Museum de FundatieTwitter Widget Iframe\\nMuseu...</td>\n",
              "      <td>museumdefundatie.nl</td>\n",
              "    </tr>\n",
              "  </tbody>\n",
              "</table>\n",
              "</div>\n",
              "    <div class=\"colab-df-buttons\">\n",
              "\n",
              "  <div class=\"colab-df-container\">\n",
              "    <button class=\"colab-df-convert\" onclick=\"convertToInteractive('df-6e40f967-a837-4777-8d3a-cd4254ba2432')\"\n",
              "            title=\"Convert this dataframe to an interactive table.\"\n",
              "            style=\"display:none;\">\n",
              "\n",
              "  <svg xmlns=\"http://www.w3.org/2000/svg\" height=\"24px\" viewBox=\"0 -960 960 960\">\n",
              "    <path d=\"M120-120v-720h720v720H120Zm60-500h600v-160H180v160Zm220 220h160v-160H400v160Zm0 220h160v-160H400v160ZM180-400h160v-160H180v160Zm440 0h160v-160H620v160ZM180-180h160v-160H180v160Zm440 0h160v-160H620v160Z\"/>\n",
              "  </svg>\n",
              "    </button>\n",
              "\n",
              "  <style>\n",
              "    .colab-df-container {\n",
              "      display:flex;\n",
              "      gap: 12px;\n",
              "    }\n",
              "\n",
              "    .colab-df-convert {\n",
              "      background-color: #E8F0FE;\n",
              "      border: none;\n",
              "      border-radius: 50%;\n",
              "      cursor: pointer;\n",
              "      display: none;\n",
              "      fill: #1967D2;\n",
              "      height: 32px;\n",
              "      padding: 0 0 0 0;\n",
              "      width: 32px;\n",
              "    }\n",
              "\n",
              "    .colab-df-convert:hover {\n",
              "      background-color: #E2EBFA;\n",
              "      box-shadow: 0px 1px 2px rgba(60, 64, 67, 0.3), 0px 1px 3px 1px rgba(60, 64, 67, 0.15);\n",
              "      fill: #174EA6;\n",
              "    }\n",
              "\n",
              "    .colab-df-buttons div {\n",
              "      margin-bottom: 4px;\n",
              "    }\n",
              "\n",
              "    [theme=dark] .colab-df-convert {\n",
              "      background-color: #3B4455;\n",
              "      fill: #D2E3FC;\n",
              "    }\n",
              "\n",
              "    [theme=dark] .colab-df-convert:hover {\n",
              "      background-color: #434B5C;\n",
              "      box-shadow: 0px 1px 3px 1px rgba(0, 0, 0, 0.15);\n",
              "      filter: drop-shadow(0px 1px 2px rgba(0, 0, 0, 0.3));\n",
              "      fill: #FFFFFF;\n",
              "    }\n",
              "  </style>\n",
              "\n",
              "    <script>\n",
              "      const buttonEl =\n",
              "        document.querySelector('#df-6e40f967-a837-4777-8d3a-cd4254ba2432 button.colab-df-convert');\n",
              "      buttonEl.style.display =\n",
              "        google.colab.kernel.accessAllowed ? 'block' : 'none';\n",
              "\n",
              "      async function convertToInteractive(key) {\n",
              "        const element = document.querySelector('#df-6e40f967-a837-4777-8d3a-cd4254ba2432');\n",
              "        const dataTable =\n",
              "          await google.colab.kernel.invokeFunction('convertToInteractive',\n",
              "                                                    [key], {});\n",
              "        if (!dataTable) return;\n",
              "\n",
              "        const docLinkHtml = 'Like what you see? Visit the ' +\n",
              "          '<a target=\"_blank\" href=https://colab.research.google.com/notebooks/data_table.ipynb>data table notebook</a>'\n",
              "          + ' to learn more about interactive tables.';\n",
              "        element.innerHTML = '';\n",
              "        dataTable['output_type'] = 'display_data';\n",
              "        await google.colab.output.renderOutput(dataTable, element);\n",
              "        const docLink = document.createElement('div');\n",
              "        docLink.innerHTML = docLinkHtml;\n",
              "        element.appendChild(docLink);\n",
              "      }\n",
              "    </script>\n",
              "  </div>\n",
              "\n",
              "\n",
              "<div id=\"df-7c0beb45-87fe-4940-ab8a-ae311d3a88d4\">\n",
              "  <button class=\"colab-df-quickchart\" onclick=\"quickchart('df-7c0beb45-87fe-4940-ab8a-ae311d3a88d4')\"\n",
              "            title=\"Suggest charts\"\n",
              "            style=\"display:none;\">\n",
              "\n",
              "<svg xmlns=\"http://www.w3.org/2000/svg\" height=\"24px\"viewBox=\"0 0 24 24\"\n",
              "     width=\"24px\">\n",
              "    <g>\n",
              "        <path d=\"M19 3H5c-1.1 0-2 .9-2 2v14c0 1.1.9 2 2 2h14c1.1 0 2-.9 2-2V5c0-1.1-.9-2-2-2zM9 17H7v-7h2v7zm4 0h-2V7h2v10zm4 0h-2v-4h2v4z\"/>\n",
              "    </g>\n",
              "</svg>\n",
              "  </button>\n",
              "\n",
              "<style>\n",
              "  .colab-df-quickchart {\n",
              "      --bg-color: #E8F0FE;\n",
              "      --fill-color: #1967D2;\n",
              "      --hover-bg-color: #E2EBFA;\n",
              "      --hover-fill-color: #174EA6;\n",
              "      --disabled-fill-color: #AAA;\n",
              "      --disabled-bg-color: #DDD;\n",
              "  }\n",
              "\n",
              "  [theme=dark] .colab-df-quickchart {\n",
              "      --bg-color: #3B4455;\n",
              "      --fill-color: #D2E3FC;\n",
              "      --hover-bg-color: #434B5C;\n",
              "      --hover-fill-color: #FFFFFF;\n",
              "      --disabled-bg-color: #3B4455;\n",
              "      --disabled-fill-color: #666;\n",
              "  }\n",
              "\n",
              "  .colab-df-quickchart {\n",
              "    background-color: var(--bg-color);\n",
              "    border: none;\n",
              "    border-radius: 50%;\n",
              "    cursor: pointer;\n",
              "    display: none;\n",
              "    fill: var(--fill-color);\n",
              "    height: 32px;\n",
              "    padding: 0;\n",
              "    width: 32px;\n",
              "  }\n",
              "\n",
              "  .colab-df-quickchart:hover {\n",
              "    background-color: var(--hover-bg-color);\n",
              "    box-shadow: 0 1px 2px rgba(60, 64, 67, 0.3), 0 1px 3px 1px rgba(60, 64, 67, 0.15);\n",
              "    fill: var(--button-hover-fill-color);\n",
              "  }\n",
              "\n",
              "  .colab-df-quickchart-complete:disabled,\n",
              "  .colab-df-quickchart-complete:disabled:hover {\n",
              "    background-color: var(--disabled-bg-color);\n",
              "    fill: var(--disabled-fill-color);\n",
              "    box-shadow: none;\n",
              "  }\n",
              "\n",
              "  .colab-df-spinner {\n",
              "    border: 2px solid var(--fill-color);\n",
              "    border-color: transparent;\n",
              "    border-bottom-color: var(--fill-color);\n",
              "    animation:\n",
              "      spin 1s steps(1) infinite;\n",
              "  }\n",
              "\n",
              "  @keyframes spin {\n",
              "    0% {\n",
              "      border-color: transparent;\n",
              "      border-bottom-color: var(--fill-color);\n",
              "      border-left-color: var(--fill-color);\n",
              "    }\n",
              "    20% {\n",
              "      border-color: transparent;\n",
              "      border-left-color: var(--fill-color);\n",
              "      border-top-color: var(--fill-color);\n",
              "    }\n",
              "    30% {\n",
              "      border-color: transparent;\n",
              "      border-left-color: var(--fill-color);\n",
              "      border-top-color: var(--fill-color);\n",
              "      border-right-color: var(--fill-color);\n",
              "    }\n",
              "    40% {\n",
              "      border-color: transparent;\n",
              "      border-right-color: var(--fill-color);\n",
              "      border-top-color: var(--fill-color);\n",
              "    }\n",
              "    60% {\n",
              "      border-color: transparent;\n",
              "      border-right-color: var(--fill-color);\n",
              "    }\n",
              "    80% {\n",
              "      border-color: transparent;\n",
              "      border-right-color: var(--fill-color);\n",
              "      border-bottom-color: var(--fill-color);\n",
              "    }\n",
              "    90% {\n",
              "      border-color: transparent;\n",
              "      border-bottom-color: var(--fill-color);\n",
              "    }\n",
              "  }\n",
              "</style>\n",
              "\n",
              "  <script>\n",
              "    async function quickchart(key) {\n",
              "      const quickchartButtonEl =\n",
              "        document.querySelector('#' + key + ' button');\n",
              "      quickchartButtonEl.disabled = true;  // To prevent multiple clicks.\n",
              "      quickchartButtonEl.classList.add('colab-df-spinner');\n",
              "      try {\n",
              "        const charts = await google.colab.kernel.invokeFunction(\n",
              "            'suggestCharts', [key], {});\n",
              "      } catch (error) {\n",
              "        console.error('Error during call to suggestCharts:', error);\n",
              "      }\n",
              "      quickchartButtonEl.classList.remove('colab-df-spinner');\n",
              "      quickchartButtonEl.classList.add('colab-df-quickchart-complete');\n",
              "    }\n",
              "    (() => {\n",
              "      let quickchartButtonEl =\n",
              "        document.querySelector('#df-7c0beb45-87fe-4940-ab8a-ae311d3a88d4 button');\n",
              "      quickchartButtonEl.style.display =\n",
              "        google.colab.kernel.accessAllowed ? 'block' : 'none';\n",
              "    })();\n",
              "  </script>\n",
              "</div>\n",
              "\n",
              "    </div>\n",
              "  </div>\n"
            ],
            "application/vnd.google.colaboratory.intrinsic+json": {
              "type": "dataframe",
              "variable_name": "df_NL",
              "summary": "{\n  \"name\": \"df_NL\",\n  \"rows\": 10951,\n  \"fields\": [\n    {\n      \"column\": \"url\",\n      \"properties\": {\n        \"dtype\": \"string\",\n        \"num_unique_values\": 10950,\n        \"samples\": [\n          \"https://kasteelparkborn.nl/het-park/nieuws/2019/02/21/nieuwe-wasberen/\",\n          \"https://kasteelparkborn.nl/werken-bij/stages/\",\n          \"https://www.kasteeldehaar.nl/informatie-aan-over-trouwen-chinese/\"\n        ],\n        \"semantic_type\": \"\",\n        \"description\": \"\"\n      }\n    },\n    {\n      \"column\": \"text\",\n      \"properties\": {\n        \"dtype\": \"string\",\n        \"num_unique_values\": 8868,\n        \"samples\": [\n          \"Zonsopkomst Duno | Geldersch Landschap en Kasteelen\\nWe gaan vandaag vroeg op pad. We wandelen in het donker door het bos en zien het langzaam licht worden. We zorgen ervoor dat we op tijd op het Dunoplateau zijn om de zon boven Arnhem op te zien komen. Het moet dan wel helder weer zijn en niet bewolkt. Hopelijk beleven we magische momenten in het bos en op het plateau als de natuur langzaam ontwaakt en de stilte wordt verbroken. Deze wandeling wordt dit jaar elk kwartaal gehouden zodat we ook de verschillen in jaargetijde meemaken. Neem eventueel een klein zaklampje mee. Verder vertellen we nog wat over de historie en de natuur in het gebied.\\nVooraf online reserveren is noodzakelijk.\\nza. 23 november 2024\\n07.30 \\u2013 09.30 uur \\nVolwassenen 5,00 \\nKinderen 4 t/m 12 jaar 2,50 \\nDonateurs \\nDonateurs GLK Gratis \\nKinderen 4 t/m 12 jaar van donateurs GLK Gratis \\nOpenbaar vervoer\\nKijk op 9292.nl voor actuele reisinformatie.\\nToegangszandweg tot het Duno-plateau\\nIngang aan de Oude Oosterbeekseweg net voorbij de Middenlaan) (komende vanaf Oosterbeek) of vlak v\\u00f3\\u00f3r de Middenlaan (komende vanaf Doorwerth). Parkeren in de berm.\\nInformatie\\nPedro, 06 54 65 40 49\\nVanwege de onverharde paden is deze excursie minder geschikt voor mensen met een verminderde mobiliteit. Bekijk de mogelijkheden Gelderse natuur en erfgoed te bezoeken op Toegankelijk voor iedereen.\",\n          \"Legokasteel (gratis) - Muiderslot [EN]\\nHet Grootste LEGO\\u00a9 Winterkasteel \\nBouw je mee aan het grootste LEGO\\u00a9 Winterkasteel van Nederland? Elke dag in het kerstvakantie (23 dec 2023 t/m 7 jan 2024) nodigen we jong en oud tussen 11:00 en 15:00 uur uit om mee te bouwen, zodat we een enorm, wit kasteel \\u00edn ons kasteel hebben staan!\\nPraktische info;\\nGeschikt vanaf 8 jaar tot 99.\\nInloop activiteit. Schuif gezellig aan!\\nEr geldt geen toeslag, dus je kan gewoon meedoen met een entreebewijs voor het museum.\\nNatuurlijk mag je de hele dag op het kasteel en de tuinen verblijven voor en na de activiteit!\\nHet Legokasteel is op de zolder.\",\n          \"Kasteelpark Born - Dierenpark\\nKorting op uw bezoek aan Kasteelpark Born?\\nOnderstaande acties zijn geldig in 2024:\\nU ontvangt 15% korting op de entree.\\nJaarkaarthouders van parken aangesloten bij Dier en Park\\nKortingsbon Visit Zuid-Limburg (in de Wegwijzer)\\nDinsdagDeal van de ANWB\\nLidkaarthouders van Cosmodrome\\nAan de kassa toont u uw jaarkaart van het betreffende park en voldoet de verschuldigde entree. Online een kortingsticket reserveren is niet mogelijk.\\nWaardebonnen gemeente Sittard-Geleen\\nBij het Kasteelpark kunnen ook waardebonnen van de gemeente Sittard-Geleen worden ingeleverd. \\nJaarkaarthouders van Kasteelpark Born ontvangen op vertoon van hun jaarkaart korting bij onderstaande partners\\n1. Parken van Dier en Park\\nKasteelpark Born is aangesloten bij de vereniging Dier en Park. Met je jaarkaart ontvang je korting bij onderstaande parken. Kijk op de website van het park hoeveel korting je ontvangt.\\nNatuur Doe Zoo, Leens\\nWonderwereld, Ter Apel\\nZooBizar, Orvelte\\nHof van Eckberge, Eibergen\\nVlinders aan de Vliet, Leidschendam\\nFamiliepark Plaswijckpark, Rotterdam\\nTropical Zoo, Kwadendamme\\nDe Oliemeulen, Tilburg\\nBestZOO, Best\\nMondo Verde, Landgraaf\\nAlmere Jungle, Almere\\nNeem een kijkje op de website van Dier en Park om te zien waar in Nederland u de aangesloten parken kunt vinden.\\n2. Cosmodrome\\nAls jaarkaarthouder van Kasteelpark Born ontvang je 50% korting op de entreeprijs van het Cosmodrome in Genk (Belgi\\u00eb).\\nDeze actie is geldig van 2 januari 2023 t/m 31 december 2024.\"\n        ],\n        \"semantic_type\": \"\",\n        \"description\": \"\"\n      }\n    },\n    {\n      \"column\": \"domain\",\n      \"properties\": {\n        \"dtype\": \"category\",\n        \"num_unique_values\": 53,\n        \"samples\": [\n          \"kasteelheeswijk.nl\",\n          \"kasteelgroeneveld.nl\",\n          \"kasteelradboud.nl\"\n        ],\n        \"semantic_type\": \"\",\n        \"description\": \"\"\n      }\n    }\n  ]\n}"
            }
          },
          "metadata": {},
          "execution_count": 13
        }
      ],
      "source": [
        "# check one of the dataframes\n",
        "df_NL.head()"
      ]
    },
    {
      "cell_type": "markdown",
      "id": "TTEuzWvOK2Zp",
      "metadata": {
        "id": "TTEuzWvOK2Zp"
      },
      "source": [
        "## Compare term frequencies across corpora"
      ]
    },
    {
      "cell_type": "code",
      "execution_count": 14,
      "id": "cSGHLhDxPxIH",
      "metadata": {
        "id": "cSGHLhDxPxIH"
      },
      "outputs": [],
      "source": [
        "# list terms to compare\n",
        "activities = ['kind','spel','avontuur',\n",
        "              'child','game','adventure',\n",
        "              'kind', 'spiel', 'abenteuer',\n",
        "              'enfant', 'jeu', 'aventure']\n",
        "events = ['feest','bruiloft','bruid','bruidegom',\n",
        "          'party','wedding','bride','groom',\n",
        "          'party', 'hochzeit', 'braut', 'bräutigam',\n",
        "          'fête', 'mariage', 'mariée', 'marié']\n",
        "nobility = ['graaf','baron','hertog',\n",
        "            'earl','baron','duke',\n",
        "            'graf','baron','herzog',\n",
        "            'compte','baron','duc']\n",
        "culture = ['tentoonstelling','museum','tuin','park','collectie',\n",
        "           'exhibition','museum','garden','park','collection',\n",
        "           'ausstellung','museum','garten','park','sammlung',\n",
        "           'exposition','musée','jardin','parc','collection']\n",
        "styles = ['rococo', 'barok', 'renaissance', 'gotiek', # or gotisch\n",
        "          'rococo', 'baroque', 'renaissance', 'gothic',\n",
        "          'rokoko', 'barock', 'renaissance', 'gotik',\n",
        "          'rococo', 'baroque', 'renaissance', 'gothique']"
      ]
    },
    {
      "cell_type": "markdown",
      "source": [
        "Create texts as 'documents' to count terms and perform tf-idf"
      ],
      "metadata": {
        "id": "JhCcqF8KpiO_"
      },
      "id": "JhCcqF8KpiO_"
    },
    {
      "cell_type": "code",
      "source": [
        "# count term frequencies across four dataframes\n",
        "list_to_count = events # replace with the name of a list of terms (above)\n",
        "dataframes = [df_NL, df_UK, df_DE, df_FR] # list of dataframes\n",
        "number_of_terms = int(len(list_to_count) / 4) # calculate the number of terms in 1 language\n",
        "\n",
        "term_count_dict = {}\n",
        "start, end = 0, number_of_terms\n",
        "for i, df in enumerate(dataframes):\n",
        "  term_count_values = []\n",
        "  for term in list_to_count[start:end]:\n",
        "    #print(term)\n",
        "    term_count_column = sum([str(item).lower().count(term) for item in df['text'].tolist()])\n",
        "    #print(int(term_count_column.sum()))\n",
        "    term_count_values.append(int(term_count_column))\n",
        "  start += number_of_terms\n",
        "  end += number_of_terms\n",
        "  term_count_dict[cc_list[i]] = term_count_values\n",
        "\n",
        "term_count_dict"
      ],
      "metadata": {
        "colab": {
          "base_uri": "https://localhost:8080/"
        },
        "id": "WX_T6TWofy77",
        "outputId": "9c737b55-4468-4b78-fe6f-a9493b2b931c"
      },
      "id": "WX_T6TWofy77",
      "execution_count": 96,
      "outputs": [
        {
          "output_type": "execute_result",
          "data": {
            "text/plain": [
              "{'NL': [1401, 273, 335, 5],\n",
              " 'UK': [701, 1944, 106, 57],\n",
              " 'DE': [268, 592, 66, 3],\n",
              " 'FR': [1040, 694, 21, 71]}"
            ]
          },
          "metadata": {},
          "execution_count": 96
        }
      ]
    },
    {
      "cell_type": "code",
      "source": [
        "# Visualize the term count as a stacked bar chart per country\n",
        "theme = 'parties'\n",
        "terms = list_to_count[number_of_terms:number_of_terms*2] # change which section of the list is used in the legend\n",
        "# Create a list of countries (y-axis labels)\n",
        "countries = list(term_count_dict.keys())\n",
        "\n",
        "# Create the stacked bar chart\n",
        "width = 0.45  # Width of the bars\n",
        "\n",
        "fig, ax = plt.subplots(figsize=(10,8))\n",
        "\n",
        "bottom = np.zeros(len(countries))\n",
        "colors = ['#92E0E0', 'red', '#C1E000', '#C192E0','#E05543','#E0C200']\n",
        "\n",
        "# Add horizontal lines for values in the legend\n",
        "for value in [250, 500, 750, 1000, 1250, 1500, 1750, 2000, 2250, 2500, 2750]:\n",
        "    #[100, 200, 300, 400, 500, 600, 700, 800, 900, 1000]\n",
        "    #[250, 500, 750, 1000, 1250, 1500, 1750, 2000, 2250, 2500, 2750]\n",
        "    #[100, 500, 1000, 1500, 2000, 2500, 3000, 3500, 4000]\n",
        "    #[1000, 2000, 3000, 4000, 5000, 6000, 7000, 8000, 9000, 10000]\n",
        "    #[2000, 4000, 6000, 8000, 10000, 12000, 14000, 16000, 18000] # activities\n",
        "    #[2500, 5000, 7500, 10000, 12500, 15000, 17500, 20000, 22500, 25000, 27500] # arts & culture\n",
        "  plt.axhline(y=value, color='grey', linestyle='--', linewidth=0.5)\n",
        "\n",
        "for term_index in range(len(terms)):\n",
        "    term_counts = [term_count_dict[country][term_index] for country in countries]\n",
        "    ax.bar(countries, term_counts, width, label=terms[term_index], bottom=bottom,\n",
        "           color=colors[term_index % len(colors)])\n",
        "    bottom += np.array(term_counts)\n",
        "\n",
        "ax.set_xlabel('Countries', color='white')\n",
        "ax.set_ylabel('Term Counts', color='white')\n",
        "ax.set_title('Terms related to '+theme+' per country', color='white')\n",
        "ax.spines['bottom'].set_color('white')\n",
        "ax.spines['top'].set_color('white')\n",
        "ax.spines['left'].set_color('white')\n",
        "ax.spines['right'].set_color('white')\n",
        "ax.tick_params(axis='x', colors='white')\n",
        "ax.tick_params(axis='y', colors='white')\n",
        "ax.legend()\n",
        "\n",
        "plt.tight_layout()\n",
        "plt.savefig(path+'outputs/2024_'+theme+'.png', transparent=True)\n",
        "plt.show()"
      ],
      "metadata": {
        "colab": {
          "base_uri": "https://localhost:8080/",
          "height": 807
        },
        "id": "6S2i31H0xtjk",
        "outputId": "c3bcfd9c-9b33-4900-cddc-469843275a4d"
      },
      "id": "6S2i31H0xtjk",
      "execution_count": 101,
      "outputs": [
        {
          "output_type": "display_data",
          "data": {
            "text/plain": [
              "<Figure size 1000x800 with 1 Axes>"
            ],
            "image/png": "[encoded data removed]"
          },
          "metadata": {}
        }
      ]
    },
    {
      "cell_type": "markdown",
      "source": [
        "## Compare TF-IDF across corpora"
      ],
      "metadata": {
        "id": "scTik19V9Ict"
      },
      "id": "scTik19V9Ict"
    },
    {
      "cell_type": "code",
      "source": [
        "from sklearn.feature_extraction.text import TfidfVectorizer\n",
        "\n",
        "# Initiate separate corpora and compute step by step to not overflow the RAM\n",
        "corpus_NL = df_NL['text'].dropna().tolist()\n",
        "corpus_UK = df_UK['text'].dropna().tolist()\n",
        "corpus_DE = df_DE['text'].dropna().tolist()\n",
        "corpus_FR = df_FR['text'].dropna().tolist()"
      ],
      "metadata": {
        "colab": {
          "base_uri": "https://localhost:8080/",
          "height": 216
        },
        "id": "vCgDQqJf9HHr",
        "outputId": "b8bfd758-f632-473b-c7a0-0f091021bc93"
      },
      "id": "vCgDQqJf9HHr",
      "execution_count": 2,
      "outputs": [
        {
          "output_type": "error",
          "ename": "NameError",
          "evalue": "name 'df_NL' is not defined",
          "traceback": [
            "\u001b[0;31m---------------------------------------------------------------------------\u001b[0m",
            "\u001b[0;31mNameError\u001b[0m                                 Traceback (most recent call last)",
            "\u001b[0;32m<ipython-input-2-447b2616bb00>\u001b[0m in \u001b[0;36m<cell line: 0>\u001b[0;34m()\u001b[0m\n\u001b[1;32m      2\u001b[0m \u001b[0;34m\u001b[0m\u001b[0m\n\u001b[1;32m      3\u001b[0m \u001b[0;31m# Initiate separate corpora and compute step by step to not overflow the RAM\u001b[0m\u001b[0;34m\u001b[0m\u001b[0;34m\u001b[0m\u001b[0m\n\u001b[0;32m----> 4\u001b[0;31m \u001b[0mcorpus_NL\u001b[0m \u001b[0;34m=\u001b[0m \u001b[0mdf_NL\u001b[0m\u001b[0;34m[\u001b[0m\u001b[0;34m'text'\u001b[0m\u001b[0;34m]\u001b[0m\u001b[0;34m.\u001b[0m\u001b[0mdropna\u001b[0m\u001b[0;34m(\u001b[0m\u001b[0;34m)\u001b[0m\u001b[0;34m.\u001b[0m\u001b[0mtolist\u001b[0m\u001b[0;34m(\u001b[0m\u001b[0;34m)\u001b[0m\u001b[0;34m\u001b[0m\u001b[0;34m\u001b[0m\u001b[0m\n\u001b[0m\u001b[1;32m      5\u001b[0m \u001b[0mcorpus_UK\u001b[0m \u001b[0;34m=\u001b[0m \u001b[0mdf_UK\u001b[0m\u001b[0;34m[\u001b[0m\u001b[0;34m'text'\u001b[0m\u001b[0;34m]\u001b[0m\u001b[0;34m.\u001b[0m\u001b[0mdropna\u001b[0m\u001b[0;34m(\u001b[0m\u001b[0;34m)\u001b[0m\u001b[0;34m.\u001b[0m\u001b[0mtolist\u001b[0m\u001b[0;34m(\u001b[0m\u001b[0;34m)\u001b[0m\u001b[0;34m\u001b[0m\u001b[0;34m\u001b[0m\u001b[0m\n\u001b[1;32m      6\u001b[0m \u001b[0mcorpus_DE\u001b[0m \u001b[0;34m=\u001b[0m \u001b[0mdf_DE\u001b[0m\u001b[0;34m[\u001b[0m\u001b[0;34m'text'\u001b[0m\u001b[0;34m]\u001b[0m\u001b[0;34m.\u001b[0m\u001b[0mdropna\u001b[0m\u001b[0;34m(\u001b[0m\u001b[0;34m)\u001b[0m\u001b[0;34m.\u001b[0m\u001b[0mtolist\u001b[0m\u001b[0;34m(\u001b[0m\u001b[0;34m)\u001b[0m\u001b[0;34m\u001b[0m\u001b[0;34m\u001b[0m\u001b[0m\n",
            "\u001b[0;31mNameError\u001b[0m: name 'df_NL' is not defined"
          ]
        }
      ]
    },
    {
      "cell_type": "code",
      "source": [
        "# Calculate tf-idf scores for NL corpus\n",
        "\n",
        "vectorizer_NL = TfidfVectorizer()\n",
        "tfidf_matrix_NL = vectorizer_NL.fit_transform(corpus_NL)\n",
        "feature_names_NL = vectorizer_NL.get_feature_names_out()\n",
        "# Calculate TF-IDF scores for each term in each document\n",
        "tfidf_scores_NL = tfidf_matrix_NL.toarray()"
      ],
      "metadata": {
        "colab": {
          "base_uri": "https://localhost:8080/",
          "height": 216
        },
        "id": "qIg4XLLA7wUs",
        "outputId": "c000bfd9-0dc3-4335-e043-fe53433d97a3"
      },
      "id": "qIg4XLLA7wUs",
      "execution_count": 1,
      "outputs": [
        {
          "output_type": "error",
          "ename": "NameError",
          "evalue": "name 'TfidfVectorizer' is not defined",
          "traceback": [
            "\u001b[0;31m---------------------------------------------------------------------------\u001b[0m",
            "\u001b[0;31mNameError\u001b[0m                                 Traceback (most recent call last)",
            "\u001b[0;32m<ipython-input-1-d934ad3ae509>\u001b[0m in \u001b[0;36m<cell line: 0>\u001b[0;34m()\u001b[0m\n\u001b[1;32m      1\u001b[0m \u001b[0;31m# Calculate tf-idf scores for NL corpus\u001b[0m\u001b[0;34m\u001b[0m\u001b[0;34m\u001b[0m\u001b[0m\n\u001b[1;32m      2\u001b[0m \u001b[0;34m\u001b[0m\u001b[0m\n\u001b[0;32m----> 3\u001b[0;31m \u001b[0mvectorizer_NL\u001b[0m \u001b[0;34m=\u001b[0m \u001b[0mTfidfVectorizer\u001b[0m\u001b[0;34m(\u001b[0m\u001b[0;34m)\u001b[0m\u001b[0;34m\u001b[0m\u001b[0;34m\u001b[0m\u001b[0m\n\u001b[0m\u001b[1;32m      4\u001b[0m \u001b[0mtfidf_matrix_NL\u001b[0m \u001b[0;34m=\u001b[0m \u001b[0mvectorizer_NL\u001b[0m\u001b[0;34m.\u001b[0m\u001b[0mfit_transform\u001b[0m\u001b[0;34m(\u001b[0m\u001b[0mcorpus_NL\u001b[0m\u001b[0;34m)\u001b[0m\u001b[0;34m\u001b[0m\u001b[0;34m\u001b[0m\u001b[0m\n\u001b[1;32m      5\u001b[0m \u001b[0mfeature_names_NL\u001b[0m \u001b[0;34m=\u001b[0m \u001b[0mvectorizer_NL\u001b[0m\u001b[0;34m.\u001b[0m\u001b[0mget_feature_names_out\u001b[0m\u001b[0;34m(\u001b[0m\u001b[0;34m)\u001b[0m\u001b[0;34m\u001b[0m\u001b[0;34m\u001b[0m\u001b[0m\n",
            "\u001b[0;31mNameError\u001b[0m: name 'TfidfVectorizer' is not defined"
          ]
        }
      ]
    },
    {
      "cell_type": "code",
      "source": [
        "# Calculate tf-idf scores for UK corpus\n",
        "\n",
        "vectorizer_UK = TfidfVectorizer()\n",
        "tfidf_matrix_UK = vectorizer_UK.fit_transform(corpus_UK)\n",
        "feature_names_UK = vectorizer_UK.get_feature_names_out()\n",
        "# Calculate TF-IDF scores for each term in each document\n",
        "tfidf_scores_UK = tfidf_matrix_UK.toarray()"
      ],
      "metadata": {
        "id": "KPoWpN5Y9lnX"
      },
      "id": "KPoWpN5Y9lnX",
      "execution_count": 18,
      "outputs": []
    },
    {
      "cell_type": "code",
      "source": [
        "# Calculate tf-idf scores for DE corpus\n",
        "\n",
        "vectorizer_DE = TfidfVectorizer()\n",
        "tfidf_matrix_DE = vectorizer_DE.fit_transform(corpus_DE)\n",
        "feature_names_DE = vectorizer_DE.get_feature_names_out()\n",
        "# Calculate TF-IDF scores for each term in each document\n",
        "tfidf_scores_DE = tfidf_matrix_DE.toarray()"
      ],
      "metadata": {
        "id": "zTOu5sec9mGt"
      },
      "id": "zTOu5sec9mGt",
      "execution_count": 19,
      "outputs": []
    },
    {
      "cell_type": "code",
      "source": [
        "# Calculate tf-idf scores for FR corpus\n",
        "\n",
        "vectorizer_FR = TfidfVectorizer()\n",
        "tfidf_matrix_FR = vectorizer_FR.fit_transform(corpus_FR)\n",
        "feature_names_FR = vectorizer_FR.get_feature_names_out()\n",
        "# Calculate TF-IDF scores for each term in each document\n",
        "tfidf_scores_FR = tfidf_matrix_FR.toarray()"
      ],
      "metadata": {
        "id": "FscGS9BO9m7d"
      },
      "id": "FscGS9BO9m7d",
      "execution_count": null,
      "outputs": []
    },
    {
      "cell_type": "code",
      "source": [
        "term_to_find = \"baron\"\n",
        "\n",
        "# Find the index of the term in the feature names\n",
        "term_index = np.where(feature_names_FR == term_to_find)[0]\n",
        "\n",
        "# If the term is found\n",
        "if len(term_index) > 0:\n",
        "  term_index = term_index[0]  # Get the index of the first occurrence\n",
        "  tfidf_score = tfidf_scores_FR[0, term_index]\n",
        "  print(f\"TF-IDF score for '{term_to_find}' in the first document: {tfidf_score}\")\n",
        "else:\n",
        "  print(f\"Term '{term_to_find}' not found in the vocabulary.\")\n"
      ],
      "metadata": {
        "id": "cyNVGJVF9zxe"
      },
      "id": "cyNVGJVF9zxe",
      "execution_count": null,
      "outputs": []
    },
    {
      "cell_type": "code",
      "source": [
        "list_to_count = events # replace with the name of a list of terms (above)\n",
        "corpora = [df_NL, df_UK, df_DE, df_FR] # list of dataframes\n",
        "number_of_terms = int(len(list_to_count) / 4)\n",
        "\n",
        "for term in list_to_count[:4]:\n",
        "  print(term)"
      ],
      "metadata": {
        "colab": {
          "base_uri": "https://localhost:8080/"
        },
        "id": "o6Xz8P8ZArP1",
        "outputId": "011de630-8059-422f-d316-a7410b056b49"
      },
      "id": "o6Xz8P8ZArP1",
      "execution_count": 15,
      "outputs": [
        {
          "output_type": "stream",
          "name": "stdout",
          "text": [
            "feest\n",
            "bruiloft\n",
            "bruid\n",
            "bruidegom\n"
          ]
        }
      ]
    },
    {
      "cell_type": "code",
      "source": [
        "\n"
      ],
      "metadata": {
        "id": "GzQpAtTHA35X"
      },
      "id": "GzQpAtTHA35X",
      "execution_count": null,
      "outputs": []
    }
  ],
  "metadata": {
    "colab": {
      "provenance": [],
      "toc_visible": true
    },
    "kernelspec": {
      "display_name": "Python 3 (ipykernel)",
      "language": "python",
      "name": "python3"
    },
    "language_info": {
      "codemirror_mode": {
        "name": "ipython",
        "version": 3
      },
      "file_extension": ".py",
      "mimetype": "text/x-python",
      "name": "python",
      "nbconvert_exporter": "python",
      "pygments_lexer": "ipython3",
      "version": "3.9.6"
    }
  },
  "nbformat": 4,
  "nbformat_minor": 5
}
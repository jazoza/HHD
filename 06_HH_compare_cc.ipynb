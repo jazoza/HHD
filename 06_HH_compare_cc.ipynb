{
 "cells": [
  {
   "cell_type": "markdown",
   "id": "7CC34uuNzNxY",
   "metadata": {
    "id": "7CC34uuNzNxY"
   },
   "source": [
    "# New Narratives for old Buildings\n",
    "\n",
    "---\n",
    "\n",
    "\n",
    "\n",
    "Finding narratives through comparison of term frequency across countries"
   ]
  },
  {
   "cell_type": "code",
   "execution_count": 1,
   "id": "76a4e150-cc6f-4878-a32b-e78a1d6426ae",
   "metadata": {
    "id": "76a4e150-cc6f-4878-a32b-e78a1d6426ae"
   },
   "outputs": [],
   "source": [
    "import os, re, csv\n",
    "import pandas as pd\n",
    "import numpy as np\n",
    "import pickle\n",
    "import matplotlib.pyplot as plt"
   ]
  },
  {
   "cell_type": "markdown",
   "id": "7010dda9-acc5-4d90-b175-90012564d13c",
   "metadata": {
    "id": "7010dda9-acc5-4d90-b175-90012564d13c"
   },
   "source": [
    "## Loading the dataset: heritage homes webistes\n"
   ]
  },
  {
   "cell_type": "code",
   "execution_count": 2,
   "id": "d42429d3-63fe-4b79-b341-160057e5dcbc",
   "metadata": {
    "colab": {
     "base_uri": "https://localhost:8080/"
    },
    "id": "d42429d3-63fe-4b79-b341-160057e5dcbc",
    "outputId": "50dd2fb3-e5ac-4579-cb03-8da1163f693e"
   },
   "outputs": [
    {
     "ename": "ModuleNotFoundError",
     "evalue": "No module named 'google.colab'",
     "output_type": "error",
     "traceback": [
      "\u001b[0;31m---------------------------------------------------------------------------\u001b[0m",
      "\u001b[0;31mModuleNotFoundError\u001b[0m                       Traceback (most recent call last)",
      "Cell \u001b[0;32mIn[2], line 1\u001b[0m\n\u001b[0;32m----> 1\u001b[0m \u001b[38;5;28;01mfrom\u001b[39;00m \u001b[38;5;21;01mgoogle\u001b[39;00m\u001b[38;5;21;01m.\u001b[39;00m\u001b[38;5;21;01mcolab\u001b[39;00m \u001b[38;5;28;01mimport\u001b[39;00m drive\n\u001b[1;32m      2\u001b[0m drive\u001b[38;5;241m.\u001b[39mmount(\u001b[38;5;124m'\u001b[39m\u001b[38;5;124m/content/gdrive\u001b[39m\u001b[38;5;124m'\u001b[39m)\n",
      "\u001b[0;31mModuleNotFoundError\u001b[0m: No module named 'google.colab'"
     ]
    }
   ],
   "source": [
    "from google.colab import drive\n",
    "drive.mount('/content/gdrive')"
   ]
  },
  {
   "cell_type": "code",
   "execution_count": 3,
   "id": "bbjhZ8nKZtZC",
   "metadata": {
    "id": "bbjhZ8nKZtZC"
   },
   "outputs": [],
   "source": [
    "#path = '/content/gdrive/MyDrive/CDA/' # working with google drive and colab\n",
    "\n",
    "path = 'datasets/' # working locally"
   ]
  },
  {
   "cell_type": "code",
   "execution_count": 4,
   "id": "QYiHwjcORrPC",
   "metadata": {
    "id": "QYiHwjcORrPC"
   },
   "outputs": [],
   "source": [
    "# Country code: change here between 'NL' and 'UK'\n",
    "cc_list = ['NL', 'UK', 'DE', 'FR']"
   ]
  },
  {
   "cell_type": "code",
   "execution_count": 5,
   "id": "8697b51f-50a5-4091-9cc1-0aed1308b27d",
   "metadata": {
    "colab": {
     "base_uri": "https://localhost:8080/",
     "height": 206
    },
    "id": "8697b51f-50a5-4091-9cc1-0aed1308b27d",
    "outputId": "d44cd004-f1ee-4d74-b181-f4c645acd827"
   },
   "outputs": [
    {
     "data": {
      "text/html": [
       "<div>\n",
       "<style scoped>\n",
       "    .dataframe tbody tr th:only-of-type {\n",
       "        vertical-align: middle;\n",
       "    }\n",
       "\n",
       "    .dataframe tbody tr th {\n",
       "        vertical-align: top;\n",
       "    }\n",
       "\n",
       "    .dataframe thead th {\n",
       "        text-align: right;\n",
       "    }\n",
       "</style>\n",
       "<table border=\"1\" class=\"dataframe\">\n",
       "  <thead>\n",
       "    <tr style=\"text-align: right;\">\n",
       "      <th></th>\n",
       "      <th>url</th>\n",
       "      <th>text</th>\n",
       "    </tr>\n",
       "  </thead>\n",
       "  <tbody>\n",
       "    <tr>\n",
       "      <th>0</th>\n",
       "      <td>https://www.chateau-combourg.com/privatisation</td>\n",
       "      <td>Events — COMBOURG\\nLe château et le parc peuve...</td>\n",
       "    </tr>\n",
       "    <tr>\n",
       "      <th>1</th>\n",
       "      <td>https://www.chateau-combourg.com/chateaubriand</td>\n",
       "      <td>Chateaubriand — COMBOURG\\nFrançois-René de Cha...</td>\n",
       "    </tr>\n",
       "    <tr>\n",
       "      <th>2</th>\n",
       "      <td>https://www.chateau-combourg.com/prixlitteraire</td>\n",
       "      <td>Prix Littéraire — COMBOURG\\nLe Prix Combourg-C...</td>\n",
       "    </tr>\n",
       "    <tr>\n",
       "      <th>3</th>\n",
       "      <td>https://www.chateau-combourg.com/contact</td>\n",
       "      <td>Contact — COMBOURG\\nNom(obligatoire)\\nPrénom\\n...</td>\n",
       "    </tr>\n",
       "    <tr>\n",
       "      <th>4</th>\n",
       "      <td>https://www.suscinio.fr/</td>\n",
       "      <td>Château de Suscinio dans le Morbihan\\nOuvert t...</td>\n",
       "    </tr>\n",
       "  </tbody>\n",
       "</table>\n",
       "</div>"
      ],
      "text/plain": [
       "                                               url  \\\n",
       "0   https://www.chateau-combourg.com/privatisation   \n",
       "1   https://www.chateau-combourg.com/chateaubriand   \n",
       "2  https://www.chateau-combourg.com/prixlitteraire   \n",
       "3         https://www.chateau-combourg.com/contact   \n",
       "4                         https://www.suscinio.fr/   \n",
       "\n",
       "                                                text  \n",
       "0  Events — COMBOURG\\nLe château et le parc peuve...  \n",
       "1  Chateaubriand — COMBOURG\\nFrançois-René de Cha...  \n",
       "2  Prix Littéraire — COMBOURG\\nLe Prix Combourg-C...  \n",
       "3  Contact — COMBOURG\\nNom(obligatoire)\\nPrénom\\n...  \n",
       "4  Château de Suscinio dans le Morbihan\\nOuvert t...  "
      ]
     },
     "execution_count": 5,
     "metadata": {},
     "output_type": "execute_result"
    }
   ],
   "source": [
    "# Import json data from Aipfy scraping into 4 separate dataframes\n",
    "df_NL=pd.read_json(path+cc_list[0]+'_dataset_website-content-crawler.json') # NL\n",
    "# select only two columns for analysis: url and text\n",
    "df_NL=df_NL[['url','text']]\n",
    "\n",
    "df_UK=pd.read_json(path+cc_list[1]+'_dataset_website-content-crawler.json') # UK\n",
    "# select only two columns for analysis: url and text\n",
    "df_UK=df_UK[['url','text']]\n",
    "\n",
    "df_DE=pd.read_json(path+cc_list[2]+'_dataset_website-content-crawler.json') # DE\n",
    "# select only two columns for analysis: url and text\n",
    "df_DE=df_DE[['url','text']]\n",
    "\n",
    "df_FR=pd.read_json(path+cc_list[3]+'_dataset_website-content-crawler.json') # FR\n",
    "# select only two columns for analysis: url and text\n",
    "df_FR=df_FR[['url','text']]\n",
    "\n",
    "df_FR.head()"
   ]
  },
  {
   "cell_type": "code",
   "execution_count": 6,
   "id": "AHJ403OyPSjQ",
   "metadata": {
    "colab": {
     "base_uri": "https://localhost:8080/"
    },
    "id": "AHJ403OyPSjQ",
    "outputId": "d8ce8e22-2fad-42e6-f16f-dc67d342ad5c"
   },
   "outputs": [
    {
     "name": "stdout",
     "output_type": "stream",
     "text": [
      "UK_EH_dataset_website-content-crawler_2025-03-26_09-11-52-434.json\n",
      "UK_NH_dataset_website-content-crawler_2025-03-26_16-28-44-248.json\n",
      "UK_PC_dataset_website-content-crawler_2025-03-11_12-28-08-810.json\n",
      "UK_dataset_website-content-crawler.json\n"
     ]
    }
   ],
   "source": [
    "# check if there are further datasets to add per country\n",
    "\n",
    "!ls \"$path\" | grep \"^UK_\""
   ]
  },
  {
   "cell_type": "code",
   "execution_count": 7,
   "id": "G132YTQbPeQU",
   "metadata": {
    "id": "G132YTQbPeQU"
   },
   "outputs": [],
   "source": [
    "# manually append additional datasets (based on previous step)\n",
    "df_missing1 = pd.read_json(path+'/NL_LG_dataset_website-content-crawler_2025-02-06_09-40-33-880.json')\n",
    "result = pd.concat([df_NL, df_missing1])"
   ]
  },
  {
   "cell_type": "code",
   "execution_count": 8,
   "id": "wW6qdkj4PzGY",
   "metadata": {
    "id": "wW6qdkj4PzGY"
   },
   "outputs": [],
   "source": [
    "df_missing1 = pd.read_json(path+'/UK_EH_dataset_website-content-crawler_2025-03-26_09-11-52-434.json')\n",
    "df_missing2 = pd.read_json(path+'/UK_NH_dataset_website-content-crawler_2025-03-26_16-28-44-248.json')\n",
    "df_missing3 = pd.read_json(path+'/UK_PC_dataset_website-content-crawler_2025-03-11_12-28-08-810.json')\n",
    "result = pd.concat([df_UK, df_missing1, df_missing2, df_missing3])"
   ]
  },
  {
   "cell_type": "markdown",
   "id": "Rr6hiPQ-4z5O",
   "metadata": {
    "id": "Rr6hiPQ-4z5O"
   },
   "source": [
    "Join all pages from a domain to an entry in the analysis. To do this, add a new column which will contain only the main domain name."
   ]
  },
  {
   "cell_type": "code",
   "execution_count": 9,
   "id": "y4SbuWQdpRuf",
   "metadata": {
    "id": "y4SbuWQdpRuf"
   },
   "outputs": [],
   "source": [
    "# function to extract the main domain from the url in the dataset (ALL DOMAINS)\n",
    "def extract_main_domain(url):\n",
    "    if not isinstance(str(url), str):\n",
    "        print('NOT VALID',url)\n",
    "        return None\n",
    "    match = re.findall('(?:\\w+\\.)*[\\w\\-]+\\.\\w*', str(url)) #'www\\.?([^/]+)'\n",
    "    return match[0].lstrip('www.') if match else None"
   ]
  },
  {
   "cell_type": "code",
   "execution_count": 11,
   "id": "47db9deb-8836-47fb-9f74-28a023bcb5d7",
   "metadata": {
    "id": "47db9deb-8836-47fb-9f74-28a023bcb5d7"
   },
   "outputs": [],
   "source": [
    "# Add a new column 'domain' and fill it by applying the extract_main_domain function to the 'url' column\n",
    "\n",
    "# first, create a mapping of dataframes which could be addressed in a loop\n",
    "df_dict = {'0':df_NL, '1':df_UK, '2':df_DE, '3':df_FR}\n",
    "\n",
    "# then, loop through the df_dict to update each dataframe\n",
    "for k, v in df_dict.items():\n",
    "  cc_column = cc_list[int(k[-1])]+' domains'\n",
    "  cc = cc_list[int(k[-1])]\n",
    "  # print(cc_column, cc)\n",
    "  urls = pd.read_csv(path+'url_lists/'+cc_list[int(k[-1])]+'_urls.csv')[cc_column].values.tolist()\n",
    "  domains = {extract_main_domain(url) for url in urls if extract_main_domain(url) is not None}\n",
    "  matching_links = [link for link in v.url if extract_main_domain(link) in domains]\n",
    "  # update the dataframe\n",
    "  v['domain'] = v['url'].apply(extract_main_domain)"
   ]
  },
  {
   "cell_type": "code",
   "execution_count": 12,
   "id": "NnGrMALwClPC",
   "metadata": {
    "colab": {
     "base_uri": "https://localhost:8080/",
     "height": 206
    },
    "id": "NnGrMALwClPC",
    "outputId": "6e1700d9-2fa8-45fd-9d1e-ce2166533cbe"
   },
   "outputs": [
    {
     "data": {
      "text/html": [
       "<div>\n",
       "<style scoped>\n",
       "    .dataframe tbody tr th:only-of-type {\n",
       "        vertical-align: middle;\n",
       "    }\n",
       "\n",
       "    .dataframe tbody tr th {\n",
       "        vertical-align: top;\n",
       "    }\n",
       "\n",
       "    .dataframe thead th {\n",
       "        text-align: right;\n",
       "    }\n",
       "</style>\n",
       "<table border=\"1\" class=\"dataframe\">\n",
       "  <thead>\n",
       "    <tr style=\"text-align: right;\">\n",
       "      <th></th>\n",
       "      <th>url</th>\n",
       "      <th>text</th>\n",
       "      <th>domain</th>\n",
       "    </tr>\n",
       "  </thead>\n",
       "  <tbody>\n",
       "    <tr>\n",
       "      <th>0</th>\n",
       "      <td>http://www.schlossparkmarisfeld.de/</td>\n",
       "      <td>Schlosspark Marisfeld - Schlosspark Marisfeld\\...</td>\n",
       "      <td>schlossparkmarisfeld.de</td>\n",
       "    </tr>\n",
       "    <tr>\n",
       "      <th>1</th>\n",
       "      <td>http://www.schlossparkmarisfeld.de/information...</td>\n",
       "      <td>Informationen zur Geschichte des Schlossparks\\...</td>\n",
       "      <td>schlossparkmarisfeld.de</td>\n",
       "    </tr>\n",
       "    <tr>\n",
       "      <th>2</th>\n",
       "      <td>http://www.schlossparkmarisfeld.de/information...</td>\n",
       "      <td>Der Schlosspark Marisfeld - Kleine Parkgeschic...</td>\n",
       "      <td>schlossparkmarisfeld.de</td>\n",
       "    </tr>\n",
       "    <tr>\n",
       "      <th>3</th>\n",
       "      <td>http://www.schlossparkmarisfeld.de/information...</td>\n",
       "      <td>Der Förderverein stellt sich vor\\nDer aktuelle...</td>\n",
       "      <td>schlossparkmarisfeld.de</td>\n",
       "    </tr>\n",
       "    <tr>\n",
       "      <th>4</th>\n",
       "      <td>http://www.schlossparkmarisfeld.de/information...</td>\n",
       "      <td>Die Vereinssatzung - Schlosspark Marisfeld\\nFa...</td>\n",
       "      <td>schlossparkmarisfeld.de</td>\n",
       "    </tr>\n",
       "  </tbody>\n",
       "</table>\n",
       "</div>"
      ],
      "text/plain": [
       "                                                 url  \\\n",
       "0                http://www.schlossparkmarisfeld.de/   \n",
       "1  http://www.schlossparkmarisfeld.de/information...   \n",
       "2  http://www.schlossparkmarisfeld.de/information...   \n",
       "3  http://www.schlossparkmarisfeld.de/information...   \n",
       "4  http://www.schlossparkmarisfeld.de/information...   \n",
       "\n",
       "                                                text                   domain  \n",
       "0  Schlosspark Marisfeld - Schlosspark Marisfeld\\...  schlossparkmarisfeld.de  \n",
       "1  Informationen zur Geschichte des Schlossparks\\...  schlossparkmarisfeld.de  \n",
       "2  Der Schlosspark Marisfeld - Kleine Parkgeschic...  schlossparkmarisfeld.de  \n",
       "3  Der Förderverein stellt sich vor\\nDer aktuelle...  schlossparkmarisfeld.de  \n",
       "4  Die Vereinssatzung - Schlosspark Marisfeld\\nFa...  schlossparkmarisfeld.de  "
      ]
     },
     "execution_count": 12,
     "metadata": {},
     "output_type": "execute_result"
    }
   ],
   "source": [
    "# check one of the dataframes\n",
    "df_DE.head()"
   ]
  },
  {
   "cell_type": "markdown",
   "id": "TTEuzWvOK2Zp",
   "metadata": {
    "id": "TTEuzWvOK2Zp"
   },
   "source": [
    "## Compare term frequencies across corpora"
   ]
  },
  {
   "cell_type": "code",
   "execution_count": 13,
   "id": "cSGHLhDxPxIH",
   "metadata": {
    "id": "cSGHLhDxPxIH"
   },
   "outputs": [],
   "source": [
    "# list terms to compare\n",
    "activities = ['kind','spel','avontuur',\n",
    "              'child','game','adventure',\n",
    "              'kind', 'spiel', 'abenteuer',\n",
    "              'enfant', 'jeu', 'aventure']\n",
    "events = ['feest','bruiloft','bruid','bruidegom',\n",
    "          'party','wedding','bride','groom',\n",
    "          'party', 'hochzeit', 'braut', 'bräutigam',\n",
    "          'fête', 'mariage', 'mariée', 'marié']\n",
    "nobility = ['graaf','baron','hertog',\n",
    "            'earl','baron','duke',\n",
    "            'graf','baron','herzog',\n",
    "            'compte','baron','duc']\n",
    "culture = ['tentoonstelling','museum','tuin','park','collectie',\n",
    "           'exhibition','museum','garden','park','collection',\n",
    "           'ausstellung','museum','garten','park','sammlung',\n",
    "           'exposition','musée','jardin','parc','collection']\n",
    "styles = ['rococo', 'barok', 'renaissance', 'gotiek', # or gotisch\n",
    "          'rococo', 'baroque', 'renaissance', 'gothic',\n",
    "          'rokoko', 'barock', 'renaissance', 'gotik',\n",
    "          'rococo', 'baroque', 'renaissance', 'gothique']"
   ]
  },
  {
   "cell_type": "markdown",
   "id": "JhCcqF8KpiO_",
   "metadata": {
    "id": "JhCcqF8KpiO_"
   },
   "source": [
    "Create texts as 'documents' to count terms and perform tf-idf"
   ]
  },
  {
   "cell_type": "code",
   "execution_count": null,
   "id": "h-pq1rwhrP8L",
   "metadata": {
    "colab": {
     "base_uri": "https://localhost:8080/"
    },
    "id": "h-pq1rwhrP8L",
    "outputId": "543dc424-c90c-424f-dc82-3b4d50e7a273"
   },
   "outputs": [
    {
     "name": "stdout",
     "output_type": "stream",
     "text": [
      "186\n"
     ]
    }
   ],
   "source": [
    "# prototype code to check number of times a term appears in one corpus; use to confirm results of later calculations\n",
    "term = 'architecture'\n",
    "corpus = df_UK\n",
    "term_count = sum([str(item).lower().count(term) for item in corpus['text'].tolist()])\n",
    "print(int(term_count))"
   ]
  },
  {
   "cell_type": "code",
   "execution_count": null,
   "id": "WX_T6TWofy77",
   "metadata": {
    "colab": {
     "base_uri": "https://localhost:8080/"
    },
    "id": "WX_T6TWofy77",
    "outputId": "89fcace0-26d0-4ce7-cea8-24067b454eea"
   },
   "outputs": [
    {
     "data": {
      "text/plain": [
       "{'NL': [1401, 273, 335, 5],\n",
       " 'UK': [701, 1944, 106, 57],\n",
       " 'DE': [268, 592, 66, 3],\n",
       " 'FR': [1040, 694, 21, 71]}"
      ]
     },
     "execution_count": 47,
     "metadata": {},
     "output_type": "execute_result"
    }
   ],
   "source": [
    "# count term frequencies across four dataframes\n",
    "list_to_count = events # replace with the name of a list of terms (above)\n",
    "dataframes = [df_NL, df_UK, df_DE, df_FR] # list of dataframes\n",
    "number_of_terms = int(len(list_to_count) / 4) # calculate the number of terms in 1 language\n",
    "\n",
    "term_count_dict = {}\n",
    "start, end = 0, number_of_terms\n",
    "for i, df in enumerate(dataframes):\n",
    "  term_count_values = []\n",
    "  for term in list_to_count[start:end]:\n",
    "    #print(term)\n",
    "    term_count_column = sum([str(item).lower().count(term) for item in df['text'].tolist()])\n",
    "    #print(int(term_count_column.sum()))\n",
    "    term_count_values.append(int(term_count_column))\n",
    "  start += number_of_terms\n",
    "  end += number_of_terms\n",
    "  term_count_dict[cc_list[i]] = term_count_values\n",
    "\n",
    "term_count_dict"
   ]
  },
  {
   "cell_type": "code",
   "execution_count": null,
   "id": "6S2i31H0xtjk",
   "metadata": {
    "colab": {
     "base_uri": "https://localhost:8080/",
     "height": 807
    },
    "id": "6S2i31H0xtjk",
    "outputId": "ad900a38-d12a-460f-bebf-45fdd3583b2e"
   },
   "outputs": [
    {
     "data": {
      "image/png": "[encoded data removed]",
      "text/plain": [
       "<Figure size 1000x800 with 1 Axes>"
      ]
     },
     "metadata": {},
     "output_type": "display_data"
    }
   ],
   "source": [
    "# Visualize the term count as a stacked bar chart per country\n",
    "theme = 'parties'\n",
    "terms = list_to_count[number_of_terms:number_of_terms*2] # change which section of the list is used in the legend\n",
    "# Create a list of countries (y-axis labels)\n",
    "countries = list(term_count_dict.keys())\n",
    "\n",
    "# Create the stacked bar chart\n",
    "width = 0.45  # Width of the bars\n",
    "\n",
    "fig, ax = plt.subplots(figsize=(10,8))\n",
    "\n",
    "bottom = np.zeros(len(countries))\n",
    "colors = ['#92E0E0', 'red', '#C1E000', '#C192E0','#E05543','#E0C200']\n",
    "\n",
    "# Add horizontal lines for values in the legend\n",
    "for value in [250, 500, 750, 1000, 1250, 1500, 1750, 2000, 2250, 2500, 2750]:\n",
    "    #[100, 200, 300, 400, 500, 600, 700, 800, 900, 1000]\n",
    "    #[250, 500, 750, 1000, 1250, 1500, 1750, 2000, 2250, 2500, 2750]\n",
    "    #[100, 500, 1000, 1500, 2000, 2500, 3000, 3500, 4000]\n",
    "    #[1000, 2000, 3000, 4000, 5000, 6000, 7000, 8000, 9000, 10000]\n",
    "    #[2000, 4000, 6000, 8000, 10000, 12000, 14000, 16000, 18000] # activities\n",
    "    #[2500, 5000, 7500, 10000, 12500, 15000, 17500, 20000, 22500, 25000, 27500] # arts & culture\n",
    "  plt.axhline(y=value, color='grey', linestyle='--', linewidth=0.5)\n",
    "\n",
    "for term_index in range(len(terms)):\n",
    "    term_counts = [term_count_dict[country][term_index] for country in countries]\n",
    "    ax.bar(countries, term_counts, width, label=terms[term_index], bottom=bottom,\n",
    "           color=colors[term_index % len(colors)])\n",
    "    bottom += np.array(term_counts)\n",
    "\n",
    "ax.set_xlabel('Countries', color='white')\n",
    "ax.set_ylabel('Term Counts', color='white')\n",
    "ax.set_title('Terms related to '+theme+' per country', color='white')\n",
    "ax.spines['bottom'].set_color('white')\n",
    "ax.spines['top'].set_color('white')\n",
    "ax.spines['left'].set_color('white')\n",
    "ax.spines['right'].set_color('white')\n",
    "ax.tick_params(axis='x', colors='white')\n",
    "ax.tick_params(axis='y', colors='white')\n",
    "ax.legend()\n",
    "\n",
    "plt.tight_layout()\n",
    "plt.savefig(path+'outputs/2024_'+theme+'.png', transparent=True)\n",
    "plt.show()"
   ]
  },
  {
   "cell_type": "code",
   "execution_count": null,
   "id": "nn52206yG0I8",
   "metadata": {
    "colab": {
     "base_uri": "https://localhost:8080/"
    },
    "id": "nn52206yG0I8",
    "outputId": "3654dc05-9d2e-49a4-bf5e-93d0ba9da139"
   },
   "outputs": [
    {
     "data": {
      "text/plain": [
       "{'NL': [128], 'UK': [186], 'DE': [556], 'FR': [3889]}"
      ]
     },
     "execution_count": 81,
     "metadata": {},
     "output_type": "execute_result"
    }
   ],
   "source": [
    "# count term frequencies across four dataframes\n",
    "terms = ['architectuur', 'architecture', 'architektur', 'architecture'] # replace with the name of a list of terms (above)\n",
    "dataframes = [df_NL, df_UK, df_DE, df_FR] # list of dataframes\n",
    "\n",
    "term_count_dict = {}\n",
    "for i, df in enumerate(dataframes):\n",
    "  term_count_values = []\n",
    "  #print(terms[i])\n",
    "  term_count_column = sum([str(item).lower().count(terms[i]) for item in df['text'].tolist()])\n",
    "  #print(int(term_count_column.sum()))\n",
    "  term_count_values.append(int(term_count_column))\n",
    "  term_count_dict[cc_list[i]] = term_count_values\n",
    "\n",
    "term_count_dict"
   ]
  },
  {
   "cell_type": "code",
   "execution_count": null,
   "id": "FhQpr9-lG0I-",
   "metadata": {
    "colab": {
     "base_uri": "https://localhost:8080/",
     "height": 607
    },
    "id": "FhQpr9-lG0I-",
    "outputId": "f26f7d23-6d84-4fd3-da65-4fc9310d65ee"
   },
   "outputs": [
    {
     "data": {
      "image/png": "[encoded data removed]",
      "text/plain": [
       "<Figure size 1000x600 with 1 Axes>"
      ]
     },
     "metadata": {},
     "output_type": "display_data"
    }
   ],
   "source": [
    "theme = terms[1]\n",
    "# Visualize the term count as a vertical bar chart\n",
    "fig, ax = plt.subplots(figsize=(10, 6))\n",
    "width = 0.45  # Width of the bars\n",
    "# Get the keys and values from the dictionary\n",
    "countries = list(term_count_dict.keys())\n",
    "counts = list(term_count_dict.values())\n",
    "\n",
    "# Flatten the counts list if it contains nested lists\n",
    "if isinstance(counts[0], list):\n",
    "  counts = [item for sublist in counts for item in sublist]\n",
    "\n",
    "# Add horizontal lines for values in the legend\n",
    "for value in [500, 1000, 1500, 2000, 2500, 3000, 3500, 4000]:\n",
    "\n",
    "  plt.axhline(y=value, color='grey', linestyle='--', linewidth=0.5)\n",
    "# Create the bar chart\n",
    "ax.bar(countries, counts, width, color='#eee')\n",
    "\n",
    "# Set the labels and title\n",
    "ax.set_xlabel('Terms', color='white')\n",
    "ax.set_title('Frequency of term \\\"'+theme+'\\\" per country', color='white')\n",
    "ax.spines['bottom'].set_color('white')\n",
    "ax.spines['top'].set_color('white')\n",
    "ax.spines['left'].set_color('white')\n",
    "ax.spines['right'].set_color('white')\n",
    "ax.tick_params(axis='x', colors='white')\n",
    "ax.tick_params(axis='y', colors='white')\n",
    "# Rotate x-axis labels if needed\n",
    "plt.xticks(rotation=0, ha='right', color='white')\n",
    "\n",
    "\n",
    "# Display the chart\n",
    "plt.tight_layout()\n",
    "plt.savefig(path+'outputs/2024_'+theme+'.png', transparent=True)\n",
    "plt.show()\n"
   ]
  },
  {
   "cell_type": "markdown",
   "id": "scTik19V9Ict",
   "metadata": {
    "id": "scTik19V9Ict"
   },
   "source": [
    "## Compare TF-IDF across corpora"
   ]
  },
  {
   "cell_type": "code",
   "execution_count": 14,
   "id": "vCgDQqJf9HHr",
   "metadata": {
    "id": "vCgDQqJf9HHr"
   },
   "outputs": [],
   "source": [
    "from sklearn.feature_extraction.text import TfidfVectorizer\n",
    "\n",
    "# Initiate separate corpora and compute step by step to not overflow the RAM\n",
    "corpus_NL = df_NL['text'].dropna().tolist()\n",
    "corpus_UK = df_UK['text'].dropna().tolist()\n",
    "corpus_DE = df_DE['text'].dropna().tolist()\n",
    "corpus_FR = df_FR['text'].dropna().tolist()"
   ]
  },
  {
   "cell_type": "code",
   "execution_count": 15,
   "id": "0gLtB7nIFODh",
   "metadata": {
    "colab": {
     "base_uri": "https://localhost:8080/"
    },
    "id": "0gLtB7nIFODh",
    "outputId": "032dc2e5-8a86-4fed-badc-0d9fae39fb77"
   },
   "outputs": [
    {
     "name": "stdout",
     "output_type": "stream",
     "text": [
      "6942\n"
     ]
    }
   ],
   "source": [
    "print(len(corpus_UK))"
   ]
  },
  {
   "cell_type": "code",
   "execution_count": 17,
   "id": "qIg4XLLA7wUs",
   "metadata": {
    "id": "qIg4XLLA7wUs"
   },
   "outputs": [
    {
     "data": {
      "text/plain": [
       "\"\\nwith open(path + 'outputs/tfidf_scores_NL.pickle', 'wb') as handle:\\n    pickle.dump(tfidf_scores_NL, handle, protocol=pickle.HIGHEST_PROTOCOL)\\nwith open(path + 'outputs/feature_names_NL.pickle', 'wb') as handle:\\n    pickle.dump(feature_names_NL, handle, protocol=pickle.HIGHEST_PROTOCOL)\\n    \""
      ]
     },
     "execution_count": 17,
     "metadata": {},
     "output_type": "execute_result"
    }
   ],
   "source": [
    "# Calculate tf-idf scores for NL corpus\n",
    "\n",
    "vectorizer_NL = TfidfVectorizer()\n",
    "tfidf_matrix_NL = vectorizer_NL.fit_transform(corpus_NL)\n",
    "feature_names_NL = vectorizer_NL.get_feature_names_out()\n",
    "# Calculate TF-IDF scores for each term in each document\n",
    "tfidf_scores_NL = tfidf_matrix_NL.toarray()\n",
    "\n",
    "# Save the tfidf matrices and feature names\n",
    "'''\n",
    "with open(path + 'outputs/tfidf_scores_NL.pickle', 'wb') as handle:\n",
    "    pickle.dump(tfidf_scores_NL, handle, protocol=pickle.HIGHEST_PROTOCOL)\n",
    "with open(path + 'outputs/feature_names_NL.pickle', 'wb') as handle:\n",
    "    pickle.dump(feature_names_NL, handle, protocol=pickle.HIGHEST_PROTOCOL)\n",
    "    '''"
   ]
  },
  {
   "cell_type": "code",
   "execution_count": null,
   "id": "T3tUVQTzCSdk",
   "metadata": {
    "id": "T3tUVQTzCSdk"
   },
   "outputs": [],
   "source": [
    "# load saved models, to avoid using up all RAM\n",
    "with open(path + 'outputs/tfidf_scores_NL.pickle', 'rb') as handle:\n",
    "    tfidf_scores_NL = pickle.load(handle)\n",
    "with open(path + 'outputs/feature_names_NL.pickle', 'rb') as handle:\n",
    "    feature_names_NL = pickle.load(handle)"
   ]
  },
  {
   "cell_type": "code",
   "execution_count": 18,
   "id": "KPoWpN5Y9lnX",
   "metadata": {
    "id": "KPoWpN5Y9lnX"
   },
   "outputs": [
    {
     "data": {
      "text/plain": [
       "\"\\nwith open(path + 'outputs/tfidf_scores_UK.pickle', 'wb') as handle:\\n    pickle.dump(tfidf_scores_UK, handle, protocol=pickle.HIGHEST_PROTOCOL)\\nwith open(path + 'outputs/feature_names_UK.pickle', 'wb') as handle:\\n    pickle.dump(feature_names_UK, handle, protocol=pickle.HIGHEST_PROTOCOL)\""
      ]
     },
     "execution_count": 18,
     "metadata": {},
     "output_type": "execute_result"
    }
   ],
   "source": [
    "# Calculate tf-idf scores for UK corpus\n",
    "\n",
    "vectorizer_UK = TfidfVectorizer()\n",
    "tfidf_matrix_UK = vectorizer_UK.fit_transform(corpus_UK)\n",
    "feature_names_UK = vectorizer_UK.get_feature_names_out()\n",
    "# Calculate TF-IDF scores for each term in each document\n",
    "tfidf_scores_UK = tfidf_matrix_UK.toarray()\n",
    "'''\n",
    "with open(path + 'outputs/tfidf_scores_UK.pickle', 'wb') as handle:\n",
    "    pickle.dump(tfidf_scores_UK, handle, protocol=pickle.HIGHEST_PROTOCOL)\n",
    "with open(path + 'outputs/feature_names_UK.pickle', 'wb') as handle:\n",
    "    pickle.dump(feature_names_UK, handle, protocol=pickle.HIGHEST_PROTOCOL)'''"
   ]
  },
  {
   "cell_type": "code",
   "execution_count": null,
   "id": "XXhLf0VfCs1V",
   "metadata": {
    "id": "XXhLf0VfCs1V"
   },
   "outputs": [],
   "source": [
    "# load saved models, to avoid using up all RAM\n",
    "with open(path + 'outputs/tfidf_scores_UK.pickle', 'rb') as handle:\n",
    "    tfidf_scores_UK = pickle.load(handle)\n",
    "with open(path + 'outputs/feature_names_UK.pickle', 'rb') as handle:\n",
    "    feature_names_UK = pickle.load(handle)"
   ]
  },
  {
   "cell_type": "code",
   "execution_count": 19,
   "id": "zTOu5sec9mGt",
   "metadata": {
    "id": "zTOu5sec9mGt"
   },
   "outputs": [
    {
     "data": {
      "text/plain": [
       "\"\\nwith open(path + 'outputs/tfidf_scores_DE.pickle', 'wb') as handle:\\n    pickle.dump(tfidf_scores_DE, handle, protocol=pickle.HIGHEST_PROTOCOL)\\nwith open(path + 'outputs/feature_names_DE.pickle', 'wb') as handle:\\n    pickle.dump(feature_names_DE, handle, protocol=pickle.HIGHEST_PROTOCOL)\""
      ]
     },
     "execution_count": 19,
     "metadata": {},
     "output_type": "execute_result"
    }
   ],
   "source": [
    "# Calculate tf-idf scores for DE corpus\n",
    "\n",
    "vectorizer_DE = TfidfVectorizer()\n",
    "tfidf_matrix_DE = vectorizer_DE.fit_transform(corpus_DE)\n",
    "feature_names_DE = vectorizer_DE.get_feature_names_out()\n",
    "# Calculate TF-IDF scores for each term in each document\n",
    "tfidf_scores_DE = tfidf_matrix_DE.toarray()\n",
    "\n",
    "'''\n",
    "with open(path + 'outputs/tfidf_scores_DE.pickle', 'wb') as handle:\n",
    "    pickle.dump(tfidf_scores_DE, handle, protocol=pickle.HIGHEST_PROTOCOL)\n",
    "with open(path + 'outputs/feature_names_DE.pickle', 'wb') as handle:\n",
    "    pickle.dump(feature_names_DE, handle, protocol=pickle.HIGHEST_PROTOCOL)'''"
   ]
  },
  {
   "cell_type": "code",
   "execution_count": null,
   "id": "ww5BXBVdCz0T",
   "metadata": {
    "id": "ww5BXBVdCz0T"
   },
   "outputs": [],
   "source": [
    "# load saved models, to avoid using up all RAM\n",
    "with open(path + 'outputs/tfidf_scores_DE.pickle', 'rb') as handle:\n",
    "    tfidf_scores_DE = pickle.load(handle)\n",
    "with open(path + 'outputs/feature_names_DE.pickle', 'rb') as handle:\n",
    "    feature_names_DE = pickle.load(handle)"
   ]
  },
  {
   "cell_type": "code",
   "execution_count": 20,
   "id": "FscGS9BO9m7d",
   "metadata": {
    "id": "FscGS9BO9m7d"
   },
   "outputs": [
    {
     "data": {
      "text/plain": [
       "\"\\nwith open(path + 'outputs/tfidf_scores_FR.pickle', 'wb') as handle:\\n    pickle.dump(tfidf_scores_FR, handle, protocol=pickle.HIGHEST_PROTOCOL)\\nwith open(path + 'outputs/feature_names_FR.pickle', 'wb') as handle:\\n    pickle.dump(feature_names_FR, handle, protocol=pickle.HIGHEST_PROTOCOL)\""
      ]
     },
     "execution_count": 20,
     "metadata": {},
     "output_type": "execute_result"
    }
   ],
   "source": [
    "# Calculate tf-idf scores for FR corpus\n",
    "\n",
    "vectorizer_FR = TfidfVectorizer()\n",
    "tfidf_matrix_FR = vectorizer_FR.fit_transform(corpus_FR)\n",
    "feature_names_FR = vectorizer_FR.get_feature_names_out()\n",
    "# Calculate TF-IDF scores for each term in each document\n",
    "tfidf_scores_FR = tfidf_matrix_FR.toarray()\n",
    "'''\n",
    "with open(path + 'outputs/tfidf_scores_FR.pickle', 'wb') as handle:\n",
    "    pickle.dump(tfidf_scores_FR, handle, protocol=pickle.HIGHEST_PROTOCOL)\n",
    "with open(path + 'outputs/feature_names_FR.pickle', 'wb') as handle:\n",
    "    pickle.dump(feature_names_FR, handle, protocol=pickle.HIGHEST_PROTOCOL)'''"
   ]
  },
  {
   "cell_type": "code",
   "execution_count": null,
   "id": "Wq_SFyOqCksG",
   "metadata": {
    "id": "Wq_SFyOqCksG"
   },
   "outputs": [],
   "source": [
    "with open(path + 'outputs/tfidf_scores_FR.pickle', 'wb') as handle:\n",
    "    pickle.dump(tfidf_scores_FR, handle, protocol=pickle.HIGHEST_PROTOCOL)\n",
    "with open(path + 'outputs/feature_names_FR.pickle', 'wb') as handle:\n",
    "    pickle.dump(feature_names_FR, handle, protocol=pickle.HIGHEST_PROTOCOL)"
   ]
  },
  {
   "cell_type": "code",
   "execution_count": null,
   "id": "A0SW-NL_EHBH",
   "metadata": {
    "colab": {
     "base_uri": "https://localhost:8080/"
    },
    "id": "A0SW-NL_EHBH",
    "outputId": "ed0d473c-ba4e-4d9f-b440-aa4911173aa2"
   },
   "outputs": [
    {
     "data": {
      "text/plain": [
       "array(['00', '000', '0000', ..., 'ﬁnest', 'ﬁrst', 'ﬂowers'], dtype=object)"
      ]
     },
     "execution_count": 45,
     "metadata": {},
     "output_type": "execute_result"
    }
   ],
   "source": [
    "feature_names_UK"
   ]
  },
  {
   "cell_type": "code",
   "execution_count": 54,
   "id": "BbYXtNLVC6bH",
   "metadata": {
    "colab": {
     "base_uri": "https://localhost:8080/",
     "height": 216
    },
    "id": "BbYXtNLVC6bH",
    "outputId": "4d1a1ce7-3482-437d-8c39-95f8c4064e96"
   },
   "outputs": [
    {
     "data": {
      "text/plain": [
       "{'NL': [0.0007154356731806572, 0.0019353448291872407, 0.00040440569201608147],\n",
       " 'UK': [0.0011734103780235382, 0.0005330887264544085, 0.0012592211744192356],\n",
       " 'DE': [0.0011460390914352476, 0.00011979592398027848, 0.0010664374280878847],\n",
       " 'FR': [0.0011410641233413376, 0.0001949087993802904, 0.0027267206633930477]}"
      ]
     },
     "execution_count": 54,
     "metadata": {},
     "output_type": "execute_result"
    }
   ],
   "source": [
    "list_to_count = nobility # replace with the name of a list of terms activities / events / nobility / culture / styles\n",
    "feature_names = [feature_names_NL, feature_names_UK, feature_names_DE, feature_names_FR] # list of dataframes\n",
    "tfidf_scores = [tfidf_scores_NL, tfidf_scores_UK, tfidf_scores_DE, tfidf_scores_FR]\n",
    "number_of_terms = int(len(list_to_count) / 4) # calculate the number of terms in 1 language\n",
    "\n",
    "term_count_dict = {}\n",
    "start, end = 0, number_of_terms\n",
    "for i, fn in enumerate(feature_names):\n",
    "  term_count_values = []\n",
    "  for term in list_to_count[start:end]:\n",
    "    #print(term)\n",
    "    if term in fn:\n",
    "      #print(term)\n",
    "      term_index = list(fn).index(term)\n",
    "      # Calculate the aggregated TF-IDF score for the term 'park'\n",
    "      total_tfidf_score = tfidf_scores[i][:, term_index].sum()\n",
    "      average_tfidf_score = tfidf_scores[i][:, term_index].mean()\n",
    "    #print(int(term_count_column.sum()))\n",
    "    term_count_values.append(float(average_tfidf_score))\n",
    "  start += number_of_terms\n",
    "  end += number_of_terms\n",
    "  term_count_dict[cc_list[i]] = term_count_values\n",
    "\n",
    "term_count_dict"
   ]
  },
  {
   "cell_type": "code",
   "execution_count": 57,
   "id": "GzQpAtTHA35X",
   "metadata": {
    "colab": {
     "base_uri": "https://localhost:8080/",
     "height": 807
    },
    "id": "GzQpAtTHA35X",
    "outputId": "8b565816-f2d8-4304-e8d6-f72a60a45401"
   },
   "outputs": [
    {
     "data": {
      "image/png": "[encoded data removed]",
      "text/plain": [
       "<Figure size 940x600 with 1 Axes>"
      ]
     },
     "metadata": {},
     "output_type": "display_data"
    }
   ],
   "source": [
    "# Visualize the term count as a stacked bar chart per country\n",
    "theme = list_to_count[number_of_terms+1]\n",
    "terms = list_to_count[number_of_terms:number_of_terms*2] # change which section of the list is used in the legend\n",
    "# Create a list of countries (y-axis labels)\n",
    "countries = list(term_count_dict.keys())\n",
    "\n",
    "# Create the stacked bar chart\n",
    "width = 0.45  # Width of the bars\n",
    "\n",
    "fig, ax = plt.subplots(figsize=(9.4,6))\n",
    "\n",
    "bottom = np.zeros(len(countries))\n",
    "colors = ['#92E0E0', 'red', '#C1E000', '#C192E0','#E05543','#E0C200']\n",
    "\n",
    "# Add horizontal lines for values in the legend\n",
    "for value in [0.0001, 0.0005, 0.001, 0.0015, 0.002, 0.0025, 0.003, 0.0035, 0.004]:\n",
    "    #[0.0001, 0.0005, 0.001, 0.0015, 0.002, 0.0025, 0.003, 0.0035] # nobility\n",
    "    #[0.002, 0.004, 0.006, 0.008, 0.01, 0.012, 0.014] # activities\n",
    "    #[0.005, 0.01, 0.015, 0.02, 0.025, 0.03, 0.035, 0.04, 0.045] # culture\n",
    "    #[0.001, 0.002, 0.003, 0.004, 0.005, 0.006, 0.007, 0.008, 0.009] # events + styles\n",
    "  plt.axhline(y=value, color='grey', linestyle='--', linewidth=0.5)\n",
    "\n",
    "for term_index in range(len(terms)):\n",
    "    term_counts = [term_count_dict[country][term_index] for country in countries]\n",
    "    ax.bar(countries, term_counts, width, label=terms[term_index], bottom=bottom,\n",
    "           color=colors[term_index % len(colors)])\n",
    "    bottom += np.array(term_counts)\n",
    "\n",
    "ax.set_xlabel('Countries', color='white')\n",
    "ax.set_ylabel('Term Counts', color='white')\n",
    "ax.set_title('Terms related to '+theme+' per country', color='white')\n",
    "ax.spines['bottom'].set_color('white')\n",
    "ax.spines['top'].set_color('white')\n",
    "ax.spines['left'].set_color('white')\n",
    "ax.spines['right'].set_color('white')\n",
    "ax.tick_params(axis='x', colors='white')\n",
    "ax.tick_params(axis='y', colors='white')\n",
    "ax.legend()\n",
    "\n",
    "plt.tight_layout()\n",
    "plt.savefig(path+'outputs/2024_tfidf_'+theme+'.png', transparent=True)\n",
    "plt.show()\n"
   ]
  },
  {
   "cell_type": "code",
   "execution_count": null,
   "id": "ebae8516-69c8-4e6a-8eb7-9b40b49dabc3",
   "metadata": {},
   "outputs": [],
   "source": []
  }
 ],
 "metadata": {
  "colab": {
   "provenance": []
  },
  "kernelspec": {
   "display_name": "Python 3 (ipykernel)",
   "language": "python",
   "name": "python3"
  },
  "language_info": {
   "codemirror_mode": {
    "name": "ipython",
    "version": 3
   },
   "file_extension": ".py",
   "mimetype": "text/x-python",
   "name": "python",
   "nbconvert_exporter": "python",
   "pygments_lexer": "ipython3",
   "version": "3.9.6"
  }
 },
 "nbformat": 4,
 "nbformat_minor": 5
}
